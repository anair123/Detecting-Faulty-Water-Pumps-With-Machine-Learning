{
 "cells": [
  {
   "cell_type": "code",
   "execution_count": 71,
   "metadata": {},
   "outputs": [],
   "source": [
    "import numpy as np\n",
    "import pandas as pd"
   ]
  },
  {
   "cell_type": "code",
   "execution_count": 72,
   "id": "e08dfe5d",
   "metadata": {},
   "outputs": [],
   "source": [
    "train_values = pd.read_csv('data/train_values.csv')\n",
    "train_label = pd.read_csv('data/train_labels.csv')"
   ]
  },
  {
   "cell_type": "code",
   "execution_count": 73,
   "id": "efe14c4c",
   "metadata": {},
   "outputs": [],
   "source": [
    "# merge the two data frames\n",
    "df = train_values.merge(train_label, on='id')"
   ]
  },
  {
   "cell_type": "code",
   "execution_count": 74,
   "id": "72726eae",
   "metadata": {},
   "outputs": [
    {
     "data": {
      "text/plain": [
       "True"
      ]
     },
     "execution_count": 74,
     "metadata": {},
     "output_type": "execute_result"
    }
   ],
   "source": [
    "# check that all rows were in the joined dataset\n",
    "len(df) == len(train_label) == len(train_values)"
   ]
  },
  {
   "cell_type": "code",
   "execution_count": 75,
   "id": "1380246f",
   "metadata": {},
   "outputs": [
    {
     "data": {
      "text/plain": [
       "Index(['id', 'amount_tsh', 'date_recorded', 'funder', 'gps_height',\n",
       "       'installer', 'longitude', 'latitude', 'wpt_name', 'num_private',\n",
       "       'basin', 'subvillage', 'region', 'region_code', 'district_code', 'lga',\n",
       "       'ward', 'population', 'public_meeting', 'recorded_by',\n",
       "       'scheme_management', 'scheme_name', 'permit', 'construction_year',\n",
       "       'extraction_type', 'extraction_type_group', 'extraction_type_class',\n",
       "       'management', 'management_group', 'payment', 'payment_type',\n",
       "       'water_quality', 'quality_group', 'quantity', 'quantity_group',\n",
       "       'source', 'source_type', 'source_class', 'waterpoint_type',\n",
       "       'waterpoint_type_group', 'status_group'],\n",
       "      dtype='object')"
      ]
     },
     "execution_count": 75,
     "metadata": {},
     "output_type": "execute_result"
    }
   ],
   "source": [
    "df.columns"
   ]
  },
  {
   "cell_type": "code",
   "execution_count": 76,
   "id": "283cf637",
   "metadata": {},
   "outputs": [
    {
     "data": {
      "text/html": [
       "<div>\n",
       "<style scoped>\n",
       "    .dataframe tbody tr th:only-of-type {\n",
       "        vertical-align: middle;\n",
       "    }\n",
       "\n",
       "    .dataframe tbody tr th {\n",
       "        vertical-align: top;\n",
       "    }\n",
       "\n",
       "    .dataframe thead th {\n",
       "        text-align: right;\n",
       "    }\n",
       "</style>\n",
       "<table border=\"1\" class=\"dataframe\">\n",
       "  <thead>\n",
       "    <tr style=\"text-align: right;\">\n",
       "      <th></th>\n",
       "      <th>id</th>\n",
       "      <th>amount_tsh</th>\n",
       "      <th>date_recorded</th>\n",
       "      <th>funder</th>\n",
       "      <th>gps_height</th>\n",
       "      <th>installer</th>\n",
       "      <th>longitude</th>\n",
       "      <th>latitude</th>\n",
       "      <th>wpt_name</th>\n",
       "      <th>num_private</th>\n",
       "      <th>...</th>\n",
       "      <th>water_quality</th>\n",
       "      <th>quality_group</th>\n",
       "      <th>quantity</th>\n",
       "      <th>quantity_group</th>\n",
       "      <th>source</th>\n",
       "      <th>source_type</th>\n",
       "      <th>source_class</th>\n",
       "      <th>waterpoint_type</th>\n",
       "      <th>waterpoint_type_group</th>\n",
       "      <th>status_group</th>\n",
       "    </tr>\n",
       "  </thead>\n",
       "  <tbody>\n",
       "  </tbody>\n",
       "</table>\n",
       "<p>0 rows × 41 columns</p>\n",
       "</div>"
      ],
      "text/plain": [
       "Empty DataFrame\n",
       "Columns: [id, amount_tsh, date_recorded, funder, gps_height, installer, longitude, latitude, wpt_name, num_private, basin, subvillage, region, region_code, district_code, lga, ward, population, public_meeting, recorded_by, scheme_management, scheme_name, permit, construction_year, extraction_type, extraction_type_group, extraction_type_class, management, management_group, payment, payment_type, water_quality, quality_group, quantity, quantity_group, source, source_type, source_class, waterpoint_type, waterpoint_type_group, status_group]\n",
       "Index: []\n",
       "\n",
       "[0 rows x 41 columns]"
      ]
     },
     "execution_count": 76,
     "metadata": {},
     "output_type": "execute_result"
    }
   ],
   "source": [
    "# search for duplicates \n",
    "df[df['id'].duplicated()]"
   ]
  },
  {
   "cell_type": "code",
   "execution_count": 77,
   "id": "72abafcc",
   "metadata": {},
   "outputs": [
    {
     "data": {
      "text/html": [
       "<div>\n",
       "<style scoped>\n",
       "    .dataframe tbody tr th:only-of-type {\n",
       "        vertical-align: middle;\n",
       "    }\n",
       "\n",
       "    .dataframe tbody tr th {\n",
       "        vertical-align: top;\n",
       "    }\n",
       "\n",
       "    .dataframe thead th {\n",
       "        text-align: right;\n",
       "    }\n",
       "</style>\n",
       "<table border=\"1\" class=\"dataframe\">\n",
       "  <thead>\n",
       "    <tr style=\"text-align: right;\">\n",
       "      <th></th>\n",
       "      <th>column</th>\n",
       "      <th>number of missing values</th>\n",
       "    </tr>\n",
       "  </thead>\n",
       "  <tbody>\n",
       "    <tr>\n",
       "      <th>3</th>\n",
       "      <td>funder</td>\n",
       "      <td>3637</td>\n",
       "    </tr>\n",
       "    <tr>\n",
       "      <th>5</th>\n",
       "      <td>installer</td>\n",
       "      <td>3655</td>\n",
       "    </tr>\n",
       "    <tr>\n",
       "      <th>8</th>\n",
       "      <td>wpt_name</td>\n",
       "      <td>2</td>\n",
       "    </tr>\n",
       "    <tr>\n",
       "      <th>11</th>\n",
       "      <td>subvillage</td>\n",
       "      <td>371</td>\n",
       "    </tr>\n",
       "    <tr>\n",
       "      <th>18</th>\n",
       "      <td>public_meeting</td>\n",
       "      <td>3334</td>\n",
       "    </tr>\n",
       "    <tr>\n",
       "      <th>20</th>\n",
       "      <td>scheme_management</td>\n",
       "      <td>3878</td>\n",
       "    </tr>\n",
       "    <tr>\n",
       "      <th>21</th>\n",
       "      <td>scheme_name</td>\n",
       "      <td>28810</td>\n",
       "    </tr>\n",
       "    <tr>\n",
       "      <th>22</th>\n",
       "      <td>permit</td>\n",
       "      <td>3056</td>\n",
       "    </tr>\n",
       "  </tbody>\n",
       "</table>\n",
       "</div>"
      ],
      "text/plain": [
       "               column  number of missing values\n",
       "3              funder                      3637\n",
       "5           installer                      3655\n",
       "8            wpt_name                         2\n",
       "11         subvillage                       371\n",
       "18     public_meeting                      3334\n",
       "20  scheme_management                      3878\n",
       "21        scheme_name                     28810\n",
       "22             permit                      3056"
      ]
     },
     "execution_count": 77,
     "metadata": {},
     "output_type": "execute_result"
    }
   ],
   "source": [
    "missing = pd.DataFrame(df.isnull().sum()).reset_index()\n",
    "missing.columns = ['column', 'number of missing values']\n",
    "missing[missing['number of missing values']>0]"
   ]
  },
  {
   "cell_type": "code",
   "execution_count": null,
   "id": "ca697fd4",
   "metadata": {},
   "outputs": [],
   "source": []
  },
  {
   "attachments": {},
   "cell_type": "markdown",
   "id": "d4690675",
   "metadata": {},
   "source": [
    "### Remove Unwanted Fields"
   ]
  },
  {
   "cell_type": "code",
   "execution_count": null,
   "id": "8ccb402b",
   "metadata": {},
   "outputs": [],
   "source": []
  },
  {
   "cell_type": "code",
   "execution_count": 78,
   "id": "6835f6db",
   "metadata": {},
   "outputs": [],
   "source": [
    "# uneeded columns (fields that don't help predict the target label)\n",
    "unneeded_col = ['id', 'recorded_by', 'wpt_name']\n",
    "df = df.drop(unneeded_col, axis=1)\n",
    "\n"
   ]
  },
  {
   "attachments": {},
   "cell_type": "markdown",
   "id": "b41cfcb2",
   "metadata": {},
   "source": [
    "### Handling Fields with Too Many Unique Values"
   ]
  },
  {
   "cell_type": "code",
   "execution_count": 79,
   "id": "caf562c4",
   "metadata": {},
   "outputs": [
    {
     "data": {
      "text/plain": [
       "{'date_recorded': 356,\n",
       " 'funder': 1896,\n",
       " 'installer': 2145,\n",
       " 'basin': 9,\n",
       " 'subvillage': 19287,\n",
       " 'region': 21,\n",
       " 'region_code': 27,\n",
       " 'district_code': 20,\n",
       " 'lga': 125,\n",
       " 'ward': 2092,\n",
       " 'public_meeting': 2,\n",
       " 'scheme_management': 11,\n",
       " 'scheme_name': 2695,\n",
       " 'permit': 2,\n",
       " 'extraction_type': 18,\n",
       " 'extraction_type_group': 13,\n",
       " 'extraction_type_class': 7,\n",
       " 'management': 12,\n",
       " 'management_group': 5,\n",
       " 'payment': 7,\n",
       " 'payment_type': 7,\n",
       " 'water_quality': 8,\n",
       " 'quality_group': 6,\n",
       " 'quantity': 5,\n",
       " 'quantity_group': 5,\n",
       " 'source': 10,\n",
       " 'source_type': 7,\n",
       " 'source_class': 3,\n",
       " 'waterpoint_type': 7,\n",
       " 'waterpoint_type_group': 6,\n",
       " 'status_group': 3}"
      ]
     },
     "execution_count": 79,
     "metadata": {},
     "output_type": "execute_result"
    }
   ],
   "source": [
    "# get all categorical variables\n",
    "df['region_code'] = df['region_code'].astype('object')\n",
    "df['district_code'] = df['district_code'].astype('object')\n",
    "\n",
    "cat_var = [col for col in df.columns if df[col].dtypes == 'object']\n",
    "col_count = {}\n",
    "\n",
    "# find number of unique values in each categorical variable\n",
    "for col in cat_var:\n",
    "    count = df[col].nunique()\n",
    "    col_count[col] = count\n",
    "col_count"
   ]
  },
  {
   "cell_type": "code",
   "execution_count": 80,
   "id": "3018ab5c",
   "metadata": {},
   "outputs": [],
   "source": [
    "# redundant data (fields with information provided in other columns)\n",
    "redundant_col = ['subvillage','latitude', 'longitude', 'region_code', 'district_code', 'lga', 'ward', 'scheme_name', 'extraction_type', 'extraction_type_group', 'payment', 'water_quality', 'quantity', 'source', 'source_type', 'waterpoint_type']\n",
    "\n",
    "df = df.drop(redundant_col, axis=1)"
   ]
  },
  {
   "attachments": {},
   "cell_type": "markdown",
   "id": "6ca6943c",
   "metadata": {},
   "source": [
    "### Handle Fields with Missing Values"
   ]
  },
  {
   "cell_type": "code",
   "execution_count": 85,
   "id": "131e330e",
   "metadata": {},
   "outputs": [
    {
     "data": {
      "text/plain": [
       "amount_tsh                0.000000\n",
       "funder                    6.122896\n",
       "gps_height                0.000000\n",
       "installer                 6.153199\n",
       "num_private               0.000000\n",
       "basin                     0.000000\n",
       "region                    0.000000\n",
       "population                0.000000\n",
       "public_meeting            5.612795\n",
       "scheme_management         6.528620\n",
       "scheme_name              48.501684\n",
       "permit                    5.144781\n",
       "extraction_type_class     0.000000\n",
       "management                0.000000\n",
       "management_group          0.000000\n",
       "payment_type              0.000000\n",
       "quality_group             0.000000\n",
       "quantity_group            0.000000\n",
       "source_class              0.000000\n",
       "waterpoint_type_group     0.000000\n",
       "status_group              0.000000\n",
       "age                       0.000000\n",
       "dtype: float64"
      ]
     },
     "execution_count": 85,
     "metadata": {},
     "output_type": "execute_result"
    }
   ],
   "source": [
    "df.isnull().sum()/len(df)*100"
   ]
  },
  {
   "attachments": {},
   "cell_type": "markdown",
   "id": "e8bbfd0b",
   "metadata": {},
   "source": [
    "### Handle Date Values"
   ]
  },
  {
   "cell_type": "code",
   "execution_count": 82,
   "id": "a777fec9",
   "metadata": {},
   "outputs": [],
   "source": [
    "# derive age of water pump (i.e., years since construction)\n",
    "df['construction_year'] = pd.to_datetime(df['construction_year'])\n",
    "df['date_recorded'] = pd.to_datetime(df['date_recorded'])\n",
    "df['age'] = (df['date_recorded'] - df['construction_year']) / np.timedelta64(1, 'Y')\n",
    "\n",
    "# delete construction_year and date_recorded columns \n",
    "df = df.drop(['construction_year', 'date_recorded'], axis=1)"
   ]
  },
  {
   "cell_type": "markdown",
   "id": "bb71356c",
   "metadata": {},
   "source": []
  }
 ],
 "metadata": {
  "kernelspec": {
   "display_name": "venv",
   "language": "python",
   "name": "python3"
  },
  "language_info": {
   "codemirror_mode": {
    "name": "ipython",
    "version": 3
   },
   "file_extension": ".py",
   "mimetype": "text/x-python",
   "name": "python",
   "nbconvert_exporter": "python",
   "pygments_lexer": "ipython3",
   "version": "3.9.13"
  }
 },
 "nbformat": 4,
 "nbformat_minor": 5
}
