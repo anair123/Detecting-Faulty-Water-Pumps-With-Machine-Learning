{
 "cells": [
  {
   "cell_type": "code",
   "execution_count": 51,
   "metadata": {},
   "outputs": [],
   "source": [
    "import numpy as np\n",
    "import pandas as pd\n",
    "import seaborn as sns\n",
    "from sklearn.preprocessing import LabelEncoder\n",
    "from sklearn.feature_selection import chi2\n",
    "import matplotlib.pyplot as plt\n",
    "from sklearn.feature_selection import SelectKBest\n",
    "from sklearn.feature_selection import f_classif"
   ]
  },
  {
   "cell_type": "code",
   "execution_count": 2,
   "id": "e08dfe5d",
   "metadata": {},
   "outputs": [],
   "source": [
    "train_values = pd.read_csv('data/train_values.csv')\n",
    "train_label = pd.read_csv('data/train_labels.csv')"
   ]
  },
  {
   "cell_type": "code",
   "execution_count": 3,
   "id": "efe14c4c",
   "metadata": {},
   "outputs": [],
   "source": [
    "# merge the two data frames\n",
    "df = train_values.merge(train_label, on='id')"
   ]
  },
  {
   "cell_type": "code",
   "execution_count": 4,
   "id": "72726eae",
   "metadata": {},
   "outputs": [
    {
     "data": {
      "text/plain": [
       "True"
      ]
     },
     "execution_count": 4,
     "metadata": {},
     "output_type": "execute_result"
    }
   ],
   "source": [
    "# check that all rows were in the joined dataset\n",
    "len(df) == len(train_label) == len(train_values)"
   ]
  },
  {
   "cell_type": "code",
   "execution_count": 5,
   "id": "1380246f",
   "metadata": {},
   "outputs": [
    {
     "data": {
      "text/plain": [
       "Index(['id', 'amount_tsh', 'date_recorded', 'funder', 'gps_height',\n",
       "       'installer', 'longitude', 'latitude', 'wpt_name', 'num_private',\n",
       "       'basin', 'subvillage', 'region', 'region_code', 'district_code', 'lga',\n",
       "       'ward', 'population', 'public_meeting', 'recorded_by',\n",
       "       'scheme_management', 'scheme_name', 'permit', 'construction_year',\n",
       "       'extraction_type', 'extraction_type_group', 'extraction_type_class',\n",
       "       'management', 'management_group', 'payment', 'payment_type',\n",
       "       'water_quality', 'quality_group', 'quantity', 'quantity_group',\n",
       "       'source', 'source_type', 'source_class', 'waterpoint_type',\n",
       "       'waterpoint_type_group', 'status_group'],\n",
       "      dtype='object')"
      ]
     },
     "execution_count": 5,
     "metadata": {},
     "output_type": "execute_result"
    }
   ],
   "source": [
    "df.columns"
   ]
  },
  {
   "cell_type": "code",
   "execution_count": 6,
   "id": "283cf637",
   "metadata": {},
   "outputs": [
    {
     "data": {
      "text/html": [
       "<div>\n",
       "<style scoped>\n",
       "    .dataframe tbody tr th:only-of-type {\n",
       "        vertical-align: middle;\n",
       "    }\n",
       "\n",
       "    .dataframe tbody tr th {\n",
       "        vertical-align: top;\n",
       "    }\n",
       "\n",
       "    .dataframe thead th {\n",
       "        text-align: right;\n",
       "    }\n",
       "</style>\n",
       "<table border=\"1\" class=\"dataframe\">\n",
       "  <thead>\n",
       "    <tr style=\"text-align: right;\">\n",
       "      <th></th>\n",
       "      <th>id</th>\n",
       "      <th>amount_tsh</th>\n",
       "      <th>date_recorded</th>\n",
       "      <th>funder</th>\n",
       "      <th>gps_height</th>\n",
       "      <th>installer</th>\n",
       "      <th>longitude</th>\n",
       "      <th>latitude</th>\n",
       "      <th>wpt_name</th>\n",
       "      <th>num_private</th>\n",
       "      <th>...</th>\n",
       "      <th>water_quality</th>\n",
       "      <th>quality_group</th>\n",
       "      <th>quantity</th>\n",
       "      <th>quantity_group</th>\n",
       "      <th>source</th>\n",
       "      <th>source_type</th>\n",
       "      <th>source_class</th>\n",
       "      <th>waterpoint_type</th>\n",
       "      <th>waterpoint_type_group</th>\n",
       "      <th>status_group</th>\n",
       "    </tr>\n",
       "  </thead>\n",
       "  <tbody>\n",
       "  </tbody>\n",
       "</table>\n",
       "<p>0 rows × 41 columns</p>\n",
       "</div>"
      ],
      "text/plain": [
       "Empty DataFrame\n",
       "Columns: [id, amount_tsh, date_recorded, funder, gps_height, installer, longitude, latitude, wpt_name, num_private, basin, subvillage, region, region_code, district_code, lga, ward, population, public_meeting, recorded_by, scheme_management, scheme_name, permit, construction_year, extraction_type, extraction_type_group, extraction_type_class, management, management_group, payment, payment_type, water_quality, quality_group, quantity, quantity_group, source, source_type, source_class, waterpoint_type, waterpoint_type_group, status_group]\n",
       "Index: []\n",
       "\n",
       "[0 rows x 41 columns]"
      ]
     },
     "execution_count": 6,
     "metadata": {},
     "output_type": "execute_result"
    }
   ],
   "source": [
    "# search for duplicates \n",
    "df[df['id'].duplicated()]"
   ]
  },
  {
   "cell_type": "code",
   "execution_count": 7,
   "id": "72abafcc",
   "metadata": {},
   "outputs": [
    {
     "data": {
      "text/html": [
       "<div>\n",
       "<style scoped>\n",
       "    .dataframe tbody tr th:only-of-type {\n",
       "        vertical-align: middle;\n",
       "    }\n",
       "\n",
       "    .dataframe tbody tr th {\n",
       "        vertical-align: top;\n",
       "    }\n",
       "\n",
       "    .dataframe thead th {\n",
       "        text-align: right;\n",
       "    }\n",
       "</style>\n",
       "<table border=\"1\" class=\"dataframe\">\n",
       "  <thead>\n",
       "    <tr style=\"text-align: right;\">\n",
       "      <th></th>\n",
       "      <th>column</th>\n",
       "      <th>number of missing values</th>\n",
       "    </tr>\n",
       "  </thead>\n",
       "  <tbody>\n",
       "    <tr>\n",
       "      <th>3</th>\n",
       "      <td>funder</td>\n",
       "      <td>3637</td>\n",
       "    </tr>\n",
       "    <tr>\n",
       "      <th>5</th>\n",
       "      <td>installer</td>\n",
       "      <td>3655</td>\n",
       "    </tr>\n",
       "    <tr>\n",
       "      <th>8</th>\n",
       "      <td>wpt_name</td>\n",
       "      <td>2</td>\n",
       "    </tr>\n",
       "    <tr>\n",
       "      <th>11</th>\n",
       "      <td>subvillage</td>\n",
       "      <td>371</td>\n",
       "    </tr>\n",
       "    <tr>\n",
       "      <th>18</th>\n",
       "      <td>public_meeting</td>\n",
       "      <td>3334</td>\n",
       "    </tr>\n",
       "    <tr>\n",
       "      <th>20</th>\n",
       "      <td>scheme_management</td>\n",
       "      <td>3878</td>\n",
       "    </tr>\n",
       "    <tr>\n",
       "      <th>21</th>\n",
       "      <td>scheme_name</td>\n",
       "      <td>28810</td>\n",
       "    </tr>\n",
       "    <tr>\n",
       "      <th>22</th>\n",
       "      <td>permit</td>\n",
       "      <td>3056</td>\n",
       "    </tr>\n",
       "  </tbody>\n",
       "</table>\n",
       "</div>"
      ],
      "text/plain": [
       "               column  number of missing values\n",
       "3              funder                      3637\n",
       "5           installer                      3655\n",
       "8            wpt_name                         2\n",
       "11         subvillage                       371\n",
       "18     public_meeting                      3334\n",
       "20  scheme_management                      3878\n",
       "21        scheme_name                     28810\n",
       "22             permit                      3056"
      ]
     },
     "execution_count": 7,
     "metadata": {},
     "output_type": "execute_result"
    }
   ],
   "source": [
    "missing = pd.DataFrame(df.isnull().sum()).reset_index()\n",
    "missing.columns = ['column', 'number of missing values']\n",
    "missing[missing['number of missing values']>0]"
   ]
  },
  {
   "cell_type": "code",
   "execution_count": null,
   "id": "ca697fd4",
   "metadata": {},
   "outputs": [],
   "source": []
  },
  {
   "attachments": {},
   "cell_type": "markdown",
   "id": "d4690675",
   "metadata": {},
   "source": [
    "### Remove Unwanted Fields"
   ]
  },
  {
   "cell_type": "code",
   "execution_count": null,
   "id": "8ccb402b",
   "metadata": {},
   "outputs": [],
   "source": []
  },
  {
   "cell_type": "code",
   "execution_count": 8,
   "id": "6835f6db",
   "metadata": {},
   "outputs": [],
   "source": [
    "# uneeded columns (fields that don't help predict the target label)\n",
    "unneeded_col = ['id', 'recorded_by', 'wpt_name']\n",
    "df = df.drop(unneeded_col, axis=1)\n",
    "\n"
   ]
  },
  {
   "attachments": {},
   "cell_type": "markdown",
   "id": "b41cfcb2",
   "metadata": {},
   "source": [
    "### Handling Fields with Too Many Unique Values"
   ]
  },
  {
   "cell_type": "code",
   "execution_count": 9,
   "id": "caf562c4",
   "metadata": {},
   "outputs": [
    {
     "data": {
      "text/plain": [
       "{'date_recorded': 356,\n",
       " 'funder': 1896,\n",
       " 'installer': 2145,\n",
       " 'basin': 9,\n",
       " 'subvillage': 19287,\n",
       " 'region': 21,\n",
       " 'region_code': 27,\n",
       " 'district_code': 20,\n",
       " 'lga': 125,\n",
       " 'ward': 2092,\n",
       " 'public_meeting': 2,\n",
       " 'scheme_management': 11,\n",
       " 'scheme_name': 2695,\n",
       " 'permit': 2,\n",
       " 'extraction_type': 18,\n",
       " 'extraction_type_group': 13,\n",
       " 'extraction_type_class': 7,\n",
       " 'management': 12,\n",
       " 'management_group': 5,\n",
       " 'payment': 7,\n",
       " 'payment_type': 7,\n",
       " 'water_quality': 8,\n",
       " 'quality_group': 6,\n",
       " 'quantity': 5,\n",
       " 'quantity_group': 5,\n",
       " 'source': 10,\n",
       " 'source_type': 7,\n",
       " 'source_class': 3,\n",
       " 'waterpoint_type': 7,\n",
       " 'waterpoint_type_group': 6,\n",
       " 'status_group': 3}"
      ]
     },
     "execution_count": 9,
     "metadata": {},
     "output_type": "execute_result"
    }
   ],
   "source": [
    "# get all categorical variables\n",
    "df['region_code'] = df['region_code'].astype('object')\n",
    "df['district_code'] = df['district_code'].astype('object')\n",
    "\n",
    "cat_var = [col for col in df.columns if df[col].dtypes == 'object']\n",
    "col_count = {}\n",
    "\n",
    "# find number of unique values in each categorical variable\n",
    "for col in cat_var:\n",
    "    count = df[col].nunique()\n",
    "    col_count[col] = count\n",
    "col_count"
   ]
  },
  {
   "cell_type": "code",
   "execution_count": 10,
   "id": "3018ab5c",
   "metadata": {},
   "outputs": [],
   "source": [
    "# redundant data (fields with information provided in other columns)\n",
    "redundant_col = ['subvillage','latitude', 'longitude', 'region_code', 'district_code', 'lga', 'ward', 'scheme_name', 'extraction_type', 'extraction_type_group', 'payment', 'water_quality', 'quantity', 'source', 'source_type', 'waterpoint_type']\n",
    "\n",
    "df = df.drop(redundant_col, axis=1)"
   ]
  },
  {
   "attachments": {},
   "cell_type": "markdown",
   "id": "6ca6943c",
   "metadata": {},
   "source": [
    "### Handle Fields with Missing Values"
   ]
  },
  {
   "cell_type": "code",
   "execution_count": 14,
   "id": "0fb2ef1b",
   "metadata": {},
   "outputs": [
    {
     "data": {
      "text/plain": [
       "{'funder': 1896,\n",
       " 'installer': 2145,\n",
       " 'basin': 9,\n",
       " 'region': 21,\n",
       " 'public_meeting': 2,\n",
       " 'scheme_management': 11,\n",
       " 'permit': 2,\n",
       " 'extraction_type_class': 7,\n",
       " 'management': 12,\n",
       " 'management_group': 5,\n",
       " 'payment_type': 7,\n",
       " 'quality_group': 6,\n",
       " 'quantity_group': 5,\n",
       " 'source_class': 3,\n",
       " 'waterpoint_type_group': 6,\n",
       " 'status_group': 3}"
      ]
     },
     "execution_count": 14,
     "metadata": {},
     "output_type": "execute_result"
    }
   ],
   "source": [
    "cat_var = [col for col in df.columns if df[col].dtypes == 'object']\n",
    "col_count = {}\n",
    "\n",
    "# find number of unique values in each categorical variable\n",
    "for col in cat_var:\n",
    "    count = df[col].nunique()\n",
    "    col_count[col] = count\n",
    "col_count"
   ]
  },
  {
   "cell_type": "code",
   "execution_count": 17,
   "id": "131e330e",
   "metadata": {},
   "outputs": [
    {
     "data": {
      "text/html": [
       "<div>\n",
       "<style scoped>\n",
       "    .dataframe tbody tr th:only-of-type {\n",
       "        vertical-align: middle;\n",
       "    }\n",
       "\n",
       "    .dataframe tbody tr th {\n",
       "        vertical-align: top;\n",
       "    }\n",
       "\n",
       "    .dataframe thead th {\n",
       "        text-align: right;\n",
       "    }\n",
       "</style>\n",
       "<table border=\"1\" class=\"dataframe\">\n",
       "  <thead>\n",
       "    <tr style=\"text-align: right;\">\n",
       "      <th></th>\n",
       "      <th>column</th>\n",
       "      <th>% missing values</th>\n",
       "    </tr>\n",
       "  </thead>\n",
       "  <tbody>\n",
       "    <tr>\n",
       "      <th>1</th>\n",
       "      <td>funder</td>\n",
       "      <td>6.122896</td>\n",
       "    </tr>\n",
       "    <tr>\n",
       "      <th>3</th>\n",
       "      <td>installer</td>\n",
       "      <td>6.153199</td>\n",
       "    </tr>\n",
       "    <tr>\n",
       "      <th>8</th>\n",
       "      <td>public_meeting</td>\n",
       "      <td>5.612795</td>\n",
       "    </tr>\n",
       "    <tr>\n",
       "      <th>9</th>\n",
       "      <td>scheme_management</td>\n",
       "      <td>6.528620</td>\n",
       "    </tr>\n",
       "    <tr>\n",
       "      <th>10</th>\n",
       "      <td>permit</td>\n",
       "      <td>5.144781</td>\n",
       "    </tr>\n",
       "  </tbody>\n",
       "</table>\n",
       "</div>"
      ],
      "text/plain": [
       "               column  % missing values\n",
       "1              funder          6.122896\n",
       "3           installer          6.153199\n",
       "8      public_meeting          5.612795\n",
       "9   scheme_management          6.528620\n",
       "10             permit          5.144781"
      ]
     },
     "execution_count": 17,
     "metadata": {},
     "output_type": "execute_result"
    }
   ],
   "source": [
    "missing = pd.DataFrame(df.isnull().sum()/len(df)*100).reset_index()\n",
    "missing.columns = ['column', '% missing values']\n",
    "missing[missing['% missing values']>0]"
   ]
  },
  {
   "attachments": {},
   "cell_type": "markdown",
   "id": "e8bbfd0b",
   "metadata": {},
   "source": [
    "### Handle Date Values"
   ]
  },
  {
   "cell_type": "code",
   "execution_count": 12,
   "id": "a777fec9",
   "metadata": {},
   "outputs": [],
   "source": [
    "# derive age of water pump (i.e., years since construction)\n",
    "df['construction_year'] = pd.to_datetime(df['construction_year'])\n",
    "df['date_recorded'] = pd.to_datetime(df['date_recorded'])\n",
    "df['age'] = (df['date_recorded'] - df['construction_year']) / np.timedelta64(1, 'Y')\n",
    "\n",
    "# delete construction_year and date_recorded columns \n",
    "df = df.drop(['construction_year', 'date_recorded'], axis=1)"
   ]
  },
  {
   "cell_type": "code",
   "execution_count": 26,
   "id": "c6852ced",
   "metadata": {},
   "outputs": [
    {
     "data": {
      "text/plain": [
       "['amount_tsh', 'gps_height', 'num_private', 'population', 'age']"
      ]
     },
     "execution_count": 26,
     "metadata": {},
     "output_type": "execute_result"
    }
   ],
   "source": [
    "# get quantifiable variables\n",
    "num_var = [col for col in df.columns if df[col].dtypes in ['float64', 'int64']]\n",
    "num_var"
   ]
  },
  {
   "attachments": {},
   "cell_type": "markdown",
   "id": "e00674e6",
   "metadata": {},
   "source": [
    "### Testing Numerical Features With ANOVA"
   ]
  },
  {
   "cell_type": "code",
   "execution_count": 48,
   "id": "f5a46aa1",
   "metadata": {},
   "outputs": [
    {
     "data": {
      "text/html": [
       "<div>\n",
       "<style scoped>\n",
       "    .dataframe tbody tr th:only-of-type {\n",
       "        vertical-align: middle;\n",
       "    }\n",
       "\n",
       "    .dataframe tbody tr th {\n",
       "        vertical-align: top;\n",
       "    }\n",
       "\n",
       "    .dataframe thead th {\n",
       "        text-align: right;\n",
       "    }\n",
       "</style>\n",
       "<table border=\"1\" class=\"dataframe\">\n",
       "  <thead>\n",
       "    <tr style=\"text-align: right;\">\n",
       "      <th></th>\n",
       "      <th>amount_tsh</th>\n",
       "      <th>gps_height</th>\n",
       "      <th>num_private</th>\n",
       "      <th>population</th>\n",
       "      <th>age</th>\n",
       "      <th>status_group</th>\n",
       "    </tr>\n",
       "  </thead>\n",
       "  <tbody>\n",
       "    <tr>\n",
       "      <th>0</th>\n",
       "      <td>6000.0</td>\n",
       "      <td>1390</td>\n",
       "      <td>0</td>\n",
       "      <td>109</td>\n",
       "      <td>41.224658</td>\n",
       "      <td>functional</td>\n",
       "    </tr>\n",
       "  </tbody>\n",
       "</table>\n",
       "</div>"
      ],
      "text/plain": [
       "   amount_tsh  gps_height  num_private  population        age status_group\n",
       "0      6000.0        1390            0         109  41.224658   functional"
      ]
     },
     "execution_count": 48,
     "metadata": {},
     "output_type": "execute_result"
    }
   ],
   "source": []
  },
  {
   "cell_type": "code",
   "execution_count": 71,
   "id": "74d35631",
   "metadata": {},
   "outputs": [
    {
     "data": {
      "text/plain": [
       "<Axes: >"
      ]
     },
     "execution_count": 71,
     "metadata": {},
     "output_type": "execute_result"
    },
    {
     "data": {
      "image/png": "[encoded data removed]",
      "text/plain": [
       "<Figure size 640x480 with 1 Axes>"
      ]
     },
     "metadata": {},
     "output_type": "display_data"
    }
   ],
   "source": [
    "# copy the dataset for ANOVA test\n",
    "df_int = df.copy(deep=True)\n",
    "\n",
    "# keep the numerical columns and the target label\n",
    "int_var = [col for col in df.columns if df[col].dtypes in ['int64', 'float64']] + ['status_group']\n",
    "df_int = df_int[int_var]\n",
    "\n",
    "# get the input and output variables\n",
    "X = df_int.drop('status_group', axis=1)\n",
    "y = df_int['status_group']\n",
    "\n",
    "# compute the ANOVA F-statistic for each column\n",
    "select = SelectKBest(f_classif, k=5)\n",
    "fit = select.fit(X, y)\n",
    "\n",
    "# compute the p-values for each F-statistic\n",
    "p_values = {col: np.round(p_value, 4) for col, p_value in zip(X.columns, fit.pvalues_)}\n",
    "\n",
    "p_values = pd.Series(p_values.values(),index = p_values.keys())\n",
    "p_values.sort_values(ascending = False , inplace = True)\n",
    "p_values.plot.bar()"
   ]
  },
  {
   "cell_type": "code",
   "execution_count": 72,
   "id": "41ad2154",
   "metadata": {},
   "outputs": [],
   "source": [
    "# columns with high p-values from ANOVA test\n",
    "anova_drop = ['num_private']\n",
    "df = df.drop(anova_drop, axis=1)"
   ]
  },
  {
   "attachments": {},
   "cell_type": "markdown",
   "id": "bb71356c",
   "metadata": {},
   "source": [
    "### Testing Categorical Features With Chi-Square Test"
   ]
  },
  {
   "cell_type": "code",
   "execution_count": 65,
   "id": "d8a318e6",
   "metadata": {},
   "outputs": [],
   "source": [
    "# copy the dataframe for chi square tests\n",
    "df_chi = df.copy(deep=True)\n",
    "\n",
    "# keep the categorical variables in the data frame\n",
    "cat_var = [col for col in df_chi.columns if df[col].dtypes == 'object']\n",
    "df_chi = df_chi[cat_var]\n",
    "\n",
    "# encode the categorical variables\n",
    "label_encoder = LabelEncoder()\n",
    "for col in df_chi.columns:\n",
    "    df_chi[col] = label_encoder.fit_transform(df_chi[col])\n",
    "\n",
    "# get input and output variables\n",
    "X = df_chi.drop('status_group',axis=1)\n",
    "y = df_chi['status_group']\n",
    "\n",
    "# perform chi-square tests\n",
    "chi_scores = chi2(X,y)\n",
    "p_values = pd.Series(chi_scores[1],index = X.columns)\n",
    "p_values.sort_values(ascending = False , inplace = True)\n"
   ]
  },
  {
   "cell_type": "code",
   "execution_count": 66,
   "id": "90fc4100",
   "metadata": {},
   "outputs": [
    {
     "data": {
      "image/png": "[encoded data removed]",
      "text/plain": [
       "<Figure size 500x200 with 1 Axes>"
      ]
     },
     "metadata": {},
     "output_type": "display_data"
    }
   ],
   "source": [
    "plt.figure(figsize=(5,2))\n",
    "p_values.plot.bar()\n",
    "plt.show()\n"
   ]
  },
  {
   "cell_type": "code",
   "execution_count": 74,
   "id": "a52693ad",
   "metadata": {},
   "outputs": [
    {
     "data": {
      "text/plain": [
       "(59400, 20)"
      ]
     },
     "execution_count": 74,
     "metadata": {},
     "output_type": "execute_result"
    }
   ],
   "source": [
    "df.shape"
   ]
  },
  {
   "cell_type": "code",
   "execution_count": 75,
   "id": "eed99b88",
   "metadata": {},
   "outputs": [
    {
     "data": {
      "text/html": [
       "<div>\n",
       "<style scoped>\n",
       "    .dataframe tbody tr th:only-of-type {\n",
       "        vertical-align: middle;\n",
       "    }\n",
       "\n",
       "    .dataframe tbody tr th {\n",
       "        vertical-align: top;\n",
       "    }\n",
       "\n",
       "    .dataframe thead th {\n",
       "        text-align: right;\n",
       "    }\n",
       "</style>\n",
       "<table border=\"1\" class=\"dataframe\">\n",
       "  <thead>\n",
       "    <tr style=\"text-align: right;\">\n",
       "      <th></th>\n",
       "      <th>amount_tsh</th>\n",
       "      <th>funder</th>\n",
       "      <th>gps_height</th>\n",
       "      <th>installer</th>\n",
       "      <th>basin</th>\n",
       "      <th>region</th>\n",
       "      <th>population</th>\n",
       "      <th>public_meeting</th>\n",
       "      <th>scheme_management</th>\n",
       "      <th>permit</th>\n",
       "      <th>extraction_type_class</th>\n",
       "      <th>management</th>\n",
       "      <th>management_group</th>\n",
       "      <th>payment_type</th>\n",
       "      <th>quality_group</th>\n",
       "      <th>quantity_group</th>\n",
       "      <th>source_class</th>\n",
       "      <th>waterpoint_type_group</th>\n",
       "      <th>status_group</th>\n",
       "      <th>age</th>\n",
       "    </tr>\n",
       "  </thead>\n",
       "  <tbody>\n",
       "    <tr>\n",
       "      <th>0</th>\n",
       "      <td>6000.0</td>\n",
       "      <td>Roman</td>\n",
       "      <td>1390</td>\n",
       "      <td>Roman</td>\n",
       "      <td>Lake Nyasa</td>\n",
       "      <td>Iringa</td>\n",
       "      <td>109</td>\n",
       "      <td>True</td>\n",
       "      <td>VWC</td>\n",
       "      <td>False</td>\n",
       "      <td>gravity</td>\n",
       "      <td>vwc</td>\n",
       "      <td>user-group</td>\n",
       "      <td>annually</td>\n",
       "      <td>good</td>\n",
       "      <td>enough</td>\n",
       "      <td>groundwater</td>\n",
       "      <td>communal standpipe</td>\n",
       "      <td>functional</td>\n",
       "      <td>41.224658</td>\n",
       "    </tr>\n",
       "    <tr>\n",
       "      <th>1</th>\n",
       "      <td>0.0</td>\n",
       "      <td>Grumeti</td>\n",
       "      <td>1399</td>\n",
       "      <td>GRUMETI</td>\n",
       "      <td>Lake Victoria</td>\n",
       "      <td>Mara</td>\n",
       "      <td>280</td>\n",
       "      <td>NaN</td>\n",
       "      <td>Other</td>\n",
       "      <td>True</td>\n",
       "      <td>gravity</td>\n",
       "      <td>wug</td>\n",
       "      <td>user-group</td>\n",
       "      <td>never pay</td>\n",
       "      <td>good</td>\n",
       "      <td>insufficient</td>\n",
       "      <td>surface</td>\n",
       "      <td>communal standpipe</td>\n",
       "      <td>functional</td>\n",
       "      <td>43.205479</td>\n",
       "    </tr>\n",
       "    <tr>\n",
       "      <th>2</th>\n",
       "      <td>25.0</td>\n",
       "      <td>Lottery Club</td>\n",
       "      <td>686</td>\n",
       "      <td>World vision</td>\n",
       "      <td>Pangani</td>\n",
       "      <td>Manyara</td>\n",
       "      <td>250</td>\n",
       "      <td>True</td>\n",
       "      <td>VWC</td>\n",
       "      <td>True</td>\n",
       "      <td>gravity</td>\n",
       "      <td>vwc</td>\n",
       "      <td>user-group</td>\n",
       "      <td>per bucket</td>\n",
       "      <td>good</td>\n",
       "      <td>enough</td>\n",
       "      <td>surface</td>\n",
       "      <td>communal standpipe</td>\n",
       "      <td>functional</td>\n",
       "      <td>43.180822</td>\n",
       "    </tr>\n",
       "  </tbody>\n",
       "</table>\n",
       "</div>"
      ],
      "text/plain": [
       "   amount_tsh        funder  gps_height     installer          basin   region   \n",
       "0      6000.0         Roman        1390         Roman     Lake Nyasa   Iringa  \\\n",
       "1         0.0       Grumeti        1399       GRUMETI  Lake Victoria     Mara   \n",
       "2        25.0  Lottery Club         686  World vision        Pangani  Manyara   \n",
       "\n",
       "   population public_meeting scheme_management permit extraction_type_class   \n",
       "0         109           True               VWC  False               gravity  \\\n",
       "1         280            NaN             Other   True               gravity   \n",
       "2         250           True               VWC   True               gravity   \n",
       "\n",
       "  management management_group payment_type quality_group quantity_group   \n",
       "0        vwc       user-group     annually          good         enough  \\\n",
       "1        wug       user-group    never pay          good   insufficient   \n",
       "2        vwc       user-group   per bucket          good         enough   \n",
       "\n",
       "  source_class waterpoint_type_group status_group        age  \n",
       "0  groundwater    communal standpipe   functional  41.224658  \n",
       "1      surface    communal standpipe   functional  43.205479  \n",
       "2      surface    communal standpipe   functional  43.180822  "
      ]
     },
     "execution_count": 75,
     "metadata": {},
     "output_type": "execute_result"
    }
   ],
   "source": [
    "df.head(3)"
   ]
  },
  {
   "cell_type": "code",
   "execution_count": null,
   "id": "72168d48",
   "metadata": {},
   "outputs": [],
   "source": []
  }
 ],
 "metadata": {
  "kernelspec": {
   "display_name": "venv",
   "language": "python",
   "name": "python3"
  },
  "language_info": {
   "codemirror_mode": {
    "name": "ipython",
    "version": 3
   },
   "file_extension": ".py",
   "mimetype": "text/x-python",
   "name": "python",
   "nbconvert_exporter": "python",
   "pygments_lexer": "ipython3",
   "version": "3.9.13"
  }
 },
 "nbformat": 4,
 "nbformat_minor": 5
}
