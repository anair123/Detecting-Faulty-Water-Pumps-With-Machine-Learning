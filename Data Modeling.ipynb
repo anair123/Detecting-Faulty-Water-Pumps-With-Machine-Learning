{
 "cells": [
  {
   "attachments": {},
   "cell_type": "markdown",
   "id": "a381e72e",
   "metadata": {},
   "source": [
    "### Libraries"
   ]
  },
  {
   "cell_type": "code",
   "execution_count": 1,
   "metadata": {},
   "outputs": [
    {
     "name": "stderr",
     "output_type": "stream",
     "text": [
      "c:\\Users\\aashi\\Desktop\\Personal Projects\\Data Science\\Identifying-Faulty-Water-Pumps-With-Machine-Learning\\venv\\lib\\site-packages\\tqdm\\auto.py:21: TqdmWarning: IProgress not found. Please update jupyter and ipywidgets. See https://ipywidgets.readthedocs.io/en/stable/user_install.html\n",
      "  from .autonotebook import tqdm as notebook_tqdm\n"
     ]
    }
   ],
   "source": [
    "import numpy as np\n",
    "import pandas as pd\n",
    "import seaborn as sns\n",
    "from sklearn.preprocessing import LabelEncoder\n",
    "from sklearn.feature_selection import chi2\n",
    "import matplotlib.pyplot as plt\n",
    "from sklearn.preprocessing import StandardScaler\n",
    "from sklearn.feature_selection import SelectKBest\n",
    "from sklearn.feature_selection import f_classif\n",
    "from sklearn.model_selection import train_test_split\n",
    "from sklearn.model_selection import cross_val_score, StratifiedKFold\n",
    "from sklearn.dummy import DummyClassifier\n",
    "from sklearn.pipeline import Pipeline\n",
    "from sklearn.compose import ColumnTransformer\n",
    "from sklearn.preprocessing import FunctionTransformer\n",
    "from sklearn.impute import SimpleImputer, KNNImputer\n",
    "from feature_engine.imputation import CategoricalImputer, DropMissingData\n",
    "from feature_engine.encoding import RareLabelEncoder\n",
    "from sklearn.preprocessing import OneHotEncoder\n",
    "from sklearn.linear_model import LogisticRegression\n",
    "from sklearn.metrics import fbeta_score, make_scorer\n",
    "from feature_engine.wrappers import SklearnTransformerWrapper\n",
    "from catboost import CatBoostClassifier\n",
    "import optuna\n",
    "import warnings\n",
    "\n",
    "warnings.filterwarnings(action='ignore')"
   ]
  },
  {
   "cell_type": "code",
   "execution_count": 2,
   "id": "e08dfe5d",
   "metadata": {},
   "outputs": [],
   "source": [
    "train_values = pd.read_csv('data/train_values.csv')\n",
    "train_label = pd.read_csv('data/train_labels.csv')"
   ]
  },
  {
   "cell_type": "code",
   "execution_count": 3,
   "id": "efe14c4c",
   "metadata": {},
   "outputs": [],
   "source": [
    "# merge the two data frames\n",
    "df = train_values.merge(train_label, on='id')"
   ]
  },
  {
   "cell_type": "code",
   "execution_count": 4,
   "id": "72726eae",
   "metadata": {},
   "outputs": [
    {
     "data": {
      "text/plain": [
       "True"
      ]
     },
     "execution_count": 4,
     "metadata": {},
     "output_type": "execute_result"
    }
   ],
   "source": [
    "# check that all rows were in the joined dataset\n",
    "len(df) == len(train_label) == len(train_values)"
   ]
  },
  {
   "cell_type": "code",
   "execution_count": 5,
   "id": "1380246f",
   "metadata": {},
   "outputs": [
    {
     "data": {
      "text/plain": [
       "Index(['id', 'amount_tsh', 'date_recorded', 'funder', 'gps_height',\n",
       "       'installer', 'longitude', 'latitude', 'wpt_name', 'num_private',\n",
       "       'basin', 'subvillage', 'region', 'region_code', 'district_code', 'lga',\n",
       "       'ward', 'population', 'public_meeting', 'recorded_by',\n",
       "       'scheme_management', 'scheme_name', 'permit', 'construction_year',\n",
       "       'extraction_type', 'extraction_type_group', 'extraction_type_class',\n",
       "       'management', 'management_group', 'payment', 'payment_type',\n",
       "       'water_quality', 'quality_group', 'quantity', 'quantity_group',\n",
       "       'source', 'source_type', 'source_class', 'waterpoint_type',\n",
       "       'waterpoint_type_group', 'status_group'],\n",
       "      dtype='object')"
      ]
     },
     "execution_count": 5,
     "metadata": {},
     "output_type": "execute_result"
    }
   ],
   "source": [
    "df.columns"
   ]
  },
  {
   "cell_type": "code",
   "execution_count": 6,
   "id": "283cf637",
   "metadata": {},
   "outputs": [
    {
     "data": {
      "text/html": [
       "<div>\n",
       "<style scoped>\n",
       "    .dataframe tbody tr th:only-of-type {\n",
       "        vertical-align: middle;\n",
       "    }\n",
       "\n",
       "    .dataframe tbody tr th {\n",
       "        vertical-align: top;\n",
       "    }\n",
       "\n",
       "    .dataframe thead th {\n",
       "        text-align: right;\n",
       "    }\n",
       "</style>\n",
       "<table border=\"1\" class=\"dataframe\">\n",
       "  <thead>\n",
       "    <tr style=\"text-align: right;\">\n",
       "      <th></th>\n",
       "      <th>id</th>\n",
       "      <th>amount_tsh</th>\n",
       "      <th>date_recorded</th>\n",
       "      <th>funder</th>\n",
       "      <th>gps_height</th>\n",
       "      <th>installer</th>\n",
       "      <th>longitude</th>\n",
       "      <th>latitude</th>\n",
       "      <th>wpt_name</th>\n",
       "      <th>num_private</th>\n",
       "      <th>...</th>\n",
       "      <th>water_quality</th>\n",
       "      <th>quality_group</th>\n",
       "      <th>quantity</th>\n",
       "      <th>quantity_group</th>\n",
       "      <th>source</th>\n",
       "      <th>source_type</th>\n",
       "      <th>source_class</th>\n",
       "      <th>waterpoint_type</th>\n",
       "      <th>waterpoint_type_group</th>\n",
       "      <th>status_group</th>\n",
       "    </tr>\n",
       "  </thead>\n",
       "  <tbody>\n",
       "  </tbody>\n",
       "</table>\n",
       "<p>0 rows × 41 columns</p>\n",
       "</div>"
      ],
      "text/plain": [
       "Empty DataFrame\n",
       "Columns: [id, amount_tsh, date_recorded, funder, gps_height, installer, longitude, latitude, wpt_name, num_private, basin, subvillage, region, region_code, district_code, lga, ward, population, public_meeting, recorded_by, scheme_management, scheme_name, permit, construction_year, extraction_type, extraction_type_group, extraction_type_class, management, management_group, payment, payment_type, water_quality, quality_group, quantity, quantity_group, source, source_type, source_class, waterpoint_type, waterpoint_type_group, status_group]\n",
       "Index: []\n",
       "\n",
       "[0 rows x 41 columns]"
      ]
     },
     "execution_count": 6,
     "metadata": {},
     "output_type": "execute_result"
    }
   ],
   "source": [
    "# search for duplicates \n",
    "df[df['id'].duplicated()]"
   ]
  },
  {
   "cell_type": "code",
   "execution_count": 7,
   "id": "72abafcc",
   "metadata": {},
   "outputs": [
    {
     "data": {
      "text/html": [
       "<div>\n",
       "<style scoped>\n",
       "    .dataframe tbody tr th:only-of-type {\n",
       "        vertical-align: middle;\n",
       "    }\n",
       "\n",
       "    .dataframe tbody tr th {\n",
       "        vertical-align: top;\n",
       "    }\n",
       "\n",
       "    .dataframe thead th {\n",
       "        text-align: right;\n",
       "    }\n",
       "</style>\n",
       "<table border=\"1\" class=\"dataframe\">\n",
       "  <thead>\n",
       "    <tr style=\"text-align: right;\">\n",
       "      <th></th>\n",
       "      <th>column</th>\n",
       "      <th>number of missing values</th>\n",
       "    </tr>\n",
       "  </thead>\n",
       "  <tbody>\n",
       "    <tr>\n",
       "      <th>3</th>\n",
       "      <td>funder</td>\n",
       "      <td>3637</td>\n",
       "    </tr>\n",
       "    <tr>\n",
       "      <th>5</th>\n",
       "      <td>installer</td>\n",
       "      <td>3655</td>\n",
       "    </tr>\n",
       "    <tr>\n",
       "      <th>8</th>\n",
       "      <td>wpt_name</td>\n",
       "      <td>2</td>\n",
       "    </tr>\n",
       "    <tr>\n",
       "      <th>11</th>\n",
       "      <td>subvillage</td>\n",
       "      <td>371</td>\n",
       "    </tr>\n",
       "    <tr>\n",
       "      <th>18</th>\n",
       "      <td>public_meeting</td>\n",
       "      <td>3334</td>\n",
       "    </tr>\n",
       "    <tr>\n",
       "      <th>20</th>\n",
       "      <td>scheme_management</td>\n",
       "      <td>3878</td>\n",
       "    </tr>\n",
       "    <tr>\n",
       "      <th>21</th>\n",
       "      <td>scheme_name</td>\n",
       "      <td>28810</td>\n",
       "    </tr>\n",
       "    <tr>\n",
       "      <th>22</th>\n",
       "      <td>permit</td>\n",
       "      <td>3056</td>\n",
       "    </tr>\n",
       "  </tbody>\n",
       "</table>\n",
       "</div>"
      ],
      "text/plain": [
       "               column  number of missing values\n",
       "3              funder                      3637\n",
       "5           installer                      3655\n",
       "8            wpt_name                         2\n",
       "11         subvillage                       371\n",
       "18     public_meeting                      3334\n",
       "20  scheme_management                      3878\n",
       "21        scheme_name                     28810\n",
       "22             permit                      3056"
      ]
     },
     "execution_count": 7,
     "metadata": {},
     "output_type": "execute_result"
    }
   ],
   "source": [
    "missing = pd.DataFrame(df.isnull().sum()).reset_index()\n",
    "missing.columns = ['column', 'number of missing values']\n",
    "missing[missing['number of missing values']>0]"
   ]
  },
  {
   "cell_type": "code",
   "execution_count": null,
   "id": "ca697fd4",
   "metadata": {},
   "outputs": [],
   "source": []
  },
  {
   "attachments": {},
   "cell_type": "markdown",
   "id": "d4690675",
   "metadata": {},
   "source": [
    "### Remove Unwanted Fields"
   ]
  },
  {
   "cell_type": "code",
   "execution_count": null,
   "id": "8ccb402b",
   "metadata": {},
   "outputs": [],
   "source": []
  },
  {
   "cell_type": "code",
   "execution_count": 8,
   "id": "6835f6db",
   "metadata": {},
   "outputs": [],
   "source": [
    "# uneeded columns (fields that don't help predict the target label)\n",
    "unneeded_col = ['id', 'recorded_by', 'wpt_name']\n",
    "df = df.drop(unneeded_col, axis=1)\n",
    "\n"
   ]
  },
  {
   "attachments": {},
   "cell_type": "markdown",
   "id": "b41cfcb2",
   "metadata": {},
   "source": [
    "### Handling Fields with Too Many Unique Values"
   ]
  },
  {
   "cell_type": "code",
   "execution_count": 9,
   "id": "caf562c4",
   "metadata": {},
   "outputs": [
    {
     "data": {
      "text/html": [
       "<div>\n",
       "<style scoped>\n",
       "    .dataframe tbody tr th:only-of-type {\n",
       "        vertical-align: middle;\n",
       "    }\n",
       "\n",
       "    .dataframe tbody tr th {\n",
       "        vertical-align: top;\n",
       "    }\n",
       "\n",
       "    .dataframe thead th {\n",
       "        text-align: right;\n",
       "    }\n",
       "</style>\n",
       "<table border=\"1\" class=\"dataframe\">\n",
       "  <thead>\n",
       "    <tr style=\"text-align: right;\">\n",
       "      <th></th>\n",
       "      <th>Field</th>\n",
       "      <th>Number of Unique Values</th>\n",
       "    </tr>\n",
       "  </thead>\n",
       "  <tbody>\n",
       "    <tr>\n",
       "      <th>0</th>\n",
       "      <td>date_recorded</td>\n",
       "      <td>356</td>\n",
       "    </tr>\n",
       "    <tr>\n",
       "      <th>1</th>\n",
       "      <td>funder</td>\n",
       "      <td>1896</td>\n",
       "    </tr>\n",
       "    <tr>\n",
       "      <th>2</th>\n",
       "      <td>installer</td>\n",
       "      <td>2145</td>\n",
       "    </tr>\n",
       "    <tr>\n",
       "      <th>3</th>\n",
       "      <td>basin</td>\n",
       "      <td>9</td>\n",
       "    </tr>\n",
       "    <tr>\n",
       "      <th>4</th>\n",
       "      <td>subvillage</td>\n",
       "      <td>19287</td>\n",
       "    </tr>\n",
       "  </tbody>\n",
       "</table>\n",
       "</div>"
      ],
      "text/plain": [
       "           Field  Number of Unique Values\n",
       "0  date_recorded                      356\n",
       "1         funder                     1896\n",
       "2      installer                     2145\n",
       "3          basin                        9\n",
       "4     subvillage                    19287"
      ]
     },
     "execution_count": 9,
     "metadata": {},
     "output_type": "execute_result"
    }
   ],
   "source": [
    "# get all categorical variables\n",
    "df['region_code'] = df['region_code'].astype('object')\n",
    "df['district_code'] = df['district_code'].astype('object')\n",
    "\n",
    "cat_var = [col for col in df.columns if df[col].dtypes == 'object']\n",
    "col_count = {}\n",
    "\n",
    "# find number of unique values in each categorical variable\n",
    "for col in cat_var:\n",
    "    count = df[col].nunique()\n",
    "    col_count[col] = count\n",
    "col_count_df = pd.DataFrame(col_count.items())\n",
    "col_count_df.columns = ['Field', 'Number of Unique Values']\n",
    "col_count_df.head()"
   ]
  },
  {
   "cell_type": "code",
   "execution_count": 10,
   "id": "3018ab5c",
   "metadata": {},
   "outputs": [],
   "source": [
    "# redundant data (fields with information provided in other columns)\n",
    "redundant_col = ['subvillage','latitude', 'longitude', 'region_code', 'district_code', 'lga', 'ward', 'scheme_name', 'extraction_type', 'extraction_type_group', 'payment', 'water_quality', 'quantity', 'source', 'source_type', 'waterpoint_type', 'management']\n",
    "\n",
    "df = df.drop(redundant_col, axis=1)"
   ]
  },
  {
   "attachments": {},
   "cell_type": "markdown",
   "id": "6ca6943c",
   "metadata": {},
   "source": [
    "### Handle Fields with Missing Values"
   ]
  },
  {
   "cell_type": "code",
   "execution_count": 11,
   "id": "0fb2ef1b",
   "metadata": {},
   "outputs": [
    {
     "data": {
      "text/plain": [
       "{'date_recorded': 356,\n",
       " 'funder': 1896,\n",
       " 'installer': 2145,\n",
       " 'basin': 9,\n",
       " 'region': 21,\n",
       " 'public_meeting': 2,\n",
       " 'scheme_management': 11,\n",
       " 'permit': 2,\n",
       " 'extraction_type_class': 7,\n",
       " 'management_group': 5,\n",
       " 'payment_type': 7,\n",
       " 'quality_group': 6,\n",
       " 'quantity_group': 5,\n",
       " 'source_class': 3,\n",
       " 'waterpoint_type_group': 6,\n",
       " 'status_group': 3}"
      ]
     },
     "execution_count": 11,
     "metadata": {},
     "output_type": "execute_result"
    }
   ],
   "source": [
    "cat_var = [col for col in df.columns if df[col].dtypes == 'object']\n",
    "col_count = {}\n",
    "\n",
    "# find number of unique values in each categorical variable\n",
    "for col in cat_var:\n",
    "    count = df[col].nunique()\n",
    "    col_count[col] = count\n",
    "col_count"
   ]
  },
  {
   "cell_type": "code",
   "execution_count": 12,
   "id": "131e330e",
   "metadata": {},
   "outputs": [
    {
     "data": {
      "text/html": [
       "<div>\n",
       "<style scoped>\n",
       "    .dataframe tbody tr th:only-of-type {\n",
       "        vertical-align: middle;\n",
       "    }\n",
       "\n",
       "    .dataframe tbody tr th {\n",
       "        vertical-align: top;\n",
       "    }\n",
       "\n",
       "    .dataframe thead th {\n",
       "        text-align: right;\n",
       "    }\n",
       "</style>\n",
       "<table border=\"1\" class=\"dataframe\">\n",
       "  <thead>\n",
       "    <tr style=\"text-align: right;\">\n",
       "      <th></th>\n",
       "      <th>column</th>\n",
       "      <th>% missing values</th>\n",
       "    </tr>\n",
       "  </thead>\n",
       "  <tbody>\n",
       "    <tr>\n",
       "      <th>2</th>\n",
       "      <td>funder</td>\n",
       "      <td>6.122896</td>\n",
       "    </tr>\n",
       "    <tr>\n",
       "      <th>4</th>\n",
       "      <td>installer</td>\n",
       "      <td>6.153199</td>\n",
       "    </tr>\n",
       "    <tr>\n",
       "      <th>9</th>\n",
       "      <td>public_meeting</td>\n",
       "      <td>5.612795</td>\n",
       "    </tr>\n",
       "    <tr>\n",
       "      <th>10</th>\n",
       "      <td>scheme_management</td>\n",
       "      <td>6.528620</td>\n",
       "    </tr>\n",
       "    <tr>\n",
       "      <th>11</th>\n",
       "      <td>permit</td>\n",
       "      <td>5.144781</td>\n",
       "    </tr>\n",
       "  </tbody>\n",
       "</table>\n",
       "</div>"
      ],
      "text/plain": [
       "               column  % missing values\n",
       "2              funder          6.122896\n",
       "4           installer          6.153199\n",
       "9      public_meeting          5.612795\n",
       "10  scheme_management          6.528620\n",
       "11             permit          5.144781"
      ]
     },
     "execution_count": 12,
     "metadata": {},
     "output_type": "execute_result"
    }
   ],
   "source": [
    "missing = pd.DataFrame(df.isnull().sum()/len(df)*100).reset_index()\n",
    "missing.columns = ['column', '% missing values']\n",
    "missing[missing['% missing values']>0]"
   ]
  },
  {
   "attachments": {},
   "cell_type": "markdown",
   "id": "e8bbfd0b",
   "metadata": {},
   "source": [
    "### Handle Date Values"
   ]
  },
  {
   "cell_type": "code",
   "execution_count": 13,
   "id": "a777fec9",
   "metadata": {},
   "outputs": [],
   "source": [
    "# derive age of water pump (i.e., years since construction)\n",
    "df['construction_year'] = pd.to_datetime(df['construction_year'])\n",
    "df['date_recorded'] = pd.to_datetime(df['date_recorded'])\n",
    "df['age'] = (df['date_recorded'] - df['construction_year']) / np.timedelta64(1, 'Y')\n",
    "\n",
    "# delete construction_year and date_recorded columns \n",
    "df = df.drop(['construction_year', 'date_recorded'], axis=1)"
   ]
  },
  {
   "cell_type": "code",
   "execution_count": 14,
   "id": "c6852ced",
   "metadata": {},
   "outputs": [
    {
     "data": {
      "text/plain": [
       "['amount_tsh', 'gps_height', 'num_private', 'population', 'age']"
      ]
     },
     "execution_count": 14,
     "metadata": {},
     "output_type": "execute_result"
    }
   ],
   "source": [
    "# get quantifiable variables\n",
    "num_var = [col for col in df.columns if df[col].dtypes in ['float64', 'int64']]\n",
    "num_var"
   ]
  },
  {
   "attachments": {},
   "cell_type": "markdown",
   "id": "e00674e6",
   "metadata": {},
   "source": [
    "### Testing Numerical Features With ANOVA"
   ]
  },
  {
   "cell_type": "code",
   "execution_count": 15,
   "id": "f5a46aa1",
   "metadata": {},
   "outputs": [
    {
     "data": {
      "text/plain": [
       "amount_tsh                  0\n",
       "funder                   3637\n",
       "gps_height                  0\n",
       "installer                3655\n",
       "num_private                 0\n",
       "basin                       0\n",
       "region                      0\n",
       "population                  0\n",
       "public_meeting           3334\n",
       "scheme_management        3878\n",
       "permit                   3056\n",
       "extraction_type_class       0\n",
       "management_group            0\n",
       "payment_type                0\n",
       "quality_group               0\n",
       "quantity_group              0\n",
       "source_class                0\n",
       "waterpoint_type_group       0\n",
       "status_group                0\n",
       "age                         0\n",
       "dtype: int64"
      ]
     },
     "execution_count": 15,
     "metadata": {},
     "output_type": "execute_result"
    }
   ],
   "source": [
    "df.isnull().sum()"
   ]
  },
  {
   "cell_type": "code",
   "execution_count": 16,
   "id": "74d35631",
   "metadata": {},
   "outputs": [
    {
     "data": {
      "text/plain": [
       "<Axes: >"
      ]
     },
     "execution_count": 16,
     "metadata": {},
     "output_type": "execute_result"
    },
    {
     "data": {
      "image/png": "[encoded data removed]",
      "text/plain": [
       "<Figure size 640x480 with 1 Axes>"
      ]
     },
     "metadata": {},
     "output_type": "display_data"
    }
   ],
   "source": [
    "# copy the dataset for ANOVA test\n",
    "df_int = df.copy(deep=True)\n",
    "\n",
    "# keep the numerical columns and the target label\n",
    "int_var = [col for col in df.columns if df[col].dtypes in ['int64', 'float64']] + ['status_group']\n",
    "df_int = df_int[int_var]\n",
    "\n",
    "# get the input and output variables\n",
    "X = df_int.drop('status_group', axis=1)\n",
    "y = df_int['status_group']\n",
    "\n",
    "# compute the ANOVA F-statistic for each column\n",
    "select = SelectKBest(f_classif, k=5)\n",
    "fit = select.fit(X, y)\n",
    "\n",
    "# compute the p-values for each F-statistic\n",
    "p_values = {col: np.round(p_value, 4) for col, p_value in zip(X.columns, fit.pvalues_)}\n",
    "\n",
    "p_values = pd.Series(p_values.values(),index = p_values.keys())\n",
    "p_values.sort_values(ascending = False , inplace = True)\n",
    "p_values.plot.bar()"
   ]
  },
  {
   "cell_type": "code",
   "execution_count": 17,
   "id": "41ad2154",
   "metadata": {},
   "outputs": [],
   "source": [
    "# columns with high p-values from ANOVA test\n",
    "anova_drop = ['num_private']\n",
    "df = df.drop(anova_drop, axis=1)"
   ]
  },
  {
   "attachments": {},
   "cell_type": "markdown",
   "id": "bb71356c",
   "metadata": {},
   "source": [
    "### Testing Categorical Features With Chi-Square Test"
   ]
  },
  {
   "cell_type": "code",
   "execution_count": 18,
   "id": "d8a318e6",
   "metadata": {},
   "outputs": [],
   "source": [
    "# copy the dataframe for chi square tests\n",
    "df_chi = df.copy(deep=True)\n",
    "\n",
    "# keep the categorical variables in the data frame\n",
    "cat_var = [col for col in df_chi.columns if df[col].dtypes == 'object']\n",
    "df_chi = df_chi[cat_var]\n",
    "\n",
    "# encode the categorical variables\n",
    "label_encoder = LabelEncoder()\n",
    "for col in df_chi.columns:\n",
    "    df_chi[col] = label_encoder.fit_transform(df_chi[col])\n",
    "\n",
    "# get input and output variables\n",
    "X = df_chi.drop('status_group',axis=1)\n",
    "y = df_chi['status_group']\n",
    "\n",
    "# perform chi-square tests\n",
    "chi_scores = chi2(X,y)\n",
    "p_values = pd.Series(chi_scores[1],index = X.columns)\n",
    "p_values.sort_values(ascending = False , inplace = True)\n"
   ]
  },
  {
   "cell_type": "code",
   "execution_count": 19,
   "id": "90fc4100",
   "metadata": {},
   "outputs": [
    {
     "data": {
      "image/png": "[encoded data removed]",
      "text/plain": [
       "<Figure size 500x200 with 1 Axes>"
      ]
     },
     "metadata": {},
     "output_type": "display_data"
    }
   ],
   "source": [
    "plt.figure(figsize=(5,2))\n",
    "p_values.plot.bar()\n",
    "plt.show()\n"
   ]
  },
  {
   "attachments": {},
   "cell_type": "markdown",
   "id": "895d1ed7",
   "metadata": {},
   "source": [
    "### Baseline Models"
   ]
  },
  {
   "cell_type": "code",
   "execution_count": 20,
   "id": "f169c6ce",
   "metadata": {},
   "outputs": [],
   "source": [
    "X = df.drop('status_group', axis=1)\n",
    "y = df['status_group']\n",
    "X_train, X_test, y_train, y_test = train_test_split(X, y, test_size=0.3, random_state=42, stratify=y)"
   ]
  },
  {
   "cell_type": "code",
   "execution_count": 21,
   "id": "76d31d28",
   "metadata": {},
   "outputs": [
    {
     "data": {
      "text/plain": [
       "amount_tsh                  0\n",
       "funder                   2548\n",
       "gps_height                  0\n",
       "installer                2555\n",
       "basin                       0\n",
       "region                      0\n",
       "population                  0\n",
       "public_meeting           2297\n",
       "scheme_management        2733\n",
       "permit                   2151\n",
       "extraction_type_class       0\n",
       "management_group            0\n",
       "payment_type                0\n",
       "quality_group               0\n",
       "quantity_group              0\n",
       "source_class                0\n",
       "waterpoint_type_group       0\n",
       "age                         0\n",
       "dtype: int64"
      ]
     },
     "execution_count": 21,
     "metadata": {},
     "output_type": "execute_result"
    }
   ],
   "source": [
    "X_train.isnull().sum()"
   ]
  },
  {
   "cell_type": "code",
   "execution_count": 22,
   "id": "b940a83e",
   "metadata": {},
   "outputs": [],
   "source": [
    "# encode the target label\n",
    "le = LabelEncoder()\n",
    "y_train = le.fit_transform(y_train)\n",
    "y_test = le.transform(y_test)"
   ]
  },
  {
   "cell_type": "code",
   "execution_count": 23,
   "id": "995200eb",
   "metadata": {},
   "outputs": [],
   "source": [
    "# train a dummy classifier\n",
    "dummy_clf = DummyClassifier(strategy=\"uniform\", random_state=42)\n",
    "dummy_clf.fit(X_train, y_train)\n",
    "\n",
    "y_pred_dummy = dummy_clf.predict(X_test)"
   ]
  },
  {
   "cell_type": "code",
   "execution_count": 24,
   "id": "33220a14",
   "metadata": {},
   "outputs": [
    {
     "data": {
      "text/plain": [
       "array([0, 0, 0, ..., 2, 0, 0])"
      ]
     },
     "execution_count": 24,
     "metadata": {},
     "output_type": "execute_result"
    }
   ],
   "source": [
    "y_train"
   ]
  },
  {
   "cell_type": "code",
   "execution_count": 25,
   "id": "7ba5445a",
   "metadata": {},
   "outputs": [
    {
     "data": {
      "text/plain": [
       "0.0"
      ]
     },
     "execution_count": 25,
     "metadata": {},
     "output_type": "execute_result"
    }
   ],
   "source": [
    "cat_var = [col for ind, col in enumerate(X_train.columns) if X_train[col].dtypes=='object']\n",
    "num_var = [col for ind, col in enumerate(X_train.columns) if X_train[col].dtypes in ['int64', 'float64']]\n",
    "num_var\n",
    "X_train[num_var[0]].min()"
   ]
  },
  {
   "cell_type": "code",
   "execution_count": 26,
   "id": "82d80a39",
   "metadata": {},
   "outputs": [],
   "source": [
    "# Define the column transformer\n",
    "cat_var = [ind for ind, col in enumerate(X_train.columns) if X_train[col].dtypes=='object']\n",
    "num_var = [ind for ind, col in enumerate(X_train.columns) if X_train[col].dtypes in ['int64', 'float64']]\n",
    "\n",
    "# Define column transformer for one-hot encoding categorical features\n",
    "categorical_transformer = Pipeline([\n",
    "    ('imputer', SimpleImputer(strategy='most_frequent')),\n",
    "    ('onehot', OneHotEncoder(handle_unknown='ignore'))\n",
    "])\n",
    "\n",
    "# Define preprocessing pipeline\n",
    "preprocessing_pipeline = ColumnTransformer([\n",
    "    ('cat_transformer', categorical_transformer, cat_var)\n",
    "  # replace missing categorical values with mode and one-hot encode\n",
    "], remainder='passthrough')\n",
    "\n",
    "# Define final pipeline with preprocessing and logistic regression model\n",
    "pipeline_log = Pipeline([\n",
    "    ('preprocessing', preprocessing_pipeline),\n",
    "    ('logistic_regression', LogisticRegression())\n",
    "])\n",
    "\n",
    "pipeline_log.fit(X_train, y_train)\n",
    "y_pred_log = pipeline_log.predict(X_test)"
   ]
  },
  {
   "cell_type": "code",
   "execution_count": 27,
   "id": "896d07fc",
   "metadata": {},
   "outputs": [
    {
     "name": "stdout",
     "output_type": "stream",
     "text": [
      "F2 score of dummy classifier: 0.32895622895622895\n",
      "F2 score of logistic regression classifier: 0.6836139169472503\n"
     ]
    }
   ],
   "source": [
    "f2_score_dummy = fbeta_score(y_test, y_pred_dummy, average='micro', beta=2)\n",
    "f2_score_log = fbeta_score(y_test, y_pred_log, average='micro', beta=2)\n",
    "\n",
    "print(f'F2 score of dummy classifier: {f2_score_dummy}')\n",
    "print(f'F2 score of logistic regression classifier: {f2_score_log}')"
   ]
  },
  {
   "attachments": {},
   "cell_type": "markdown",
   "id": "42193880",
   "metadata": {},
   "source": [
    "### CatBoost Model"
   ]
  },
  {
   "cell_type": "code",
   "execution_count": 147,
   "id": "f2147437",
   "metadata": {},
   "outputs": [
    {
     "data": {
      "text/html": [
       "<style>#sk-container-id-2 {color: black;background-color: white;}#sk-container-id-2 pre{padding: 0;}#sk-container-id-2 div.sk-toggleable {background-color: white;}#sk-container-id-2 label.sk-toggleable__label {cursor: pointer;display: block;width: 100%;margin-bottom: 0;padding: 0.3em;box-sizing: border-box;text-align: center;}#sk-container-id-2 label.sk-toggleable__label-arrow:before {content: \"▸\";float: left;margin-right: 0.25em;color: #696969;}#sk-container-id-2 label.sk-toggleable__label-arrow:hover:before {color: black;}#sk-container-id-2 div.sk-estimator:hover label.sk-toggleable__label-arrow:before {color: black;}#sk-container-id-2 div.sk-toggleable__content {max-height: 0;max-width: 0;overflow: hidden;text-align: left;background-color: #f0f8ff;}#sk-container-id-2 div.sk-toggleable__content pre {margin: 0.2em;color: black;border-radius: 0.25em;background-color: #f0f8ff;}#sk-container-id-2 input.sk-toggleable__control:checked~div.sk-toggleable__content {max-height: 200px;max-width: 100%;overflow: auto;}#sk-container-id-2 input.sk-toggleable__control:checked~label.sk-toggleable__label-arrow:before {content: \"▾\";}#sk-container-id-2 div.sk-estimator input.sk-toggleable__control:checked~label.sk-toggleable__label {background-color: #d4ebff;}#sk-container-id-2 div.sk-label input.sk-toggleable__control:checked~label.sk-toggleable__label {background-color: #d4ebff;}#sk-container-id-2 input.sk-hidden--visually {border: 0;clip: rect(1px 1px 1px 1px);clip: rect(1px, 1px, 1px, 1px);height: 1px;margin: -1px;overflow: hidden;padding: 0;position: absolute;width: 1px;}#sk-container-id-2 div.sk-estimator {font-family: monospace;background-color: #f0f8ff;border: 1px dotted black;border-radius: 0.25em;box-sizing: border-box;margin-bottom: 0.5em;}#sk-container-id-2 div.sk-estimator:hover {background-color: #d4ebff;}#sk-container-id-2 div.sk-parallel-item::after {content: \"\";width: 100%;border-bottom: 1px solid gray;flex-grow: 1;}#sk-container-id-2 div.sk-label:hover label.sk-toggleable__label {background-color: #d4ebff;}#sk-container-id-2 div.sk-serial::before {content: \"\";position: absolute;border-left: 1px solid gray;box-sizing: border-box;top: 0;bottom: 0;left: 50%;z-index: 0;}#sk-container-id-2 div.sk-serial {display: flex;flex-direction: column;align-items: center;background-color: white;padding-right: 0.2em;padding-left: 0.2em;position: relative;}#sk-container-id-2 div.sk-item {position: relative;z-index: 1;}#sk-container-id-2 div.sk-parallel {display: flex;align-items: stretch;justify-content: center;background-color: white;position: relative;}#sk-container-id-2 div.sk-item::before, #sk-container-id-2 div.sk-parallel-item::before {content: \"\";position: absolute;border-left: 1px solid gray;box-sizing: border-box;top: 0;bottom: 0;left: 50%;z-index: -1;}#sk-container-id-2 div.sk-parallel-item {display: flex;flex-direction: column;z-index: 1;position: relative;background-color: white;}#sk-container-id-2 div.sk-parallel-item:first-child::after {align-self: flex-end;width: 50%;}#sk-container-id-2 div.sk-parallel-item:last-child::after {align-self: flex-start;width: 50%;}#sk-container-id-2 div.sk-parallel-item:only-child::after {width: 0;}#sk-container-id-2 div.sk-dashed-wrapped {border: 1px dashed gray;margin: 0 0.4em 0.5em 0.4em;box-sizing: border-box;padding-bottom: 0.4em;background-color: white;}#sk-container-id-2 div.sk-label label {font-family: monospace;font-weight: bold;display: inline-block;line-height: 1.2em;}#sk-container-id-2 div.sk-label-container {text-align: center;}#sk-container-id-2 div.sk-container {/* jupyter's `normalize.less` sets `[hidden] { display: none; }` but bootstrap.min.css set `[hidden] { display: none !important; }` so we also need the `!important` here to be able to override the default hidden behavior on the sphinx rendered scikit-learn.org. See: https://github.com/scikit-learn/scikit-learn/issues/21755 */display: inline-block !important;position: relative;}#sk-container-id-2 div.sk-text-repr-fallback {display: none;}</style><div id=\"sk-container-id-2\" class=\"sk-top-container\"><div class=\"sk-text-repr-fallback\"><pre>Pipeline(steps=[(&#x27;impute&#x27;,\n",
       "                 SklearnTransformerWrapper(transformer=SimpleImputer(strategy=&#x27;most_frequent&#x27;),\n",
       "                                           variables=[&#x27;funder&#x27;, &#x27;installer&#x27;,\n",
       "                                                      &#x27;public_meeting&#x27;,\n",
       "                                                      &#x27;scheme_management&#x27;,\n",
       "                                                      &#x27;permit&#x27;])),\n",
       "                (&#x27;scaler&#x27;,\n",
       "                 SklearnTransformerWrapper(transformer=StandardScaler(),\n",
       "                                           variables=[&#x27;amount_tsh&#x27;,\n",
       "                                                      &#x27;gps_height&#x27;,\n",
       "                                                      &#x27;population&#x27;, &#x27;age&#x27;])),\n",
       "                (&#x27;rare_label&#x27;,\n",
       "                 RareLabelEncoder(replace_with=&#x27;Unknown&#x27;,\n",
       "                                  variables=[&#x27;funder&#x27;, &#x27;installer&#x27;, &#x27;basin&#x27;,\n",
       "                                             &#x27;region&#x27;, &#x27;public_meeting&#x27;,\n",
       "                                             &#x27;scheme_management&#x27;, &#x27;permit&#x27;,\n",
       "                                             &#x27;extraction_type_class&#x27;,\n",
       "                                             &#x27;management_group&#x27;, &#x27;payment_type&#x27;,\n",
       "                                             &#x27;quality_group&#x27;, &#x27;quantity_group&#x27;,\n",
       "                                             &#x27;source_class&#x27;,\n",
       "                                             &#x27;waterpoint_type_group&#x27;])),\n",
       "                (&#x27;catboost&#x27;,\n",
       "                 &lt;catboost.core.CatBoostClassifier object at 0x000002859680C0A0&gt;)])</pre><b>In a Jupyter environment, please rerun this cell to show the HTML representation or trust the notebook. <br />On GitHub, the HTML representation is unable to render, please try loading this page with nbviewer.org.</b></div><div class=\"sk-container\" hidden><div class=\"sk-item sk-dashed-wrapped\"><div class=\"sk-label-container\"><div class=\"sk-label sk-toggleable\"><input class=\"sk-toggleable__control sk-hidden--visually\" id=\"sk-estimator-id-9\" type=\"checkbox\" ><label for=\"sk-estimator-id-9\" class=\"sk-toggleable__label sk-toggleable__label-arrow\">Pipeline</label><div class=\"sk-toggleable__content\"><pre>Pipeline(steps=[(&#x27;impute&#x27;,\n",
       "                 SklearnTransformerWrapper(transformer=SimpleImputer(strategy=&#x27;most_frequent&#x27;),\n",
       "                                           variables=[&#x27;funder&#x27;, &#x27;installer&#x27;,\n",
       "                                                      &#x27;public_meeting&#x27;,\n",
       "                                                      &#x27;scheme_management&#x27;,\n",
       "                                                      &#x27;permit&#x27;])),\n",
       "                (&#x27;scaler&#x27;,\n",
       "                 SklearnTransformerWrapper(transformer=StandardScaler(),\n",
       "                                           variables=[&#x27;amount_tsh&#x27;,\n",
       "                                                      &#x27;gps_height&#x27;,\n",
       "                                                      &#x27;population&#x27;, &#x27;age&#x27;])),\n",
       "                (&#x27;rare_label&#x27;,\n",
       "                 RareLabelEncoder(replace_with=&#x27;Unknown&#x27;,\n",
       "                                  variables=[&#x27;funder&#x27;, &#x27;installer&#x27;, &#x27;basin&#x27;,\n",
       "                                             &#x27;region&#x27;, &#x27;public_meeting&#x27;,\n",
       "                                             &#x27;scheme_management&#x27;, &#x27;permit&#x27;,\n",
       "                                             &#x27;extraction_type_class&#x27;,\n",
       "                                             &#x27;management_group&#x27;, &#x27;payment_type&#x27;,\n",
       "                                             &#x27;quality_group&#x27;, &#x27;quantity_group&#x27;,\n",
       "                                             &#x27;source_class&#x27;,\n",
       "                                             &#x27;waterpoint_type_group&#x27;])),\n",
       "                (&#x27;catboost&#x27;,\n",
       "                 &lt;catboost.core.CatBoostClassifier object at 0x000002859680C0A0&gt;)])</pre></div></div></div><div class=\"sk-serial\"><div class=\"sk-item sk-dashed-wrapped\"><div class=\"sk-label-container\"><div class=\"sk-label sk-toggleable\"><input class=\"sk-toggleable__control sk-hidden--visually\" id=\"sk-estimator-id-10\" type=\"checkbox\" ><label for=\"sk-estimator-id-10\" class=\"sk-toggleable__label sk-toggleable__label-arrow\">impute: SklearnTransformerWrapper</label><div class=\"sk-toggleable__content\"><pre>SklearnTransformerWrapper(transformer=SimpleImputer(strategy=&#x27;most_frequent&#x27;),\n",
       "                          variables=[&#x27;funder&#x27;, &#x27;installer&#x27;, &#x27;public_meeting&#x27;,\n",
       "                                     &#x27;scheme_management&#x27;, &#x27;permit&#x27;])</pre></div></div></div><div class=\"sk-parallel\"><div class=\"sk-parallel-item\"><div class=\"sk-item\"><div class=\"sk-label-container\"><div class=\"sk-label sk-toggleable\"><input class=\"sk-toggleable__control sk-hidden--visually\" id=\"sk-estimator-id-11\" type=\"checkbox\" ><label for=\"sk-estimator-id-11\" class=\"sk-toggleable__label sk-toggleable__label-arrow\">transformer: SimpleImputer</label><div class=\"sk-toggleable__content\"><pre>SimpleImputer(strategy=&#x27;most_frequent&#x27;)</pre></div></div></div><div class=\"sk-serial\"><div class=\"sk-item\"><div class=\"sk-estimator sk-toggleable\"><input class=\"sk-toggleable__control sk-hidden--visually\" id=\"sk-estimator-id-12\" type=\"checkbox\" ><label for=\"sk-estimator-id-12\" class=\"sk-toggleable__label sk-toggleable__label-arrow\">SimpleImputer</label><div class=\"sk-toggleable__content\"><pre>SimpleImputer(strategy=&#x27;most_frequent&#x27;)</pre></div></div></div></div></div></div></div></div><div class=\"sk-item sk-dashed-wrapped\"><div class=\"sk-label-container\"><div class=\"sk-label sk-toggleable\"><input class=\"sk-toggleable__control sk-hidden--visually\" id=\"sk-estimator-id-13\" type=\"checkbox\" ><label for=\"sk-estimator-id-13\" class=\"sk-toggleable__label sk-toggleable__label-arrow\">scaler: SklearnTransformerWrapper</label><div class=\"sk-toggleable__content\"><pre>SklearnTransformerWrapper(transformer=StandardScaler(),\n",
       "                          variables=[&#x27;amount_tsh&#x27;, &#x27;gps_height&#x27;, &#x27;population&#x27;,\n",
       "                                     &#x27;age&#x27;])</pre></div></div></div><div class=\"sk-parallel\"><div class=\"sk-parallel-item\"><div class=\"sk-item\"><div class=\"sk-label-container\"><div class=\"sk-label sk-toggleable\"><input class=\"sk-toggleable__control sk-hidden--visually\" id=\"sk-estimator-id-14\" type=\"checkbox\" ><label for=\"sk-estimator-id-14\" class=\"sk-toggleable__label sk-toggleable__label-arrow\">transformer: StandardScaler</label><div class=\"sk-toggleable__content\"><pre>StandardScaler()</pre></div></div></div><div class=\"sk-serial\"><div class=\"sk-item\"><div class=\"sk-estimator sk-toggleable\"><input class=\"sk-toggleable__control sk-hidden--visually\" id=\"sk-estimator-id-15\" type=\"checkbox\" ><label for=\"sk-estimator-id-15\" class=\"sk-toggleable__label sk-toggleable__label-arrow\">StandardScaler</label><div class=\"sk-toggleable__content\"><pre>StandardScaler()</pre></div></div></div></div></div></div></div></div><div class=\"sk-item\"><div class=\"sk-estimator sk-toggleable\"><input class=\"sk-toggleable__control sk-hidden--visually\" id=\"sk-estimator-id-16\" type=\"checkbox\" ><label for=\"sk-estimator-id-16\" class=\"sk-toggleable__label sk-toggleable__label-arrow\">RareLabelEncoder</label><div class=\"sk-toggleable__content\"><pre>RareLabelEncoder(replace_with=&#x27;Unknown&#x27;,\n",
       "                 variables=[&#x27;funder&#x27;, &#x27;installer&#x27;, &#x27;basin&#x27;, &#x27;region&#x27;,\n",
       "                            &#x27;public_meeting&#x27;, &#x27;scheme_management&#x27;, &#x27;permit&#x27;,\n",
       "                            &#x27;extraction_type_class&#x27;, &#x27;management_group&#x27;,\n",
       "                            &#x27;payment_type&#x27;, &#x27;quality_group&#x27;, &#x27;quantity_group&#x27;,\n",
       "                            &#x27;source_class&#x27;, &#x27;waterpoint_type_group&#x27;])</pre></div></div></div><div class=\"sk-item\"><div class=\"sk-estimator sk-toggleable\"><input class=\"sk-toggleable__control sk-hidden--visually\" id=\"sk-estimator-id-17\" type=\"checkbox\" ><label for=\"sk-estimator-id-17\" class=\"sk-toggleable__label sk-toggleable__label-arrow\">CatBoostClassifier</label><div class=\"sk-toggleable__content\"><pre>&lt;catboost.core.CatBoostClassifier object at 0x000002859680C0A0&gt;</pre></div></div></div></div></div></div></div>"
      ],
      "text/plain": [
       "Pipeline(steps=[('impute',\n",
       "                 SklearnTransformerWrapper(transformer=SimpleImputer(strategy='most_frequent'),\n",
       "                                           variables=['funder', 'installer',\n",
       "                                                      'public_meeting',\n",
       "                                                      'scheme_management',\n",
       "                                                      'permit'])),\n",
       "                ('scaler',\n",
       "                 SklearnTransformerWrapper(transformer=StandardScaler(),\n",
       "                                           variables=['amount_tsh',\n",
       "                                                      'gps_height',\n",
       "                                                      'population', 'age'])),\n",
       "                ('rare_label',\n",
       "                 RareLabelEncoder(replace_with='Unknown',\n",
       "                                  variables=['funder', 'installer', 'basin',\n",
       "                                             'region', 'public_meeting',\n",
       "                                             'scheme_management', 'permit',\n",
       "                                             'extraction_type_class',\n",
       "                                             'management_group', 'payment_type',\n",
       "                                             'quality_group', 'quantity_group',\n",
       "                                             'source_class',\n",
       "                                             'waterpoint_type_group'])),\n",
       "                ('catboost',\n",
       "                 <catboost.core.CatBoostClassifier object at 0x000002859680C0A0>)])"
      ]
     },
     "execution_count": 147,
     "metadata": {},
     "output_type": "execute_result"
    }
   ],
   "source": [
    "cat_cols = X_train.select_dtypes(include=['object']).columns.tolist()\n",
    "cat_indices = [i for i, col in enumerate(X_train.columns) if X_train[col].dtypes =='object']\n",
    "num_cols = X_train.select_dtypes(include=['int64', 'float64']).columns.tolist()\n",
    "# Get list of columns with missing values\n",
    "cols_with_missing = df.columns[df.isna().any()].tolist()\n",
    "\n",
    "\n",
    "# set up the wrapper with the SimpleImputer\n",
    "imputer = SklearnTransformerWrapper(transformer = SimpleImputer(strategy='most_frequent'),\n",
    "                                    variables = cols_with_missing)\n",
    "\n",
    "scaler = SklearnTransformerWrapper(transformer=StandardScaler(),\n",
    "                                   variables=num_cols)\n",
    "\n",
    "\n",
    "pipeline_cbc = Pipeline(steps=[('impute', imputer),\n",
    "                           ('scaler', scaler),\n",
    "                           ('rare_label', RareLabelEncoder(replace_with='Unknown', n_categories=10, variables=cat_cols)),\n",
    "                           ('catboost', CatBoostClassifier(verbose=False, cat_features=cat_indices))\n",
    "                            ])\n",
    "\n",
    "pipeline_cbc.fit(X_train, y_train)"
   ]
  },
  {
   "cell_type": "code",
   "execution_count": 148,
   "id": "f2fb77e8",
   "metadata": {},
   "outputs": [
    {
     "data": {
      "text/plain": [
       "0.774635241301908"
      ]
     },
     "execution_count": 148,
     "metadata": {},
     "output_type": "execute_result"
    }
   ],
   "source": [
    "y_pred_cbc= pipeline_cbc.predict(X_test)\n",
    "f2_score_cbc = fbeta_score(y_test, y_pred_cbc, beta=2, average='micro')\n",
    "f2_score_cbc"
   ]
  },
  {
   "cell_type": "code",
   "execution_count": null,
   "id": "15087448",
   "metadata": {},
   "outputs": [],
   "source": []
  },
  {
   "cell_type": "code",
   "execution_count": null,
   "id": "d553b8cb",
   "metadata": {},
   "outputs": [],
   "source": []
  },
  {
   "cell_type": "code",
   "execution_count": 74,
   "id": "4c607cb8",
   "metadata": {},
   "outputs": [],
   "source": [
    "def f2_score(y_true, y_pred):\n",
    "    return fbeta_score(y_true, y_pred, beta=2, average='weighted')\n",
    "\n",
    "f2_scorer = make_scorer(f2_score)"
   ]
  },
  {
   "cell_type": "code",
   "execution_count": 156,
   "id": "bcc1922e",
   "metadata": {},
   "outputs": [
    {
     "name": "stderr",
     "output_type": "stream",
     "text": [
      "\u001b[32m[I 2023-05-04 17:17:03,413]\u001b[0m A new study created in memory with name: no-name-24d0e7cb-c5bb-49f3-ba56-56830fac5f83\u001b[0m\n",
      "\u001b[32m[I 2023-05-04 17:30:03,909]\u001b[0m Trial 0 finished with value: 0.7675752982488673 and parameters: {'learning_rate': 0.05603576670294327, 'iterations': 700, 'depth': 10}. Best is trial 0 with value: 0.7675752982488673.\u001b[0m\n",
      "\u001b[32m[I 2023-05-04 17:41:08,367]\u001b[0m Trial 1 finished with value: 0.7694795276440004 and parameters: {'learning_rate': 0.09866258845879192, 'iterations': 900, 'depth': 9}. Best is trial 1 with value: 0.7694795276440004.\u001b[0m\n",
      "\u001b[32m[I 2023-05-04 17:46:00,180]\u001b[0m Trial 2 finished with value: 0.7587481531171764 and parameters: {'learning_rate': 0.09836079724985851, 'iterations': 900, 'depth': 6}. Best is trial 1 with value: 0.7694795276440004.\u001b[0m\n",
      "\u001b[32m[I 2023-05-04 17:46:18,023]\u001b[0m Trial 3 finished with value: 0.7123135206464509 and parameters: {'learning_rate': 0.06580653425916695, 'iterations': 100, 'depth': 5}. Best is trial 1 with value: 0.7694795276440004.\u001b[0m\n",
      "\u001b[32m[I 2023-05-04 17:53:25,513]\u001b[0m Trial 4 finished with value: 0.767198337255547 and parameters: {'learning_rate': 0.08778622668465635, 'iterations': 800, 'depth': 8}. Best is trial 1 with value: 0.7694795276440004.\u001b[0m\n",
      "\u001b[32m[I 2023-05-04 17:56:02,750]\u001b[0m Trial 5 finished with value: 0.7388985363739685 and parameters: {'learning_rate': 0.06035442025242426, 'iterations': 1000, 'depth': 4}. Best is trial 1 with value: 0.7694795276440004.\u001b[0m\n",
      "\u001b[32m[I 2023-05-04 17:59:08,969]\u001b[0m Trial 6 finished with value: 0.7336560402479945 and parameters: {'learning_rate': 0.020329523862306145, 'iterations': 700, 'depth': 6}. Best is trial 1 with value: 0.7694795276440004.\u001b[0m\n",
      "\u001b[32m[I 2023-05-04 18:06:54,695]\u001b[0m Trial 7 finished with value: 0.7632675112281634 and parameters: {'learning_rate': 0.05046082635122015, 'iterations': 900, 'depth': 8}. Best is trial 1 with value: 0.7694795276440004.\u001b[0m\n",
      "\u001b[32m[I 2023-05-04 18:07:06,767]\u001b[0m Trial 8 finished with value: 0.7097698304786592 and parameters: {'learning_rate': 0.09032841639886934, 'iterations': 100, 'depth': 4}. Best is trial 1 with value: 0.7694795276440004.\u001b[0m\n",
      "\u001b[32m[I 2023-05-04 18:09:12,176]\u001b[0m Trial 9 finished with value: 0.7413030602291975 and parameters: {'learning_rate': 0.061627835920229676, 'iterations': 600, 'depth': 5}. Best is trial 1 with value: 0.7694795276440004.\u001b[0m\n"
     ]
    }
   ],
   "source": [
    "\n",
    "def objective(trial):\n",
    "    # Define the hyperparameters to optimize\n",
    "    params = {\n",
    "        'learning_rate': trial.suggest_uniform('learning_rate', 0.01, 0.1),\n",
    "        'iterations': trial.suggest_int('iterations', 100, 1000, step=100),\n",
    "        'depth': trial.suggest_int('depth', 4, 10)\n",
    "    }\n",
    "\n",
    "    cat_cols = X_train.select_dtypes(include=['object']).columns.tolist()\n",
    "    cat_indices = [i for i, col in enumerate(X_train.columns) if X_train[col].dtypes =='object']\n",
    "    num_cols = X_train.select_dtypes(include=['int64', 'float64']).columns.tolist()\n",
    "    # Get list of columns with missing values\n",
    "    cols_with_missing = df.columns[df.isna().any()].tolist()\n",
    "\n",
    "\n",
    "    # set up the wrapper with the SimpleImputer\n",
    "    imputer = SklearnTransformerWrapper(transformer = SimpleImputer(strategy='most_frequent'),\n",
    "                                        variables = cols_with_missing)\n",
    "\n",
    "    scaler = SklearnTransformerWrapper(transformer=StandardScaler(),\n",
    "                                    variables=num_cols)\n",
    "\n",
    "\n",
    "    pipeline_cbc = Pipeline(steps=[('impute', imputer),\n",
    "                            ('scaler', scaler),\n",
    "                            ('rare_label', RareLabelEncoder(replace_with='Unknown', n_categories=10, variables=cat_cols)),\n",
    "                            ('catboost', CatBoostClassifier(**params, verbose=False, cat_features=cat_indices, early_stopping_rounds=50))\n",
    "                                ])\n",
    "\n",
    "        \n",
    "\n",
    "    # Perform cross-validation with the pipeline and return the F2 score\n",
    "    score = cross_val_score(pipeline_cbc, X_train, y_train, cv=3, scoring=f2_scorer).mean()\n",
    "    return score\n",
    "\n",
    "study = optuna.create_study(direction='maximize')\n",
    "study.optimize(objective, n_trials=10)"
   ]
  },
  {
   "cell_type": "code",
   "execution_count": 157,
   "id": "eb123385",
   "metadata": {},
   "outputs": [],
   "source": [
    "best_params = study.best_params\n",
    "# perform one hot encoding on the categorical features\n",
    "\n",
    "pipeline_cbc = Pipeline(steps=[('impute', imputer),\n",
    "                            ('scaler', scaler),\n",
    "                            ('rare_label', RareLabelEncoder(replace_with='Unknown', n_categories=10, variables=cat_cols)),\n",
    "                            ('catboost', CatBoostClassifier(**best_params, verbose=False, cat_features=cat_indices))\n",
    "                                ])\n",
    "    \n",
    "pipeline_cbc.fit(X_train, y_train)\n",
    "y_pred_cbc= pipeline_cbc.predict(X_test)"
   ]
  },
  {
   "cell_type": "code",
   "execution_count": 158,
   "id": "a2696a44",
   "metadata": {},
   "outputs": [
    {
     "data": {
      "text/plain": [
       "0.7853535353535354"
      ]
     },
     "execution_count": 158,
     "metadata": {},
     "output_type": "execute_result"
    }
   ],
   "source": [
    "f2_score_cbc = fbeta_score(y_test, y_pred_cbc, beta=2, average='micro')\n",
    "f2_score_cbc"
   ]
  },
  {
   "attachments": {},
   "cell_type": "markdown",
   "id": "1512226a",
   "metadata": {},
   "source": [
    "#### Stratified Split"
   ]
  },
  {
   "cell_type": "code",
   "execution_count": 31,
   "id": "2c5092cc",
   "metadata": {},
   "outputs": [
    {
     "name": "stderr",
     "output_type": "stream",
     "text": [
      "\u001b[32m[I 2023-05-04 22:41:34,405]\u001b[0m A new study created in memory with name: no-name-ac7fcdab-883f-49a1-9648-ab103d69a784\u001b[0m\n",
      "\u001b[32m[I 2023-05-04 22:45:18,467]\u001b[0m Trial 0 finished with value: 0.7333092833092834 and parameters: {'learning_rate': 0.007698271779089503, 'iterations': 1000, 'depth': 5}. Best is trial 0 with value: 0.7333092833092834.\u001b[0m\n",
      "\u001b[32m[I 2023-05-04 22:50:37,047]\u001b[0m Trial 1 finished with value: 0.7541606541606543 and parameters: {'learning_rate': 0.03168731930265104, 'iterations': 900, 'depth': 6}. Best is trial 1 with value: 0.7541606541606543.\u001b[0m\n",
      "\u001b[32m[I 2023-05-04 22:50:55,422]\u001b[0m Trial 2 finished with value: 0.7222222222222222 and parameters: {'learning_rate': 0.040024648514626476, 'iterations': 100, 'depth': 5}. Best is trial 1 with value: 0.7541606541606543.\u001b[0m\n",
      "\u001b[32m[I 2023-05-04 22:52:28,052]\u001b[0m Trial 3 finished with value: 0.7482443482443483 and parameters: {'learning_rate': 0.09421409726735168, 'iterations': 500, 'depth': 4}. Best is trial 1 with value: 0.7541606541606543.\u001b[0m\n",
      "\u001b[32m[I 2023-05-04 22:55:45,549]\u001b[0m Trial 4 finished with value: 0.7670514670514671 and parameters: {'learning_rate': 0.09513490910009799, 'iterations': 300, 'depth': 9}. Best is trial 4 with value: 0.7670514670514671.\u001b[0m\n",
      "\u001b[32m[I 2023-05-04 22:57:30,909]\u001b[0m Trial 5 finished with value: 0.7523809523809524 and parameters: {'learning_rate': 0.053714620340741905, 'iterations': 300, 'depth': 7}. Best is trial 4 with value: 0.7670514670514671.\u001b[0m\n",
      "\u001b[32m[I 2023-05-04 22:59:30,938]\u001b[0m Trial 6 finished with value: 0.753006253006253 and parameters: {'learning_rate': 0.06776498991146745, 'iterations': 400, 'depth': 6}. Best is trial 4 with value: 0.7670514670514671.\u001b[0m\n",
      "\u001b[32m[I 2023-05-04 23:04:15,264]\u001b[0m Trial 7 finished with value: 0.7688071188071189 and parameters: {'learning_rate': 0.09111363772061784, 'iterations': 700, 'depth': 7}. Best is trial 7 with value: 0.7688071188071189.\u001b[0m\n",
      "\u001b[32m[I 2023-05-04 23:07:53,977]\u001b[0m Trial 8 finished with value: 0.7295093795093796 and parameters: {'learning_rate': 0.006906325504589532, 'iterations': 500, 'depth': 7}. Best is trial 7 with value: 0.7688071188071189.\u001b[0m\n",
      "\u001b[32m[I 2023-05-04 23:11:41,444]\u001b[0m Trial 9 finished with value: 0.7455988455988457 and parameters: {'learning_rate': 0.024590816058149917, 'iterations': 800, 'depth': 5}. Best is trial 7 with value: 0.7688071188071189.\u001b[0m\n",
      "\u001b[32m[I 2023-05-04 23:22:09,422]\u001b[0m Trial 10 finished with value: 0.7735449735449734 and parameters: {'learning_rate': 0.07405355961419696, 'iterations': 700, 'depth': 10}. Best is trial 10 with value: 0.7735449735449734.\u001b[0m\n",
      "\u001b[32m[I 2023-05-04 23:32:35,142]\u001b[0m Trial 11 finished with value: 0.7727753727753729 and parameters: {'learning_rate': 0.0774423708056273, 'iterations': 700, 'depth': 10}. Best is trial 10 with value: 0.7735449735449734.\u001b[0m\n",
      "\u001b[32m[I 2023-05-04 23:42:56,710]\u001b[0m Trial 12 finished with value: 0.7733766233766234 and parameters: {'learning_rate': 0.07313287901628283, 'iterations': 700, 'depth': 10}. Best is trial 10 with value: 0.7735449735449734.\u001b[0m\n",
      "\u001b[32m[I 2023-05-04 23:50:11,657]\u001b[0m Trial 13 finished with value: 0.772077922077922 and parameters: {'learning_rate': 0.06808544276055825, 'iterations': 700, 'depth': 9}. Best is trial 10 with value: 0.7735449735449734.\u001b[0m\n",
      "\u001b[32m[I 2023-05-04 23:58:32,616]\u001b[0m Trial 14 finished with value: 0.7727513227513229 and parameters: {'learning_rate': 0.07858072902379509, 'iterations': 600, 'depth': 10}. Best is trial 10 with value: 0.7735449735449734.\u001b[0m\n",
      "\u001b[32m[I 2023-05-05 00:07:48,348]\u001b[0m Trial 15 finished with value: 0.7729437229437229 and parameters: {'learning_rate': 0.054450687593630684, 'iterations': 900, 'depth': 9}. Best is trial 10 with value: 0.7735449735449734.\u001b[0m\n",
      "\u001b[32m[I 2023-05-05 00:12:34,692]\u001b[0m Trial 16 finished with value: 0.7678451178451179 and parameters: {'learning_rate': 0.0654856379455003, 'iterations': 600, 'depth': 8}. Best is trial 10 with value: 0.7735449735449734.\u001b[0m\n",
      "\u001b[32m[I 2023-05-05 00:23:58,482]\u001b[0m Trial 17 finished with value: 0.7736892736892736 and parameters: {'learning_rate': 0.08083653242298232, 'iterations': 800, 'depth': 10}. Best is trial 17 with value: 0.7736892736892736.\u001b[0m\n",
      "\u001b[32m[I 2023-05-05 00:31:06,332]\u001b[0m Trial 18 finished with value: 0.7716690716690717 and parameters: {'learning_rate': 0.08000620071649761, 'iterations': 900, 'depth': 8}. Best is trial 17 with value: 0.7736892736892736.\u001b[0m\n",
      "\u001b[32m[I 2023-05-05 00:37:20,700]\u001b[0m Trial 19 finished with value: 0.7698653198653198 and parameters: {'learning_rate': 0.05913331696030928, 'iterations': 800, 'depth': 8}. Best is trial 17 with value: 0.7736892736892736.\u001b[0m\n",
      "\u001b[32m[I 2023-05-05 00:47:40,080]\u001b[0m Trial 20 finished with value: 0.7763828763828764 and parameters: {'learning_rate': 0.08853041987932883, 'iterations': 1000, 'depth': 9}. Best is trial 20 with value: 0.7763828763828764.\u001b[0m\n",
      "\u001b[32m[I 2023-05-05 01:01:54,089]\u001b[0m Trial 21 finished with value: 0.7735690235690237 and parameters: {'learning_rate': 0.085553080857277, 'iterations': 1000, 'depth': 10}. Best is trial 20 with value: 0.7763828763828764.\u001b[0m\n",
      "\u001b[32m[I 2023-05-05 01:12:31,530]\u001b[0m Trial 22 finished with value: 0.7730399230399231 and parameters: {'learning_rate': 0.09973223095805837, 'iterations': 1000, 'depth': 9}. Best is trial 20 with value: 0.7763828763828764.\u001b[0m\n",
      "\u001b[32m[I 2023-05-05 01:26:39,569]\u001b[0m Trial 23 finished with value: 0.7735449735449736 and parameters: {'learning_rate': 0.08695195606730237, 'iterations': 1000, 'depth': 10}. Best is trial 20 with value: 0.7763828763828764.\u001b[0m\n",
      "\u001b[32m[I 2023-05-05 01:36:10,423]\u001b[0m Trial 24 finished with value: 0.7739297739297739 and parameters: {'learning_rate': 0.08629120053775756, 'iterations': 900, 'depth': 9}. Best is trial 20 with value: 0.7763828763828764.\u001b[0m\n",
      "\u001b[32m[I 2023-05-05 01:44:19,877]\u001b[0m Trial 25 finished with value: 0.7744829244829244 and parameters: {'learning_rate': 0.0867542778131929, 'iterations': 800, 'depth': 9}. Best is trial 20 with value: 0.7763828763828764.\u001b[0m\n",
      "\u001b[32m[I 2023-05-05 01:51:16,854]\u001b[0m Trial 26 finished with value: 0.7751322751322752 and parameters: {'learning_rate': 0.09988347915893293, 'iterations': 900, 'depth': 8}. Best is trial 20 with value: 0.7763828763828764.\u001b[0m\n",
      "\u001b[32m[I 2023-05-05 01:57:22,324]\u001b[0m Trial 27 finished with value: 0.7746753246753247 and parameters: {'learning_rate': 0.09912052632703497, 'iterations': 800, 'depth': 8}. Best is trial 20 with value: 0.7763828763828764.\u001b[0m\n",
      "\u001b[32m[I 2023-05-05 02:04:23,347]\u001b[0m Trial 28 finished with value: 0.7747715247715248 and parameters: {'learning_rate': 0.09924833248574895, 'iterations': 900, 'depth': 8}. Best is trial 20 with value: 0.7763828763828764.\u001b[0m\n",
      "\u001b[32m[I 2023-05-05 02:12:12,513]\u001b[0m Trial 29 finished with value: 0.773953823953824 and parameters: {'learning_rate': 0.09237876205111167, 'iterations': 1000, 'depth': 8}. Best is trial 20 with value: 0.7763828763828764.\u001b[0m\n",
      "\u001b[32m[I 2023-05-05 02:16:58,892]\u001b[0m Trial 30 finished with value: 0.7708273208273209 and parameters: {'learning_rate': 0.09785191924457974, 'iterations': 900, 'depth': 7}. Best is trial 20 with value: 0.7763828763828764.\u001b[0m\n",
      "\u001b[32m[I 2023-05-05 02:24:45,677]\u001b[0m Trial 31 finished with value: 0.7752044252044251 and parameters: {'learning_rate': 0.09983658811571283, 'iterations': 1000, 'depth': 8}. Best is trial 20 with value: 0.7763828763828764.\u001b[0m\n",
      "\u001b[32m[I 2023-05-05 02:32:37,537]\u001b[0m Trial 32 finished with value: 0.7761423761423761 and parameters: {'learning_rate': 0.09935683757323575, 'iterations': 1000, 'depth': 8}. Best is trial 20 with value: 0.7763828763828764.\u001b[0m\n",
      "\u001b[32m[I 2023-05-05 02:36:39,378]\u001b[0m Trial 33 finished with value: 0.7670033670033671 and parameters: {'learning_rate': 0.09020562907848, 'iterations': 1000, 'depth': 6}. Best is trial 20 with value: 0.7763828763828764.\u001b[0m\n",
      "\u001b[32m[I 2023-05-05 02:41:55,437]\u001b[0m Trial 34 finished with value: 0.7727513227513226 and parameters: {'learning_rate': 0.08991264794955973, 'iterations': 1000, 'depth': 7}. Best is trial 20 with value: 0.7763828763828764.\u001b[0m\n",
      "\u001b[32m[I 2023-05-05 02:49:49,911]\u001b[0m Trial 35 finished with value: 0.7736171236171235 and parameters: {'learning_rate': 0.09328083692559001, 'iterations': 1000, 'depth': 8}. Best is trial 20 with value: 0.7763828763828764.\u001b[0m\n",
      "\u001b[32m[I 2023-05-05 02:50:15,596]\u001b[0m Trial 36 finished with value: 0.7517316017316017 and parameters: {'learning_rate': 0.0999056732828029, 'iterations': 100, 'depth': 9}. Best is trial 20 with value: 0.7763828763828764.\u001b[0m\n",
      "\u001b[32m[I 2023-05-05 02:55:01,094]\u001b[0m Trial 37 finished with value: 0.7706349206349206 and parameters: {'learning_rate': 0.0946341342659695, 'iterations': 900, 'depth': 7}. Best is trial 20 with value: 0.7763828763828764.\u001b[0m\n",
      "\u001b[32m[I 2023-05-05 02:56:33,874]\u001b[0m Trial 38 finished with value: 0.7564454064454065 and parameters: {'learning_rate': 0.0831853904260155, 'iterations': 200, 'depth': 8}. Best is trial 20 with value: 0.7763828763828764.\u001b[0m\n",
      "\u001b[32m[I 2023-05-05 02:58:42,645]\u001b[0m Trial 39 finished with value: 0.753992303992304 and parameters: {'learning_rate': 0.09396375697187659, 'iterations': 900, 'depth': 4}. Best is trial 20 with value: 0.7763828763828764.\u001b[0m\n",
      "\u001b[32m[I 2023-05-05 03:02:45,332]\u001b[0m Trial 40 finished with value: 0.7668350168350169 and parameters: {'learning_rate': 0.08900057675846432, 'iterations': 1000, 'depth': 6}. Best is trial 20 with value: 0.7763828763828764.\u001b[0m\n",
      "\u001b[32m[I 2023-05-05 03:09:59,543]\u001b[0m Trial 41 finished with value: 0.7742905242905244 and parameters: {'learning_rate': 0.09941903844224359, 'iterations': 900, 'depth': 8}. Best is trial 20 with value: 0.7763828763828764.\u001b[0m\n",
      "\u001b[32m[I 2023-05-05 03:16:54,991]\u001b[0m Trial 42 finished with value: 0.7745310245310245 and parameters: {'learning_rate': 0.09331252453684262, 'iterations': 900, 'depth': 8}. Best is trial 20 with value: 0.7763828763828764.\u001b[0m\n",
      "\u001b[32m[I 2023-05-05 03:22:08,861]\u001b[0m Trial 43 finished with value: 0.7725589225589227 and parameters: {'learning_rate': 0.09565903792814973, 'iterations': 1000, 'depth': 7}. Best is trial 20 with value: 0.7763828763828764.\u001b[0m\n",
      "\u001b[32m[I 2023-05-05 03:30:20,640]\u001b[0m Trial 44 finished with value: 0.7738576238576238 and parameters: {'learning_rate': 0.0852350877292393, 'iterations': 800, 'depth': 9}. Best is trial 20 with value: 0.7763828763828764.\u001b[0m\n",
      "\u001b[32m[I 2023-05-05 03:38:12,715]\u001b[0m Trial 45 finished with value: 0.7750841750841752 and parameters: {'learning_rate': 0.09623987498100962, 'iterations': 1000, 'depth': 8}. Best is trial 20 with value: 0.7763828763828764.\u001b[0m\n",
      "\u001b[32m[I 2023-05-05 03:42:18,598]\u001b[0m Trial 46 finished with value: 0.7716690716690717 and parameters: {'learning_rate': 0.09042993823253448, 'iterations': 400, 'depth': 9}. Best is trial 20 with value: 0.7763828763828764.\u001b[0m\n",
      "\u001b[32m[I 2023-05-05 03:47:36,765]\u001b[0m Trial 47 finished with value: 0.7723184223184223 and parameters: {'learning_rate': 0.08339287042286465, 'iterations': 1000, 'depth': 7}. Best is trial 20 with value: 0.7763828763828764.\u001b[0m\n",
      "\u001b[32m[I 2023-05-05 03:55:35,413]\u001b[0m Trial 48 finished with value: 0.7746753246753246 and parameters: {'learning_rate': 0.09451056495961091, 'iterations': 1000, 'depth': 8}. Best is trial 20 with value: 0.7763828763828764.\u001b[0m\n",
      "\u001b[32m[I 2023-05-05 04:04:49,783]\u001b[0m Trial 49 finished with value: 0.7746512746512746 and parameters: {'learning_rate': 0.07531732280511728, 'iterations': 900, 'depth': 9}. Best is trial 20 with value: 0.7763828763828764.\u001b[0m\n"
     ]
    }
   ],
   "source": [
    "\n",
    "def objective(trial):\n",
    "    # Define the hyperparameters to optimize\n",
    "    params = {\n",
    "        'learning_rate': trial.suggest_uniform('learning_rate', 0.001, 0.1),\n",
    "        'iterations': trial.suggest_int('iterations', 100, 1000, step=100),\n",
    "        'depth': trial.suggest_int('depth', 4, 10)\n",
    "    }\n",
    "\n",
    "    cat_cols = X_train.select_dtypes(include=['object']).columns.tolist()\n",
    "    cat_indices = [i for i, col in enumerate(X_train.columns) if X_train[col].dtypes =='object']\n",
    "    num_cols = X_train.select_dtypes(include=['int64', 'float64']).columns.tolist()\n",
    "    # Get list of columns with missing values\n",
    "    cols_with_missing = df.columns[df.isna().any()].tolist()\n",
    "\n",
    "\n",
    "    # set up the wrapper with the SimpleImputer\n",
    "    imputer = SklearnTransformerWrapper(transformer = SimpleImputer(strategy='most_frequent'),\n",
    "                                        variables = cols_with_missing)\n",
    "\n",
    "    scaler = SklearnTransformerWrapper(transformer=StandardScaler(),\n",
    "                                    variables=num_cols)\n",
    "\n",
    "\n",
    "    pipeline_cbc = Pipeline(steps=[('impute', imputer),\n",
    "                            ('scaler', scaler),\n",
    "                            ('rare_label', RareLabelEncoder(replace_with='Unknown', n_categories=10, variables=cat_cols)),\n",
    "                            ('catboost', CatBoostClassifier(**params, verbose=False, cat_features=cat_indices, early_stopping_rounds=50))\n",
    "                                ])\n",
    "    \n",
    "    # Define cross-validation method\n",
    "    sfk = StratifiedKFold(n_splits=3, shuffle=True, random_state=42)\n",
    "    y_train_df = pd.Series(y_train)\n",
    "\n",
    "     # Train and evaluate model using f1_score\n",
    "    f1_scores = []\n",
    "    for train_idx, test_idx in sfk.split(X_train, y_train_df):\n",
    "        X_train_split, X_test_split = X_train.iloc[train_idx], X_train.iloc[test_idx]\n",
    "        y_train_split, y_test_split = y_train_df.iloc[train_idx], y_train_df.iloc[test_idx]\n",
    "\n",
    "        pipeline_cbc.fit(X_train_split, y_train_split)\n",
    "        y_pred = pipeline_cbc.predict(X_test_split)\n",
    "\n",
    "        f1_scores.append(fbeta_score(y_test_split, y_pred, beta=2, average='micro'))\n",
    "\n",
    "    return np.mean(f1_scores)\n",
    "\n",
    "study = optuna.create_study(direction='maximize')\n",
    "study.optimize(objective, n_trials=50)"
   ]
  },
  {
   "attachments": {},
   "cell_type": "markdown",
   "id": "0cc3458c",
   "metadata": {},
   "source": [
    "1. lack of understanding of variables (hard to address many unique values)\n",
    "2. Lack of information on business constraints (cost of repairing/replacing a water pump)"
   ]
  },
  {
   "attachments": {},
   "cell_type": "markdown",
   "id": "b759a6da",
   "metadata": {},
   "source": []
  },
  {
   "cell_type": "code",
   "execution_count": null,
   "id": "de8df44c",
   "metadata": {},
   "outputs": [],
   "source": []
  }
 ],
 "metadata": {
  "kernelspec": {
   "display_name": "venv",
   "language": "python",
   "name": "python3"
  },
  "language_info": {
   "codemirror_mode": {
    "name": "ipython",
    "version": 3
   },
   "file_extension": ".py",
   "mimetype": "text/x-python",
   "name": "python",
   "nbconvert_exporter": "python",
   "pygments_lexer": "ipython3",
   "version": "3.9.13"
  }
 },
 "nbformat": 4,
 "nbformat_minor": 5
}
