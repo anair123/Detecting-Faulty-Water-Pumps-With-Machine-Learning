{
 "cells": [
  {
   "attachments": {},
   "cell_type": "markdown",
   "id": "a381e72e",
   "metadata": {},
   "source": [
    "### Libraries"
   ]
  },
  {
   "cell_type": "code",
   "execution_count": 1,
   "metadata": {},
   "outputs": [
    {
     "name": "stderr",
     "output_type": "stream",
     "text": [
      "c:\\Users\\aashi\\Desktop\\Personal Projects\\Data Science\\Identifying-Faulty-Water-Pumps-With-Machine-Learning\\venv\\lib\\site-packages\\tqdm\\auto.py:21: TqdmWarning: IProgress not found. Please update jupyter and ipywidgets. See https://ipywidgets.readthedocs.io/en/stable/user_install.html\n",
      "  from .autonotebook import tqdm as notebook_tqdm\n"
     ]
    }
   ],
   "source": [
    "import numpy as np\n",
    "import pandas as pd\n",
    "import seaborn as sns\n",
    "from sklearn.preprocessing import LabelEncoder\n",
    "from sklearn.feature_selection import chi2\n",
    "import matplotlib.pyplot as plt\n",
    "from sklearn.preprocessing import StandardScaler\n",
    "from sklearn.feature_selection import SelectKBest\n",
    "from sklearn.feature_selection import f_classif\n",
    "from sklearn.model_selection import train_test_split\n",
    "from sklearn.model_selection import cross_val_score, StratifiedKFold\n",
    "from sklearn.dummy import DummyClassifier\n",
    "from sklearn.pipeline import Pipeline\n",
    "from sklearn.compose import ColumnTransformer\n",
    "from sklearn.preprocessing import FunctionTransformer\n",
    "from sklearn.impute import SimpleImputer, KNNImputer\n",
    "from feature_engine.imputation import CategoricalImputer, DropMissingData\n",
    "from feature_engine.encoding import RareLabelEncoder\n",
    "from sklearn.preprocessing import OneHotEncoder\n",
    "from sklearn.linear_model import LogisticRegression\n",
    "from sklearn.metrics import fbeta_score, make_scorer\n",
    "from feature_engine.wrappers import SklearnTransformerWrapper\n",
    "from catboost import CatBoostClassifier\n",
    "import optuna\n",
    "import lightgbm as lgb\n",
    "from optuna.integration import LightGBMPruningCallback\n",
    "import xgboost as xgb\n",
    "import pickle\n",
    "import warnings\n",
    "\n",
    "warnings.filterwarnings(action='ignore')"
   ]
  },
  {
   "cell_type": "code",
   "execution_count": 2,
   "id": "e08dfe5d",
   "metadata": {},
   "outputs": [],
   "source": [
    "train_values = pd.read_csv('data/train_values.csv')\n",
    "train_label = pd.read_csv('data/train_labels.csv')"
   ]
  },
  {
   "cell_type": "code",
   "execution_count": 3,
   "id": "efe14c4c",
   "metadata": {},
   "outputs": [],
   "source": [
    "# merge the two data frames\n",
    "df = train_values.merge(train_label, on='id')"
   ]
  },
  {
   "cell_type": "code",
   "execution_count": 4,
   "id": "72726eae",
   "metadata": {},
   "outputs": [
    {
     "data": {
      "text/plain": [
       "True"
      ]
     },
     "execution_count": 4,
     "metadata": {},
     "output_type": "execute_result"
    }
   ],
   "source": [
    "# check that all rows were in the joined dataset\n",
    "len(df) == len(train_label) == len(train_values)"
   ]
  },
  {
   "cell_type": "code",
   "execution_count": 5,
   "id": "1380246f",
   "metadata": {},
   "outputs": [
    {
     "data": {
      "text/plain": [
       "Index(['id', 'amount_tsh', 'date_recorded', 'funder', 'gps_height',\n",
       "       'installer', 'longitude', 'latitude', 'wpt_name', 'num_private',\n",
       "       'basin', 'subvillage', 'region', 'region_code', 'district_code', 'lga',\n",
       "       'ward', 'population', 'public_meeting', 'recorded_by',\n",
       "       'scheme_management', 'scheme_name', 'permit', 'construction_year',\n",
       "       'extraction_type', 'extraction_type_group', 'extraction_type_class',\n",
       "       'management', 'management_group', 'payment', 'payment_type',\n",
       "       'water_quality', 'quality_group', 'quantity', 'quantity_group',\n",
       "       'source', 'source_type', 'source_class', 'waterpoint_type',\n",
       "       'waterpoint_type_group', 'status_group'],\n",
       "      dtype='object')"
      ]
     },
     "execution_count": 5,
     "metadata": {},
     "output_type": "execute_result"
    }
   ],
   "source": [
    "df.columns"
   ]
  },
  {
   "cell_type": "code",
   "execution_count": 6,
   "id": "283cf637",
   "metadata": {},
   "outputs": [
    {
     "data": {
      "text/html": [
       "<div>\n",
       "<style scoped>\n",
       "    .dataframe tbody tr th:only-of-type {\n",
       "        vertical-align: middle;\n",
       "    }\n",
       "\n",
       "    .dataframe tbody tr th {\n",
       "        vertical-align: top;\n",
       "    }\n",
       "\n",
       "    .dataframe thead th {\n",
       "        text-align: right;\n",
       "    }\n",
       "</style>\n",
       "<table border=\"1\" class=\"dataframe\">\n",
       "  <thead>\n",
       "    <tr style=\"text-align: right;\">\n",
       "      <th></th>\n",
       "      <th>id</th>\n",
       "      <th>amount_tsh</th>\n",
       "      <th>date_recorded</th>\n",
       "      <th>funder</th>\n",
       "      <th>gps_height</th>\n",
       "      <th>installer</th>\n",
       "      <th>longitude</th>\n",
       "      <th>latitude</th>\n",
       "      <th>wpt_name</th>\n",
       "      <th>num_private</th>\n",
       "      <th>...</th>\n",
       "      <th>water_quality</th>\n",
       "      <th>quality_group</th>\n",
       "      <th>quantity</th>\n",
       "      <th>quantity_group</th>\n",
       "      <th>source</th>\n",
       "      <th>source_type</th>\n",
       "      <th>source_class</th>\n",
       "      <th>waterpoint_type</th>\n",
       "      <th>waterpoint_type_group</th>\n",
       "      <th>status_group</th>\n",
       "    </tr>\n",
       "  </thead>\n",
       "  <tbody>\n",
       "  </tbody>\n",
       "</table>\n",
       "<p>0 rows × 41 columns</p>\n",
       "</div>"
      ],
      "text/plain": [
       "Empty DataFrame\n",
       "Columns: [id, amount_tsh, date_recorded, funder, gps_height, installer, longitude, latitude, wpt_name, num_private, basin, subvillage, region, region_code, district_code, lga, ward, population, public_meeting, recorded_by, scheme_management, scheme_name, permit, construction_year, extraction_type, extraction_type_group, extraction_type_class, management, management_group, payment, payment_type, water_quality, quality_group, quantity, quantity_group, source, source_type, source_class, waterpoint_type, waterpoint_type_group, status_group]\n",
       "Index: []\n",
       "\n",
       "[0 rows x 41 columns]"
      ]
     },
     "execution_count": 6,
     "metadata": {},
     "output_type": "execute_result"
    }
   ],
   "source": [
    "# search for duplicates \n",
    "df[df['id'].duplicated()]"
   ]
  },
  {
   "cell_type": "code",
   "execution_count": 7,
   "id": "72abafcc",
   "metadata": {},
   "outputs": [
    {
     "data": {
      "text/html": [
       "<div>\n",
       "<style scoped>\n",
       "    .dataframe tbody tr th:only-of-type {\n",
       "        vertical-align: middle;\n",
       "    }\n",
       "\n",
       "    .dataframe tbody tr th {\n",
       "        vertical-align: top;\n",
       "    }\n",
       "\n",
       "    .dataframe thead th {\n",
       "        text-align: right;\n",
       "    }\n",
       "</style>\n",
       "<table border=\"1\" class=\"dataframe\">\n",
       "  <thead>\n",
       "    <tr style=\"text-align: right;\">\n",
       "      <th></th>\n",
       "      <th>column</th>\n",
       "      <th>number of missing values</th>\n",
       "    </tr>\n",
       "  </thead>\n",
       "  <tbody>\n",
       "    <tr>\n",
       "      <th>3</th>\n",
       "      <td>funder</td>\n",
       "      <td>3637</td>\n",
       "    </tr>\n",
       "    <tr>\n",
       "      <th>5</th>\n",
       "      <td>installer</td>\n",
       "      <td>3655</td>\n",
       "    </tr>\n",
       "    <tr>\n",
       "      <th>8</th>\n",
       "      <td>wpt_name</td>\n",
       "      <td>2</td>\n",
       "    </tr>\n",
       "    <tr>\n",
       "      <th>11</th>\n",
       "      <td>subvillage</td>\n",
       "      <td>371</td>\n",
       "    </tr>\n",
       "    <tr>\n",
       "      <th>18</th>\n",
       "      <td>public_meeting</td>\n",
       "      <td>3334</td>\n",
       "    </tr>\n",
       "    <tr>\n",
       "      <th>20</th>\n",
       "      <td>scheme_management</td>\n",
       "      <td>3878</td>\n",
       "    </tr>\n",
       "    <tr>\n",
       "      <th>21</th>\n",
       "      <td>scheme_name</td>\n",
       "      <td>28810</td>\n",
       "    </tr>\n",
       "    <tr>\n",
       "      <th>22</th>\n",
       "      <td>permit</td>\n",
       "      <td>3056</td>\n",
       "    </tr>\n",
       "  </tbody>\n",
       "</table>\n",
       "</div>"
      ],
      "text/plain": [
       "               column  number of missing values\n",
       "3              funder                      3637\n",
       "5           installer                      3655\n",
       "8            wpt_name                         2\n",
       "11         subvillage                       371\n",
       "18     public_meeting                      3334\n",
       "20  scheme_management                      3878\n",
       "21        scheme_name                     28810\n",
       "22             permit                      3056"
      ]
     },
     "execution_count": 7,
     "metadata": {},
     "output_type": "execute_result"
    }
   ],
   "source": [
    "missing = pd.DataFrame(df.isnull().sum()).reset_index()\n",
    "missing.columns = ['column', 'number of missing values']\n",
    "missing[missing['number of missing values']>0]"
   ]
  },
  {
   "cell_type": "code",
   "execution_count": null,
   "id": "ca697fd4",
   "metadata": {},
   "outputs": [],
   "source": []
  },
  {
   "attachments": {},
   "cell_type": "markdown",
   "id": "d4690675",
   "metadata": {},
   "source": [
    "### Remove Unwanted Fields"
   ]
  },
  {
   "cell_type": "code",
   "execution_count": null,
   "id": "8ccb402b",
   "metadata": {},
   "outputs": [],
   "source": []
  },
  {
   "cell_type": "code",
   "execution_count": 8,
   "id": "6835f6db",
   "metadata": {},
   "outputs": [],
   "source": [
    "# uneeded columns (fields that don't help predict the target label)\n",
    "unneeded_col = ['id', 'recorded_by', 'wpt_name']\n",
    "df = df.drop(unneeded_col, axis=1)\n",
    "\n"
   ]
  },
  {
   "attachments": {},
   "cell_type": "markdown",
   "id": "b41cfcb2",
   "metadata": {},
   "source": [
    "### Handling Fields with Too Many Unique Values"
   ]
  },
  {
   "cell_type": "code",
   "execution_count": 9,
   "id": "caf562c4",
   "metadata": {},
   "outputs": [
    {
     "data": {
      "text/html": [
       "<div>\n",
       "<style scoped>\n",
       "    .dataframe tbody tr th:only-of-type {\n",
       "        vertical-align: middle;\n",
       "    }\n",
       "\n",
       "    .dataframe tbody tr th {\n",
       "        vertical-align: top;\n",
       "    }\n",
       "\n",
       "    .dataframe thead th {\n",
       "        text-align: right;\n",
       "    }\n",
       "</style>\n",
       "<table border=\"1\" class=\"dataframe\">\n",
       "  <thead>\n",
       "    <tr style=\"text-align: right;\">\n",
       "      <th></th>\n",
       "      <th>Field</th>\n",
       "      <th>Number of Unique Values</th>\n",
       "    </tr>\n",
       "  </thead>\n",
       "  <tbody>\n",
       "    <tr>\n",
       "      <th>0</th>\n",
       "      <td>date_recorded</td>\n",
       "      <td>356</td>\n",
       "    </tr>\n",
       "    <tr>\n",
       "      <th>1</th>\n",
       "      <td>funder</td>\n",
       "      <td>1896</td>\n",
       "    </tr>\n",
       "    <tr>\n",
       "      <th>2</th>\n",
       "      <td>installer</td>\n",
       "      <td>2145</td>\n",
       "    </tr>\n",
       "    <tr>\n",
       "      <th>3</th>\n",
       "      <td>basin</td>\n",
       "      <td>9</td>\n",
       "    </tr>\n",
       "    <tr>\n",
       "      <th>4</th>\n",
       "      <td>subvillage</td>\n",
       "      <td>19287</td>\n",
       "    </tr>\n",
       "  </tbody>\n",
       "</table>\n",
       "</div>"
      ],
      "text/plain": [
       "           Field  Number of Unique Values\n",
       "0  date_recorded                      356\n",
       "1         funder                     1896\n",
       "2      installer                     2145\n",
       "3          basin                        9\n",
       "4     subvillage                    19287"
      ]
     },
     "execution_count": 9,
     "metadata": {},
     "output_type": "execute_result"
    }
   ],
   "source": [
    "# get all categorical variables\n",
    "df['region_code'] = df['region_code'].astype('object')\n",
    "df['district_code'] = df['district_code'].astype('object')\n",
    "\n",
    "cat_var = [col for col in df.columns if df[col].dtypes == 'object']\n",
    "col_count = {}\n",
    "\n",
    "# find number of unique values in each categorical variable\n",
    "for col in cat_var:\n",
    "    count = df[col].nunique()\n",
    "    col_count[col] = count\n",
    "col_count_df = pd.DataFrame(col_count.items())\n",
    "col_count_df.columns = ['Field', 'Number of Unique Values']\n",
    "col_count_df.head()"
   ]
  },
  {
   "cell_type": "code",
   "execution_count": 10,
   "id": "3018ab5c",
   "metadata": {},
   "outputs": [],
   "source": [
    "# redundant data (fields with information provided in other columns)\n",
    "redundant_col = ['subvillage','latitude', 'longitude', 'region_code', 'district_code', 'lga', 'ward', 'scheme_name', 'extraction_type', 'extraction_type_group', 'payment', 'water_quality', 'quantity', 'source', 'source_type', 'waterpoint_type', 'management']\n",
    "\n",
    "df = df.drop(redundant_col, axis=1)"
   ]
  },
  {
   "attachments": {},
   "cell_type": "markdown",
   "id": "6ca6943c",
   "metadata": {},
   "source": [
    "### Handle Fields with Missing Values"
   ]
  },
  {
   "cell_type": "code",
   "execution_count": 11,
   "id": "0fb2ef1b",
   "metadata": {},
   "outputs": [
    {
     "data": {
      "text/plain": [
       "{'date_recorded': 356,\n",
       " 'funder': 1896,\n",
       " 'installer': 2145,\n",
       " 'basin': 9,\n",
       " 'region': 21,\n",
       " 'public_meeting': 2,\n",
       " 'scheme_management': 11,\n",
       " 'permit': 2,\n",
       " 'extraction_type_class': 7,\n",
       " 'management_group': 5,\n",
       " 'payment_type': 7,\n",
       " 'quality_group': 6,\n",
       " 'quantity_group': 5,\n",
       " 'source_class': 3,\n",
       " 'waterpoint_type_group': 6,\n",
       " 'status_group': 3}"
      ]
     },
     "execution_count": 11,
     "metadata": {},
     "output_type": "execute_result"
    }
   ],
   "source": [
    "cat_var = [col for col in df.columns if df[col].dtypes == 'object']\n",
    "col_count = {}\n",
    "\n",
    "# find number of unique values in each categorical variable\n",
    "for col in cat_var:\n",
    "    count = df[col].nunique()\n",
    "    col_count[col] = count\n",
    "col_count"
   ]
  },
  {
   "cell_type": "code",
   "execution_count": 12,
   "id": "131e330e",
   "metadata": {},
   "outputs": [
    {
     "data": {
      "text/html": [
       "<div>\n",
       "<style scoped>\n",
       "    .dataframe tbody tr th:only-of-type {\n",
       "        vertical-align: middle;\n",
       "    }\n",
       "\n",
       "    .dataframe tbody tr th {\n",
       "        vertical-align: top;\n",
       "    }\n",
       "\n",
       "    .dataframe thead th {\n",
       "        text-align: right;\n",
       "    }\n",
       "</style>\n",
       "<table border=\"1\" class=\"dataframe\">\n",
       "  <thead>\n",
       "    <tr style=\"text-align: right;\">\n",
       "      <th></th>\n",
       "      <th>column</th>\n",
       "      <th>% missing values</th>\n",
       "    </tr>\n",
       "  </thead>\n",
       "  <tbody>\n",
       "    <tr>\n",
       "      <th>2</th>\n",
       "      <td>funder</td>\n",
       "      <td>6.122896</td>\n",
       "    </tr>\n",
       "    <tr>\n",
       "      <th>4</th>\n",
       "      <td>installer</td>\n",
       "      <td>6.153199</td>\n",
       "    </tr>\n",
       "    <tr>\n",
       "      <th>9</th>\n",
       "      <td>public_meeting</td>\n",
       "      <td>5.612795</td>\n",
       "    </tr>\n",
       "    <tr>\n",
       "      <th>10</th>\n",
       "      <td>scheme_management</td>\n",
       "      <td>6.528620</td>\n",
       "    </tr>\n",
       "    <tr>\n",
       "      <th>11</th>\n",
       "      <td>permit</td>\n",
       "      <td>5.144781</td>\n",
       "    </tr>\n",
       "  </tbody>\n",
       "</table>\n",
       "</div>"
      ],
      "text/plain": [
       "               column  % missing values\n",
       "2              funder          6.122896\n",
       "4           installer          6.153199\n",
       "9      public_meeting          5.612795\n",
       "10  scheme_management          6.528620\n",
       "11             permit          5.144781"
      ]
     },
     "execution_count": 12,
     "metadata": {},
     "output_type": "execute_result"
    }
   ],
   "source": [
    "missing = pd.DataFrame(df.isnull().sum()/len(df)*100).reset_index()\n",
    "missing.columns = ['column', '% missing values']\n",
    "missing[missing['% missing values']>0]"
   ]
  },
  {
   "attachments": {},
   "cell_type": "markdown",
   "id": "e8bbfd0b",
   "metadata": {},
   "source": [
    "### Handle Date Values"
   ]
  },
  {
   "cell_type": "code",
   "execution_count": 13,
   "id": "a777fec9",
   "metadata": {},
   "outputs": [],
   "source": [
    "# derive age of water pump (i.e., years since construction)\n",
    "df['construction_year'] = pd.to_datetime(df['construction_year'])\n",
    "df['date_recorded'] = pd.to_datetime(df['date_recorded'])\n",
    "df['age'] = (df['date_recorded'] - df['construction_year']) / np.timedelta64(1, 'Y')\n",
    "\n",
    "# delete construction_year and date_recorded columns \n",
    "df = df.drop(['construction_year', 'date_recorded'], axis=1)"
   ]
  },
  {
   "cell_type": "code",
   "execution_count": 14,
   "id": "c6852ced",
   "metadata": {},
   "outputs": [
    {
     "data": {
      "text/plain": [
       "['amount_tsh', 'gps_height', 'num_private', 'population', 'age']"
      ]
     },
     "execution_count": 14,
     "metadata": {},
     "output_type": "execute_result"
    }
   ],
   "source": [
    "# get quantifiable variables\n",
    "num_var = [col for col in df.columns if df[col].dtypes in ['float64', 'int64']]\n",
    "num_var"
   ]
  },
  {
   "attachments": {},
   "cell_type": "markdown",
   "id": "e00674e6",
   "metadata": {},
   "source": [
    "### Testing Numerical Features With ANOVA"
   ]
  },
  {
   "cell_type": "code",
   "execution_count": 15,
   "id": "f5a46aa1",
   "metadata": {},
   "outputs": [
    {
     "data": {
      "text/plain": [
       "amount_tsh                  0\n",
       "funder                   3637\n",
       "gps_height                  0\n",
       "installer                3655\n",
       "num_private                 0\n",
       "basin                       0\n",
       "region                      0\n",
       "population                  0\n",
       "public_meeting           3334\n",
       "scheme_management        3878\n",
       "permit                   3056\n",
       "extraction_type_class       0\n",
       "management_group            0\n",
       "payment_type                0\n",
       "quality_group               0\n",
       "quantity_group              0\n",
       "source_class                0\n",
       "waterpoint_type_group       0\n",
       "status_group                0\n",
       "age                         0\n",
       "dtype: int64"
      ]
     },
     "execution_count": 15,
     "metadata": {},
     "output_type": "execute_result"
    }
   ],
   "source": [
    "df.isnull().sum()"
   ]
  },
  {
   "cell_type": "code",
   "execution_count": 16,
   "id": "74d35631",
   "metadata": {},
   "outputs": [
    {
     "data": {
      "text/plain": [
       "<Axes: >"
      ]
     },
     "execution_count": 16,
     "metadata": {},
     "output_type": "execute_result"
    },
    {
     "data": {
      "image/png": "[encoded data removed]",
      "text/plain": [
       "<Figure size 640x480 with 1 Axes>"
      ]
     },
     "metadata": {},
     "output_type": "display_data"
    }
   ],
   "source": [
    "# copy the dataset for ANOVA test\n",
    "df_int = df.copy(deep=True)\n",
    "\n",
    "# keep the numerical columns and the target label\n",
    "int_var = [col for col in df.columns if df[col].dtypes in ['int64', 'float64']] + ['status_group']\n",
    "df_int = df_int[int_var]\n",
    "\n",
    "# get the input and output variables\n",
    "X = df_int.drop('status_group', axis=1)\n",
    "y = df_int['status_group']\n",
    "\n",
    "# compute the ANOVA F-statistic for each column\n",
    "select = SelectKBest(f_classif, k=5)\n",
    "fit = select.fit(X, y)\n",
    "\n",
    "# compute the p-values for each F-statistic\n",
    "p_values = {col: np.round(p_value, 4) for col, p_value in zip(X.columns, fit.pvalues_)}\n",
    "\n",
    "p_values = pd.Series(p_values.values(),index = p_values.keys())\n",
    "p_values.sort_values(ascending = False , inplace = True)\n",
    "p_values.plot.bar()"
   ]
  },
  {
   "cell_type": "code",
   "execution_count": 17,
   "id": "41ad2154",
   "metadata": {},
   "outputs": [],
   "source": [
    "# columns with high p-values from ANOVA test\n",
    "anova_drop = ['num_private']\n",
    "df = df.drop(anova_drop, axis=1)"
   ]
  },
  {
   "attachments": {},
   "cell_type": "markdown",
   "id": "bb71356c",
   "metadata": {},
   "source": [
    "### Testing Categorical Features With Chi-Square Test"
   ]
  },
  {
   "cell_type": "code",
   "execution_count": 18,
   "id": "d8a318e6",
   "metadata": {},
   "outputs": [],
   "source": [
    "# copy the dataframe for chi square tests\n",
    "df_chi = df.copy(deep=True)\n",
    "\n",
    "# keep the categorical variables in the data frame\n",
    "cat_var = [col for col in df_chi.columns if df[col].dtypes == 'object']\n",
    "df_chi = df_chi[cat_var]\n",
    "\n",
    "# encode the categorical variables\n",
    "label_encoder = LabelEncoder()\n",
    "for col in df_chi.columns:\n",
    "    df_chi[col] = label_encoder.fit_transform(df_chi[col])\n",
    "\n",
    "# get input and output variables\n",
    "X = df_chi.drop('status_group',axis=1)\n",
    "y = df_chi['status_group']\n",
    "\n",
    "# perform chi-square tests\n",
    "chi_scores = chi2(X,y)\n",
    "p_values = pd.Series(chi_scores[1],index = X.columns)\n",
    "p_values.sort_values(ascending = False , inplace = True)\n"
   ]
  },
  {
   "cell_type": "code",
   "execution_count": 19,
   "id": "90fc4100",
   "metadata": {},
   "outputs": [
    {
     "data": {
      "image/png": "[encoded data removed]",
      "text/plain": [
       "<Figure size 500x200 with 1 Axes>"
      ]
     },
     "metadata": {},
     "output_type": "display_data"
    }
   ],
   "source": [
    "plt.figure(figsize=(5,2))\n",
    "p_values.plot.bar()\n",
    "plt.show()\n"
   ]
  },
  {
   "attachments": {},
   "cell_type": "markdown",
   "id": "895d1ed7",
   "metadata": {},
   "source": [
    "### Baseline Models"
   ]
  },
  {
   "cell_type": "code",
   "execution_count": 20,
   "id": "f169c6ce",
   "metadata": {},
   "outputs": [],
   "source": [
    "X = df.drop('status_group', axis=1)\n",
    "y = df['status_group']\n",
    "X_train, X_test, y_train, y_test = train_test_split(X, y, test_size=0.3, random_state=42, stratify=y)"
   ]
  },
  {
   "cell_type": "code",
   "execution_count": 21,
   "id": "76d31d28",
   "metadata": {},
   "outputs": [
    {
     "data": {
      "text/plain": [
       "amount_tsh                  0\n",
       "funder                   2548\n",
       "gps_height                  0\n",
       "installer                2555\n",
       "basin                       0\n",
       "region                      0\n",
       "population                  0\n",
       "public_meeting           2297\n",
       "scheme_management        2733\n",
       "permit                   2151\n",
       "extraction_type_class       0\n",
       "management_group            0\n",
       "payment_type                0\n",
       "quality_group               0\n",
       "quantity_group              0\n",
       "source_class                0\n",
       "waterpoint_type_group       0\n",
       "age                         0\n",
       "dtype: int64"
      ]
     },
     "execution_count": 21,
     "metadata": {},
     "output_type": "execute_result"
    }
   ],
   "source": [
    "X_train.isnull().sum()"
   ]
  },
  {
   "cell_type": "code",
   "execution_count": 22,
   "id": "b940a83e",
   "metadata": {},
   "outputs": [],
   "source": [
    "# encode the target label\n",
    "le = LabelEncoder()\n",
    "y_train = le.fit_transform(y_train)\n",
    "y_test = le.transform(y_test)"
   ]
  },
  {
   "cell_type": "code",
   "execution_count": 23,
   "id": "995200eb",
   "metadata": {},
   "outputs": [],
   "source": [
    "# train a dummy classifier\n",
    "dummy_clf = DummyClassifier(strategy=\"uniform\", random_state=42)\n",
    "dummy_clf.fit(X_train, y_train)\n",
    "\n",
    "y_pred_dummy = dummy_clf.predict(X_test)"
   ]
  },
  {
   "cell_type": "code",
   "execution_count": 24,
   "id": "82d80a39",
   "metadata": {},
   "outputs": [],
   "source": [
    "# Define the column transformer\n",
    "cat_var = [ind for ind, col in enumerate(X_train.columns) if X_train[col].dtypes=='object']\n",
    "num_var = [ind for ind, col in enumerate(X_train.columns) if X_train[col].dtypes in ['int64', 'float64']]\n",
    "\n",
    "# Define column transformer for one-hot encoding categorical features\n",
    "categorical_transformer = Pipeline([\n",
    "    ('imputer', SimpleImputer(strategy='most_frequent')),\n",
    "    ('onehot', OneHotEncoder(handle_unknown='ignore'))\n",
    "])\n",
    "\n",
    "# Define preprocessing pipeline\n",
    "preprocessing_pipeline = ColumnTransformer([\n",
    "    ('cat_transformer', categorical_transformer, cat_var)\n",
    "  # replace missing categorical values with mode and one-hot encode\n",
    "], remainder='passthrough')\n",
    "\n",
    "# Define final pipeline with preprocessing and logistic regression model\n",
    "pipeline_log = Pipeline([\n",
    "    ('preprocessing', preprocessing_pipeline),\n",
    "    ('logistic_regression', LogisticRegression())\n",
    "])\n",
    "\n",
    "pipeline_log.fit(X_train, y_train)\n",
    "y_pred_log = pipeline_log.predict(X_test)"
   ]
  },
  {
   "cell_type": "code",
   "execution_count": 25,
   "id": "896d07fc",
   "metadata": {},
   "outputs": [
    {
     "name": "stdout",
     "output_type": "stream",
     "text": [
      "F2 score of dummy classifier: 0.32895622895622895\n",
      "F2 score of logistic regression classifier: 0.6836139169472503\n"
     ]
    }
   ],
   "source": [
    "f2_score_dummy = fbeta_score(y_test, y_pred_dummy, average='micro', beta=2)\n",
    "f2_score_log = fbeta_score(y_test, y_pred_log, average='micro', beta=2)\n",
    "\n",
    "print(f'F2 score of dummy classifier: {f2_score_dummy}')\n",
    "print(f'F2 score of logistic regression classifier: {f2_score_log}')"
   ]
  },
  {
   "attachments": {},
   "cell_type": "markdown",
   "id": "42193880",
   "metadata": {},
   "source": [
    "### CatBoost Model"
   ]
  },
  {
   "cell_type": "code",
   "execution_count": 26,
   "id": "4c607cb8",
   "metadata": {},
   "outputs": [],
   "source": [
    "# create a f2 score metric for hyperparameter tuning\n",
    "def f2_score(y_true, y_pred):\n",
    "    return fbeta_score(y_true, y_pred, beta=2, average='weighted')\n",
    "f2_scorer = make_scorer(f2_score)"
   ]
  },
  {
   "cell_type": "code",
   "execution_count": 27,
   "id": "2c5092cc",
   "metadata": {},
   "outputs": [
    {
     "name": "stderr",
     "output_type": "stream",
     "text": [
      "\u001b[32m[I 2023-05-07 08:41:01,905]\u001b[0m A new study created in memory with name: no-name-c6b895a8-b91b-4af1-86b7-479fa805bd7f\u001b[0m\n",
      "\u001b[32m[I 2023-05-07 08:47:59,615]\u001b[0m Trial 0 finished with value: 0.7724146224146224 and parameters: {'learning_rate': 0.07566381245104299, 'iterations': 900, 'depth': 8}. Best is trial 0 with value: 0.7724146224146224.\u001b[0m\n",
      "\u001b[32m[I 2023-05-07 08:50:11,203]\u001b[0m Trial 1 finished with value: 0.762025012025012 and parameters: {'learning_rate': 0.08461850692932245, 'iterations': 300, 'depth': 8}. Best is trial 0 with value: 0.7724146224146224.\u001b[0m\n",
      "\u001b[32m[I 2023-05-07 08:50:26,601]\u001b[0m Trial 2 finished with value: 0.734968734968735 and parameters: {'learning_rate': 0.06344004792050323, 'iterations': 100, 'depth': 6}. Best is trial 0 with value: 0.7724146224146224.\u001b[0m\n",
      "\u001b[32m[I 2023-05-07 08:51:45,195]\u001b[0m Trial 3 finished with value: 0.7496151996151995 and parameters: {'learning_rate': 0.06064554164685285, 'iterations': 300, 'depth': 6}. Best is trial 0 with value: 0.7724146224146224.\u001b[0m\n",
      "\u001b[32m[I 2023-05-07 08:52:11,448]\u001b[0m Trial 4 finished with value: 0.7525493025493025 and parameters: {'learning_rate': 0.09862621758474008, 'iterations': 100, 'depth': 9}. Best is trial 0 with value: 0.7724146224146224.\u001b[0m\n",
      "\u001b[32m[I 2023-05-07 08:55:55,192]\u001b[0m Trial 5 finished with value: 0.7536796536796536 and parameters: {'learning_rate': 0.028822321020613096, 'iterations': 900, 'depth': 6}. Best is trial 0 with value: 0.7724146224146224.\u001b[0m\n",
      "\u001b[32m[I 2023-05-07 08:56:10,840]\u001b[0m Trial 6 finished with value: 0.7405242905242906 and parameters: {'learning_rate': 0.09800723126843662, 'iterations': 100, 'depth': 6}. Best is trial 0 with value: 0.7724146224146224.\u001b[0m\n",
      "\u001b[32m[I 2023-05-07 08:57:47,978]\u001b[0m Trial 7 finished with value: 0.7542568542568543 and parameters: {'learning_rate': 0.06420871237666846, 'iterations': 300, 'depth': 7}. Best is trial 0 with value: 0.7724146224146224.\u001b[0m\n",
      "\u001b[32m[I 2023-05-07 08:58:24,707]\u001b[0m Trial 8 finished with value: 0.7443001443001442 and parameters: {'learning_rate': 0.0421202670112848, 'iterations': 100, 'depth': 10}. Best is trial 0 with value: 0.7724146224146224.\u001b[0m\n",
      "\u001b[32m[I 2023-05-07 08:59:59,489]\u001b[0m Trial 9 finished with value: 0.7532708032708033 and parameters: {'learning_rate': 0.08873993807662102, 'iterations': 500, 'depth': 5}. Best is trial 0 with value: 0.7724146224146224.\u001b[0m\n",
      "\u001b[32m[I 2023-05-07 09:07:17,366]\u001b[0m Trial 10 finished with value: 0.7358826358826359 and parameters: {'learning_rate': 0.003972612107627428, 'iterations': 1000, 'depth': 8}. Best is trial 0 with value: 0.7724146224146224.\u001b[0m\n",
      "\u001b[32m[I 2023-05-07 09:12:36,387]\u001b[0m Trial 11 finished with value: 0.7713804713804714 and parameters: {'learning_rate': 0.08055033134252076, 'iterations': 700, 'depth': 8}. Best is trial 0 with value: 0.7724146224146224.\u001b[0m\n",
      "\u001b[32m[I 2023-05-07 09:19:29,861]\u001b[0m Trial 12 finished with value: 0.7718133718133718 and parameters: {'learning_rate': 0.07703080718541488, 'iterations': 800, 'depth': 8}. Best is trial 0 with value: 0.7724146224146224.\u001b[0m\n",
      "\u001b[32m[I 2023-05-07 09:32:22,834]\u001b[0m Trial 13 finished with value: 0.7737854737854738 and parameters: {'learning_rate': 0.07522623014101364, 'iterations': 800, 'depth': 10}. Best is trial 13 with value: 0.7737854737854738.\u001b[0m\n",
      "\u001b[32m[I 2023-05-07 09:43:34,996]\u001b[0m Trial 14 finished with value: 0.7731601731601732 and parameters: {'learning_rate': 0.07384816345250644, 'iterations': 700, 'depth': 10}. Best is trial 13 with value: 0.7737854737854738.\u001b[0m\n",
      "\u001b[32m[I 2023-05-07 09:53:30,668]\u001b[0m Trial 15 finished with value: 0.7717652717652718 and parameters: {'learning_rate': 0.05163998432818262, 'iterations': 600, 'depth': 10}. Best is trial 13 with value: 0.7737854737854738.\u001b[0m\n",
      "\u001b[32m[I 2023-05-07 10:02:14,506]\u001b[0m Trial 16 finished with value: 0.7733525733525735 and parameters: {'learning_rate': 0.07165564875397983, 'iterations': 600, 'depth': 10}. Best is trial 13 with value: 0.7737854737854738.\u001b[0m\n",
      "\u001b[32m[I 2023-05-07 10:07:26,774]\u001b[0m Trial 17 finished with value: 0.7702501202501203 and parameters: {'learning_rate': 0.06810083972040537, 'iterations': 500, 'depth': 9}. Best is trial 13 with value: 0.7737854737854738.\u001b[0m\n",
      "\u001b[32m[I 2023-05-07 10:08:59,311]\u001b[0m Trial 18 finished with value: 0.7502164502164502 and parameters: {'learning_rate': 0.08814298957955208, 'iterations': 600, 'depth': 4}. Best is trial 13 with value: 0.7737854737854738.\u001b[0m\n",
      "\u001b[32m[I 2023-05-07 10:17:07,616]\u001b[0m Trial 19 finished with value: 0.7721981721981722 and parameters: {'learning_rate': 0.05267089330259928, 'iterations': 800, 'depth': 9}. Best is trial 13 with value: 0.7737854737854738.\u001b[0m\n",
      "\u001b[32m[I 2023-05-07 10:22:48,263]\u001b[0m Trial 20 finished with value: 0.7696248196248195 and parameters: {'learning_rate': 0.07082411601667374, 'iterations': 400, 'depth': 10}. Best is trial 13 with value: 0.7737854737854738.\u001b[0m\n",
      "\u001b[32m[I 2023-05-07 10:33:17,165]\u001b[0m Trial 21 finished with value: 0.7737133237133237 and parameters: {'learning_rate': 0.07270716495421285, 'iterations': 700, 'depth': 10}. Best is trial 13 with value: 0.7737854737854738.\u001b[0m\n",
      "\u001b[32m[I 2023-05-07 10:40:55,117]\u001b[0m Trial 22 finished with value: 0.7733525733525733 and parameters: {'learning_rate': 0.08421238834655032, 'iterations': 700, 'depth': 9}. Best is trial 13 with value: 0.7737854737854738.\u001b[0m\n",
      "\u001b[32m[I 2023-05-07 10:53:13,168]\u001b[0m Trial 23 finished with value: 0.7738816738816738 and parameters: {'learning_rate': 0.07009226068006832, 'iterations': 800, 'depth': 10}. Best is trial 23 with value: 0.7738816738816738.\u001b[0m\n",
      "\u001b[33m[W 2023-05-07 10:58:25,600]\u001b[0m Trial 24 failed with parameters: {'learning_rate': 0.05908177249589367, 'iterations': 800, 'depth': 9} because of the following error: CatBoostError('bad allocation').\u001b[0m\n",
      "Traceback (most recent call last):\n",
      "  File \"c:\\Users\\aashi\\Desktop\\Personal Projects\\Data Science\\Identifying-Faulty-Water-Pumps-With-Machine-Learning\\venv\\lib\\site-packages\\optuna\\study\\_optimize.py\", line 200, in _run_trial\n",
      "    value_or_values = func(trial)\n",
      "  File \"C:\\Users\\aashi\\AppData\\Local\\Temp\\ipykernel_3872\\3678141337.py\", line 40, in objective\n",
      "    pipeline_cbc.fit(X_train_split, y_train_split)\n",
      "  File \"c:\\Users\\aashi\\Desktop\\Personal Projects\\Data Science\\Identifying-Faulty-Water-Pumps-With-Machine-Learning\\venv\\lib\\site-packages\\sklearn\\pipeline.py\", line 405, in fit\n",
      "    self._final_estimator.fit(Xt, y, **fit_params_last_step)\n",
      "  File \"c:\\Users\\aashi\\Desktop\\Personal Projects\\Data Science\\Identifying-Faulty-Water-Pumps-With-Machine-Learning\\venv\\lib\\site-packages\\catboost\\core.py\", line 5128, in fit\n",
      "    self._fit(X, y, cat_features, text_features, embedding_features, None, sample_weight, None, None, None, None, baseline, use_best_model,\n",
      "  File \"c:\\Users\\aashi\\Desktop\\Personal Projects\\Data Science\\Identifying-Faulty-Water-Pumps-With-Machine-Learning\\venv\\lib\\site-packages\\catboost\\core.py\", line 2355, in _fit\n",
      "    self._train(\n",
      "  File \"c:\\Users\\aashi\\Desktop\\Personal Projects\\Data Science\\Identifying-Faulty-Water-Pumps-With-Machine-Learning\\venv\\lib\\site-packages\\catboost\\core.py\", line 1759, in _train\n",
      "    self._object._train(train_pool, test_pool, params, allow_clear_pool, init_model._object if init_model else None)\n",
      "  File \"_catboost.pyx\", line 4623, in _catboost._CatBoost._train\n",
      "  File \"_catboost.pyx\", line 4672, in _catboost._CatBoost._train\n",
      "_catboost.CatBoostError: bad allocation\n",
      "\u001b[33m[W 2023-05-07 10:58:25,727]\u001b[0m Trial 24 failed with value None.\u001b[0m\n"
     ]
    },
    {
     "ename": "CatBoostError",
     "evalue": "bad allocation",
     "output_type": "error",
     "traceback": [
      "\u001b[1;31m---------------------------------------------------------------------------\u001b[0m",
      "\u001b[1;31mCatBoostError\u001b[0m                             Traceback (most recent call last)",
      "Cell \u001b[1;32mIn[27], line 48\u001b[0m\n\u001b[0;32m     45\u001b[0m     \u001b[39mreturn\u001b[39;00m np\u001b[39m.\u001b[39mmean(f2_scores)\n\u001b[0;32m     47\u001b[0m study \u001b[39m=\u001b[39m optuna\u001b[39m.\u001b[39mcreate_study(direction\u001b[39m=\u001b[39m\u001b[39m'\u001b[39m\u001b[39mmaximize\u001b[39m\u001b[39m'\u001b[39m)\n\u001b[1;32m---> 48\u001b[0m study\u001b[39m.\u001b[39;49moptimize(objective, n_trials\u001b[39m=\u001b[39;49m\u001b[39m50\u001b[39;49m)\n",
      "File \u001b[1;32mc:\\Users\\aashi\\Desktop\\Personal Projects\\Data Science\\Identifying-Faulty-Water-Pumps-With-Machine-Learning\\venv\\lib\\site-packages\\optuna\\study\\study.py:425\u001b[0m, in \u001b[0;36mStudy.optimize\u001b[1;34m(self, func, n_trials, timeout, n_jobs, catch, callbacks, gc_after_trial, show_progress_bar)\u001b[0m\n\u001b[0;32m    321\u001b[0m \u001b[39mdef\u001b[39;00m \u001b[39moptimize\u001b[39m(\n\u001b[0;32m    322\u001b[0m     \u001b[39mself\u001b[39m,\n\u001b[0;32m    323\u001b[0m     func: ObjectiveFuncType,\n\u001b[1;32m   (...)\u001b[0m\n\u001b[0;32m    330\u001b[0m     show_progress_bar: \u001b[39mbool\u001b[39m \u001b[39m=\u001b[39m \u001b[39mFalse\u001b[39;00m,\n\u001b[0;32m    331\u001b[0m ) \u001b[39m-\u001b[39m\u001b[39m>\u001b[39m \u001b[39mNone\u001b[39;00m:\n\u001b[0;32m    332\u001b[0m \u001b[39m    \u001b[39m\u001b[39m\"\"\"Optimize an objective function.\u001b[39;00m\n\u001b[0;32m    333\u001b[0m \n\u001b[0;32m    334\u001b[0m \u001b[39m    Optimization is done by choosing a suitable set of hyperparameter values from a given\u001b[39;00m\n\u001b[1;32m   (...)\u001b[0m\n\u001b[0;32m    422\u001b[0m \u001b[39m            If nested invocation of this method occurs.\u001b[39;00m\n\u001b[0;32m    423\u001b[0m \u001b[39m    \"\"\"\u001b[39;00m\n\u001b[1;32m--> 425\u001b[0m     _optimize(\n\u001b[0;32m    426\u001b[0m         study\u001b[39m=\u001b[39;49m\u001b[39mself\u001b[39;49m,\n\u001b[0;32m    427\u001b[0m         func\u001b[39m=\u001b[39;49mfunc,\n\u001b[0;32m    428\u001b[0m         n_trials\u001b[39m=\u001b[39;49mn_trials,\n\u001b[0;32m    429\u001b[0m         timeout\u001b[39m=\u001b[39;49mtimeout,\n\u001b[0;32m    430\u001b[0m         n_jobs\u001b[39m=\u001b[39;49mn_jobs,\n\u001b[0;32m    431\u001b[0m         catch\u001b[39m=\u001b[39;49m\u001b[39mtuple\u001b[39;49m(catch) \u001b[39mif\u001b[39;49;00m \u001b[39misinstance\u001b[39;49m(catch, Iterable) \u001b[39melse\u001b[39;49;00m (catch,),\n\u001b[0;32m    432\u001b[0m         callbacks\u001b[39m=\u001b[39;49mcallbacks,\n\u001b[0;32m    433\u001b[0m         gc_after_trial\u001b[39m=\u001b[39;49mgc_after_trial,\n\u001b[0;32m    434\u001b[0m         show_progress_bar\u001b[39m=\u001b[39;49mshow_progress_bar,\n\u001b[0;32m    435\u001b[0m     )\n",
      "File \u001b[1;32mc:\\Users\\aashi\\Desktop\\Personal Projects\\Data Science\\Identifying-Faulty-Water-Pumps-With-Machine-Learning\\venv\\lib\\site-packages\\optuna\\study\\_optimize.py:66\u001b[0m, in \u001b[0;36m_optimize\u001b[1;34m(study, func, n_trials, timeout, n_jobs, catch, callbacks, gc_after_trial, show_progress_bar)\u001b[0m\n\u001b[0;32m     64\u001b[0m \u001b[39mtry\u001b[39;00m:\n\u001b[0;32m     65\u001b[0m     \u001b[39mif\u001b[39;00m n_jobs \u001b[39m==\u001b[39m \u001b[39m1\u001b[39m:\n\u001b[1;32m---> 66\u001b[0m         _optimize_sequential(\n\u001b[0;32m     67\u001b[0m             study,\n\u001b[0;32m     68\u001b[0m             func,\n\u001b[0;32m     69\u001b[0m             n_trials,\n\u001b[0;32m     70\u001b[0m             timeout,\n\u001b[0;32m     71\u001b[0m             catch,\n\u001b[0;32m     72\u001b[0m             callbacks,\n\u001b[0;32m     73\u001b[0m             gc_after_trial,\n\u001b[0;32m     74\u001b[0m             reseed_sampler_rng\u001b[39m=\u001b[39;49m\u001b[39mFalse\u001b[39;49;00m,\n\u001b[0;32m     75\u001b[0m             time_start\u001b[39m=\u001b[39;49m\u001b[39mNone\u001b[39;49;00m,\n\u001b[0;32m     76\u001b[0m             progress_bar\u001b[39m=\u001b[39;49mprogress_bar,\n\u001b[0;32m     77\u001b[0m         )\n\u001b[0;32m     78\u001b[0m     \u001b[39melse\u001b[39;00m:\n\u001b[0;32m     79\u001b[0m         \u001b[39mif\u001b[39;00m n_jobs \u001b[39m==\u001b[39m \u001b[39m-\u001b[39m\u001b[39m1\u001b[39m:\n",
      "File \u001b[1;32mc:\\Users\\aashi\\Desktop\\Personal Projects\\Data Science\\Identifying-Faulty-Water-Pumps-With-Machine-Learning\\venv\\lib\\site-packages\\optuna\\study\\_optimize.py:163\u001b[0m, in \u001b[0;36m_optimize_sequential\u001b[1;34m(study, func, n_trials, timeout, catch, callbacks, gc_after_trial, reseed_sampler_rng, time_start, progress_bar)\u001b[0m\n\u001b[0;32m    160\u001b[0m         \u001b[39mbreak\u001b[39;00m\n\u001b[0;32m    162\u001b[0m \u001b[39mtry\u001b[39;00m:\n\u001b[1;32m--> 163\u001b[0m     frozen_trial \u001b[39m=\u001b[39m _run_trial(study, func, catch)\n\u001b[0;32m    164\u001b[0m \u001b[39mfinally\u001b[39;00m:\n\u001b[0;32m    165\u001b[0m     \u001b[39m# The following line mitigates memory problems that can be occurred in some\u001b[39;00m\n\u001b[0;32m    166\u001b[0m     \u001b[39m# environments (e.g., services that use computing containers such as GitHub Actions).\u001b[39;00m\n\u001b[0;32m    167\u001b[0m     \u001b[39m# Please refer to the following PR for further details:\u001b[39;00m\n\u001b[0;32m    168\u001b[0m     \u001b[39m# https://github.com/optuna/optuna/pull/325.\u001b[39;00m\n\u001b[0;32m    169\u001b[0m     \u001b[39mif\u001b[39;00m gc_after_trial:\n",
      "File \u001b[1;32mc:\\Users\\aashi\\Desktop\\Personal Projects\\Data Science\\Identifying-Faulty-Water-Pumps-With-Machine-Learning\\venv\\lib\\site-packages\\optuna\\study\\_optimize.py:251\u001b[0m, in \u001b[0;36m_run_trial\u001b[1;34m(study, func, catch)\u001b[0m\n\u001b[0;32m    244\u001b[0m         \u001b[39massert\u001b[39;00m \u001b[39mFalse\u001b[39;00m, \u001b[39m\"\u001b[39m\u001b[39mShould not reach.\u001b[39m\u001b[39m\"\u001b[39m\n\u001b[0;32m    246\u001b[0m \u001b[39mif\u001b[39;00m (\n\u001b[0;32m    247\u001b[0m     frozen_trial\u001b[39m.\u001b[39mstate \u001b[39m==\u001b[39m TrialState\u001b[39m.\u001b[39mFAIL\n\u001b[0;32m    248\u001b[0m     \u001b[39mand\u001b[39;00m func_err \u001b[39mis\u001b[39;00m \u001b[39mnot\u001b[39;00m \u001b[39mNone\u001b[39;00m\n\u001b[0;32m    249\u001b[0m     \u001b[39mand\u001b[39;00m \u001b[39mnot\u001b[39;00m \u001b[39misinstance\u001b[39m(func_err, catch)\n\u001b[0;32m    250\u001b[0m ):\n\u001b[1;32m--> 251\u001b[0m     \u001b[39mraise\u001b[39;00m func_err\n\u001b[0;32m    252\u001b[0m \u001b[39mreturn\u001b[39;00m frozen_trial\n",
      "File \u001b[1;32mc:\\Users\\aashi\\Desktop\\Personal Projects\\Data Science\\Identifying-Faulty-Water-Pumps-With-Machine-Learning\\venv\\lib\\site-packages\\optuna\\study\\_optimize.py:200\u001b[0m, in \u001b[0;36m_run_trial\u001b[1;34m(study, func, catch)\u001b[0m\n\u001b[0;32m    198\u001b[0m \u001b[39mwith\u001b[39;00m get_heartbeat_thread(trial\u001b[39m.\u001b[39m_trial_id, study\u001b[39m.\u001b[39m_storage):\n\u001b[0;32m    199\u001b[0m     \u001b[39mtry\u001b[39;00m:\n\u001b[1;32m--> 200\u001b[0m         value_or_values \u001b[39m=\u001b[39m func(trial)\n\u001b[0;32m    201\u001b[0m     \u001b[39mexcept\u001b[39;00m exceptions\u001b[39m.\u001b[39mTrialPruned \u001b[39mas\u001b[39;00m e:\n\u001b[0;32m    202\u001b[0m         \u001b[39m# TODO(mamu): Handle multi-objective cases.\u001b[39;00m\n\u001b[0;32m    203\u001b[0m         state \u001b[39m=\u001b[39m TrialState\u001b[39m.\u001b[39mPRUNED\n",
      "Cell \u001b[1;32mIn[27], line 40\u001b[0m, in \u001b[0;36mobjective\u001b[1;34m(trial)\u001b[0m\n\u001b[0;32m     37\u001b[0m X_train_split, X_test_split \u001b[39m=\u001b[39m X_train\u001b[39m.\u001b[39miloc[train_idx], X_train\u001b[39m.\u001b[39miloc[test_idx]\n\u001b[0;32m     38\u001b[0m y_train_split, y_test_split \u001b[39m=\u001b[39m y_train_df\u001b[39m.\u001b[39miloc[train_idx], y_train_df\u001b[39m.\u001b[39miloc[test_idx]\n\u001b[1;32m---> 40\u001b[0m pipeline_cbc\u001b[39m.\u001b[39;49mfit(X_train_split, y_train_split)\n\u001b[0;32m     41\u001b[0m y_pred \u001b[39m=\u001b[39m pipeline_cbc\u001b[39m.\u001b[39mpredict(X_test_split)\n\u001b[0;32m     43\u001b[0m f2_scores\u001b[39m.\u001b[39mappend(fbeta_score(y_test_split, y_pred, beta\u001b[39m=\u001b[39m\u001b[39m2\u001b[39m, average\u001b[39m=\u001b[39m\u001b[39m'\u001b[39m\u001b[39mmicro\u001b[39m\u001b[39m'\u001b[39m))\n",
      "File \u001b[1;32mc:\\Users\\aashi\\Desktop\\Personal Projects\\Data Science\\Identifying-Faulty-Water-Pumps-With-Machine-Learning\\venv\\lib\\site-packages\\sklearn\\pipeline.py:405\u001b[0m, in \u001b[0;36mPipeline.fit\u001b[1;34m(self, X, y, **fit_params)\u001b[0m\n\u001b[0;32m    403\u001b[0m     \u001b[39mif\u001b[39;00m \u001b[39mself\u001b[39m\u001b[39m.\u001b[39m_final_estimator \u001b[39m!=\u001b[39m \u001b[39m\"\u001b[39m\u001b[39mpassthrough\u001b[39m\u001b[39m\"\u001b[39m:\n\u001b[0;32m    404\u001b[0m         fit_params_last_step \u001b[39m=\u001b[39m fit_params_steps[\u001b[39mself\u001b[39m\u001b[39m.\u001b[39msteps[\u001b[39m-\u001b[39m\u001b[39m1\u001b[39m][\u001b[39m0\u001b[39m]]\n\u001b[1;32m--> 405\u001b[0m         \u001b[39mself\u001b[39m\u001b[39m.\u001b[39m_final_estimator\u001b[39m.\u001b[39mfit(Xt, y, \u001b[39m*\u001b[39m\u001b[39m*\u001b[39mfit_params_last_step)\n\u001b[0;32m    407\u001b[0m \u001b[39mreturn\u001b[39;00m \u001b[39mself\u001b[39m\n",
      "File \u001b[1;32mc:\\Users\\aashi\\Desktop\\Personal Projects\\Data Science\\Identifying-Faulty-Water-Pumps-With-Machine-Learning\\venv\\lib\\site-packages\\catboost\\core.py:5128\u001b[0m, in \u001b[0;36mCatBoostClassifier.fit\u001b[1;34m(self, X, y, cat_features, text_features, embedding_features, sample_weight, baseline, use_best_model, eval_set, verbose, logging_level, plot, plot_file, column_description, verbose_eval, metric_period, silent, early_stopping_rounds, save_snapshot, snapshot_file, snapshot_interval, init_model, callbacks, log_cout, log_cerr)\u001b[0m\n\u001b[0;32m   5125\u001b[0m \u001b[39mif\u001b[39;00m \u001b[39m'\u001b[39m\u001b[39mloss_function\u001b[39m\u001b[39m'\u001b[39m \u001b[39min\u001b[39;00m params:\n\u001b[0;32m   5126\u001b[0m     CatBoostClassifier\u001b[39m.\u001b[39m_check_is_compatible_loss(params[\u001b[39m'\u001b[39m\u001b[39mloss_function\u001b[39m\u001b[39m'\u001b[39m])\n\u001b[1;32m-> 5128\u001b[0m \u001b[39mself\u001b[39;49m\u001b[39m.\u001b[39;49m_fit(X, y, cat_features, text_features, embedding_features, \u001b[39mNone\u001b[39;49;00m, sample_weight, \u001b[39mNone\u001b[39;49;00m, \u001b[39mNone\u001b[39;49;00m, \u001b[39mNone\u001b[39;49;00m, \u001b[39mNone\u001b[39;49;00m, baseline, use_best_model,\n\u001b[0;32m   5129\u001b[0m           eval_set, verbose, logging_level, plot, plot_file, column_description, verbose_eval, metric_period,\n\u001b[0;32m   5130\u001b[0m           silent, early_stopping_rounds, save_snapshot, snapshot_file, snapshot_interval, init_model, callbacks, log_cout, log_cerr)\n\u001b[0;32m   5131\u001b[0m \u001b[39mreturn\u001b[39;00m \u001b[39mself\u001b[39m\n",
      "File \u001b[1;32mc:\\Users\\aashi\\Desktop\\Personal Projects\\Data Science\\Identifying-Faulty-Water-Pumps-With-Machine-Learning\\venv\\lib\\site-packages\\catboost\\core.py:2355\u001b[0m, in \u001b[0;36mCatBoost._fit\u001b[1;34m(self, X, y, cat_features, text_features, embedding_features, pairs, sample_weight, group_id, group_weight, subgroup_id, pairs_weight, baseline, use_best_model, eval_set, verbose, logging_level, plot, plot_file, column_description, verbose_eval, metric_period, silent, early_stopping_rounds, save_snapshot, snapshot_file, snapshot_interval, init_model, callbacks, log_cout, log_cerr)\u001b[0m\n\u001b[0;32m   2351\u001b[0m allow_clear_pool \u001b[39m=\u001b[39m train_params[\u001b[39m\"\u001b[39m\u001b[39mallow_clear_pool\u001b[39m\u001b[39m\"\u001b[39m]\n\u001b[0;32m   2353\u001b[0m \u001b[39mwith\u001b[39;00m log_fixup(log_cout, log_cerr), \\\n\u001b[0;32m   2354\u001b[0m     plot_wrapper(plot, plot_file, \u001b[39m'\u001b[39m\u001b[39mTraining plots\u001b[39m\u001b[39m'\u001b[39m, [_get_train_dir(\u001b[39mself\u001b[39m\u001b[39m.\u001b[39mget_params())]):\n\u001b[1;32m-> 2355\u001b[0m     \u001b[39mself\u001b[39;49m\u001b[39m.\u001b[39;49m_train(\n\u001b[0;32m   2356\u001b[0m         train_pool,\n\u001b[0;32m   2357\u001b[0m         train_params[\u001b[39m\"\u001b[39;49m\u001b[39meval_sets\u001b[39;49m\u001b[39m\"\u001b[39;49m],\n\u001b[0;32m   2358\u001b[0m         params,\n\u001b[0;32m   2359\u001b[0m         allow_clear_pool,\n\u001b[0;32m   2360\u001b[0m         train_params[\u001b[39m\"\u001b[39;49m\u001b[39minit_model\u001b[39;49m\u001b[39m\"\u001b[39;49m]\n\u001b[0;32m   2361\u001b[0m     )\n\u001b[0;32m   2363\u001b[0m \u001b[39m# Have property feature_importance possibly set\u001b[39;00m\n\u001b[0;32m   2364\u001b[0m loss \u001b[39m=\u001b[39m \u001b[39mself\u001b[39m\u001b[39m.\u001b[39m_object\u001b[39m.\u001b[39m_get_loss_function_name()\n",
      "File \u001b[1;32mc:\\Users\\aashi\\Desktop\\Personal Projects\\Data Science\\Identifying-Faulty-Water-Pumps-With-Machine-Learning\\venv\\lib\\site-packages\\catboost\\core.py:1759\u001b[0m, in \u001b[0;36m_CatBoostBase._train\u001b[1;34m(self, train_pool, test_pool, params, allow_clear_pool, init_model)\u001b[0m\n\u001b[0;32m   1758\u001b[0m \u001b[39mdef\u001b[39;00m \u001b[39m_train\u001b[39m(\u001b[39mself\u001b[39m, train_pool, test_pool, params, allow_clear_pool, init_model):\n\u001b[1;32m-> 1759\u001b[0m     \u001b[39mself\u001b[39;49m\u001b[39m.\u001b[39;49m_object\u001b[39m.\u001b[39;49m_train(train_pool, test_pool, params, allow_clear_pool, init_model\u001b[39m.\u001b[39;49m_object \u001b[39mif\u001b[39;49;00m init_model \u001b[39melse\u001b[39;49;00m \u001b[39mNone\u001b[39;49;00m)\n\u001b[0;32m   1760\u001b[0m     \u001b[39mself\u001b[39m\u001b[39m.\u001b[39m_set_trained_model_attributes()\n",
      "File \u001b[1;32m_catboost.pyx:4623\u001b[0m, in \u001b[0;36m_catboost._CatBoost._train\u001b[1;34m()\u001b[0m\n",
      "File \u001b[1;32m_catboost.pyx:4672\u001b[0m, in \u001b[0;36m_catboost._CatBoost._train\u001b[1;34m()\u001b[0m\n",
      "\u001b[1;31mCatBoostError\u001b[0m: bad allocation"
     ]
    }
   ],
   "source": [
    "\n",
    "def objective(trial):\n",
    "    # Define the hyperparameters to optimize\n",
    "    params = {\n",
    "        'learning_rate': trial.suggest_uniform('learning_rate', 0.001, 0.1),\n",
    "        'iterations': trial.suggest_int('iterations', 100, 1000, step=100),\n",
    "        'depth': trial.suggest_int('depth', 4, 10)\n",
    "    }\n",
    "\n",
    "    cat_cols = X_train.select_dtypes(include=['object']).columns.tolist()\n",
    "    cat_indices = [i for i, col in enumerate(X_train.columns) if X_train[col].dtypes =='object']\n",
    "    num_cols = X_train.select_dtypes(include=['int64', 'float64']).columns.tolist()\n",
    "    # Get list of columns with missing values\n",
    "    cols_with_missing = df.columns[df.isna().any()].tolist()\n",
    "\n",
    "\n",
    "    # set up the wrapper with the SimpleImputer\n",
    "    imputer = SklearnTransformerWrapper(transformer = SimpleImputer(strategy='most_frequent'),\n",
    "                                        variables = cols_with_missing)\n",
    "\n",
    "    scaler = SklearnTransformerWrapper(transformer=StandardScaler(),\n",
    "                                    variables=num_cols)\n",
    "\n",
    "\n",
    "    pipeline_cbc = Pipeline(steps=[('impute', imputer),\n",
    "                            ('scaler', scaler),\n",
    "                            ('rare_label', RareLabelEncoder(replace_with='Other', n_categories=10, variables=cat_cols)),\n",
    "                            ('catboost', CatBoostClassifier(**params, verbose=False, cat_features=cat_indices, early_stopping_rounds=50))\n",
    "                                ])\n",
    "    \n",
    "    # Define cross-validation method\n",
    "    sfk = StratifiedKFold(n_splits=3, shuffle=True, random_state=42)\n",
    "    y_train_df = pd.Series(y_train)\n",
    "\n",
    "     # Train and evaluate model using f1_score\n",
    "    f2_scores = []\n",
    "    for train_idx, test_idx in sfk.split(X_train, y_train_df):\n",
    "        X_train_split, X_test_split = X_train.iloc[train_idx], X_train.iloc[test_idx]\n",
    "        y_train_split, y_test_split = y_train_df.iloc[train_idx], y_train_df.iloc[test_idx]\n",
    "\n",
    "        pipeline_cbc.fit(X_train_split, y_train_split)\n",
    "        y_pred = pipeline_cbc.predict(X_test_split)\n",
    "\n",
    "        f2_scores.append(fbeta_score(y_test_split, y_pred, beta=2, average='micro'))\n",
    "\n",
    "    return np.mean(f2_scores)\n",
    "\n",
    "study = optuna.create_study(direction='maximize')\n",
    "study.optimize(objective, n_trials=50)"
   ]
  },
  {
   "cell_type": "code",
   "execution_count": null,
   "id": "eb123385",
   "metadata": {},
   "outputs": [],
   "source": [
    "best_params = study.best_params\n",
    "# perform one hot encoding on the categorical features\n",
    "\n",
    "cat_cols = X_train.select_dtypes(include=['object']).columns.tolist()\n",
    "cat_indices = [i for i, col in enumerate(X_train.columns) if X_train[col].dtypes =='object']\n",
    "num_cols = X_train.select_dtypes(include=['int64', 'float64']).columns.tolist()\n",
    "\n",
    "# Get list of columns with missing values\n",
    "cols_with_missing = df.columns[df.isna().any()].tolist()\n",
    "\n",
    "# sspecify columns for imputer\n",
    "imputer = SklearnTransformerWrapper(transformer = SimpleImputer(strategy='most_frequent'),\n",
    "                                    variables = cols_with_missing)\n",
    "\n",
    "# specify columns for standard scaler\n",
    "scaler = SklearnTransformerWrapper(transformer=StandardScaler(),\n",
    "                                variables=num_cols)\n",
    "\n",
    "# create pipeline\n",
    "pipeline_cbc = Pipeline(steps=[('impute', SklearnTransformerWrapper(transformer = SimpleImputer(strategy='most_frequent'),\n",
    "                                    variables = cols_with_missing)),\n",
    "                            ('scaler', SklearnTransformerWrapper(transformer=StandardScaler(),\n",
    "                                variables=num_cols)),\n",
    "                            ('rare_label', RareLabelEncoder(replace_with='Unknown', n_categories=10, variables=cat_cols)),\n",
    "                            ('catboost', CatBoostClassifier(**best_params, verbose=False, cat_features=cat_indices, early_stopping_rounds=50))\n",
    "                                ])\n",
    "\n",
    "# fit pipeline\n",
    "pipeline_cbc.fit(X_train, y_train)\n",
    "\n",
    "#generate predictions\n",
    "y_pred_cbc= pipeline_cbc.predict(X_test)"
   ]
  },
  {
   "cell_type": "code",
   "execution_count": null,
   "id": "0c781933",
   "metadata": {},
   "outputs": [],
   "source": [
    "f2_score_cbc = fbeta_score(y_pred_cbc, y_test, beta=2, average='micro')\n",
    "f2_score_cbc"
   ]
  },
  {
   "attachments": {},
   "cell_type": "markdown",
   "id": "39591a86",
   "metadata": {},
   "source": [
    "### LGBM"
   ]
  },
  {
   "cell_type": "code",
   "execution_count": null,
   "id": "b6ae4b12",
   "metadata": {},
   "outputs": [
    {
     "name": "stderr",
     "output_type": "stream",
     "text": [
      "\u001b[32m[I 2023-05-06 18:20:13,996]\u001b[0m A new study created in memory with name: no-name-9972e29d-07be-4dcf-924f-eedeafe3304e\u001b[0m\n",
      "\u001b[32m[I 2023-05-06 18:20:23,209]\u001b[0m Trial 0 finished with value: 0.7600769600769602 and parameters: {'learning_rate': 0.013163963093274663, 'num_leaves': 167, 'max_depth': 10}. Best is trial 0 with value: 0.7600769600769602.\u001b[0m\n",
      "\u001b[32m[I 2023-05-06 18:20:25,233]\u001b[0m Trial 1 finished with value: 0.7562289562289563 and parameters: {'learning_rate': 0.06566877903447202, 'num_leaves': 46, 'max_depth': 4}. Best is trial 0 with value: 0.7600769600769602.\u001b[0m\n",
      "\u001b[32m[I 2023-05-06 18:20:28,318]\u001b[0m Trial 2 finished with value: 0.7635882635882636 and parameters: {'learning_rate': 0.04892530298039127, 'num_leaves': 27, 'max_depth': 7}. Best is trial 2 with value: 0.7635882635882636.\u001b[0m\n",
      "\u001b[32m[I 2023-05-06 18:20:41,595]\u001b[0m Trial 3 finished with value: 0.7771765271765272 and parameters: {'learning_rate': 0.024573975198419022, 'num_leaves': 166, 'max_depth': 12}. Best is trial 3 with value: 0.7771765271765272.\u001b[0m\n",
      "\u001b[32m[I 2023-05-06 18:20:53,759]\u001b[0m Trial 4 finished with value: 0.7777777777777778 and parameters: {'learning_rate': 0.0384946412216908, 'num_leaves': 181, 'max_depth': 11}. Best is trial 4 with value: 0.7777777777777778.\u001b[0m\n",
      "\u001b[32m[I 2023-05-06 18:21:00,078]\u001b[0m Trial 5 finished with value: 0.7708994708994709 and parameters: {'learning_rate': 0.047229717295058864, 'num_leaves': 216, 'max_depth': 8}. Best is trial 4 with value: 0.7777777777777778.\u001b[0m\n",
      "\u001b[32m[I 2023-05-06 18:21:06,540]\u001b[0m Trial 6 finished with value: 0.7680134680134681 and parameters: {'learning_rate': 0.061926672836435395, 'num_leaves': 160, 'max_depth': 7}. Best is trial 4 with value: 0.7777777777777778.\u001b[0m\n",
      "\u001b[32m[I 2023-05-06 18:21:11,093]\u001b[0m Trial 7 finished with value: 0.7673881673881674 and parameters: {'learning_rate': 0.03819177174958012, 'num_leaves': 209, 'max_depth': 7}. Best is trial 4 with value: 0.7777777777777778.\u001b[0m\n",
      "\u001b[32m[I 2023-05-06 18:21:17,193]\u001b[0m Trial 8 finished with value: 0.7782347282347283 and parameters: {'learning_rate': 0.04351427395994283, 'num_leaves': 106, 'max_depth': 12}. Best is trial 8 with value: 0.7782347282347283.\u001b[0m\n",
      "\u001b[32m[I 2023-05-06 18:21:23,422]\u001b[0m Trial 9 finished with value: 0.7704425204425204 and parameters: {'learning_rate': 0.01916639853517728, 'num_leaves': 91, 'max_depth': 12}. Best is trial 8 with value: 0.7782347282347283.\u001b[0m\n",
      "\u001b[32m[I 2023-05-06 18:21:29,608]\u001b[0m Trial 10 finished with value: 0.7752044252044251 and parameters: {'learning_rate': 0.09388846567622106, 'num_leaves': 101, 'max_depth': 10}. Best is trial 8 with value: 0.7782347282347283.\u001b[0m\n",
      "\u001b[32m[I 2023-05-06 18:21:40,798]\u001b[0m Trial 11 finished with value: 0.7772005772005772 and parameters: {'learning_rate': 0.03218687219564075, 'num_leaves': 251, 'max_depth': 10}. Best is trial 8 with value: 0.7782347282347283.\u001b[0m\n",
      "\u001b[32m[I 2023-05-06 18:21:50,046]\u001b[0m Trial 12 finished with value: 0.7354978354978355 and parameters: {'learning_rate': 0.0029650371623194463, 'num_leaves': 113, 'max_depth': 12}. Best is trial 8 with value: 0.7782347282347283.\u001b[0m\n",
      "\u001b[32m[I 2023-05-06 18:21:56,128]\u001b[0m Trial 13 finished with value: 0.7742183742183743 and parameters: {'learning_rate': 0.03650407067988487, 'num_leaves': 63, 'max_depth': 11}. Best is trial 8 with value: 0.7782347282347283.\u001b[0m\n",
      "\u001b[32m[I 2023-05-06 18:22:05,320]\u001b[0m Trial 14 finished with value: 0.7736171236171235 and parameters: {'learning_rate': 0.0600364196387041, 'num_leaves': 140, 'max_depth': 9}. Best is trial 8 with value: 0.7782347282347283.\u001b[0m\n",
      "\u001b[32m[I 2023-05-06 18:22:06,759]\u001b[0m Trial 15 finished with value: 0.7122174122174122 and parameters: {'learning_rate': 0.03222694146455175, 'num_leaves': 2, 'max_depth': 4}. Best is trial 8 with value: 0.7782347282347283.\u001b[0m\n",
      "\u001b[32m[I 2023-05-06 18:22:19,081]\u001b[0m Trial 16 finished with value: 0.7776094276094275 and parameters: {'learning_rate': 0.04526604559845021, 'num_leaves': 198, 'max_depth': 11}. Best is trial 8 with value: 0.7782347282347283.\u001b[0m\n",
      "\u001b[32m[I 2023-05-06 18:22:26,175]\u001b[0m Trial 17 finished with value: 0.774939874939875 and parameters: {'learning_rate': 0.07581793501252262, 'num_leaves': 141, 'max_depth': 9}. Best is trial 8 with value: 0.7782347282347283.\u001b[0m\n",
      "\u001b[32m[I 2023-05-06 18:22:32,012]\u001b[0m Trial 18 finished with value: 0.7694324194324195 and parameters: {'learning_rate': 0.022783765630038286, 'num_leaves': 78, 'max_depth': 11}. Best is trial 8 with value: 0.7782347282347283.\u001b[0m\n",
      "\u001b[32m[I 2023-05-06 18:22:35,575]\u001b[0m Trial 19 finished with value: 0.7636123136123136 and parameters: {'learning_rate': 0.055860985283862186, 'num_leaves': 252, 'max_depth': 6}. Best is trial 8 with value: 0.7782347282347283.\u001b[0m\n",
      "\u001b[32m[I 2023-05-06 18:22:42,751]\u001b[0m Trial 20 finished with value: 0.7754208754208755 and parameters: {'learning_rate': 0.043170282478466215, 'num_leaves': 124, 'max_depth': 9}. Best is trial 8 with value: 0.7782347282347283.\u001b[0m\n",
      "\u001b[32m[I 2023-05-06 18:22:50,957]\u001b[0m Trial 21 finished with value: 0.777970177970178 and parameters: {'learning_rate': 0.044566905447352055, 'num_leaves': 195, 'max_depth': 11}. Best is trial 8 with value: 0.7782347282347283.\u001b[0m\n",
      "\u001b[32m[I 2023-05-06 18:22:59,443]\u001b[0m Trial 22 finished with value: 0.7785714285714286 and parameters: {'learning_rate': 0.05409882229497762, 'num_leaves': 188, 'max_depth': 11}. Best is trial 22 with value: 0.7785714285714286.\u001b[0m\n",
      "\u001b[32m[I 2023-05-06 18:23:09,897]\u001b[0m Trial 23 finished with value: 0.7797739297739298 and parameters: {'learning_rate': 0.052088387345018056, 'num_leaves': 229, 'max_depth': 12}. Best is trial 23 with value: 0.7797739297739298.\u001b[0m\n",
      "\u001b[32m[I 2023-05-06 18:23:18,890]\u001b[0m Trial 24 finished with value: 0.7794853294853296 and parameters: {'learning_rate': 0.05198361636507699, 'num_leaves': 218, 'max_depth': 12}. Best is trial 23 with value: 0.7797739297739298.\u001b[0m\n",
      "\u001b[32m[I 2023-05-06 18:23:28,033]\u001b[0m Trial 25 finished with value: 0.7783549783549782 and parameters: {'learning_rate': 0.05434246447759638, 'num_leaves': 227, 'max_depth': 12}. Best is trial 23 with value: 0.7797739297739298.\u001b[0m\n",
      "\u001b[32m[I 2023-05-06 18:23:36,664]\u001b[0m Trial 26 finished with value: 0.777008177008177 and parameters: {'learning_rate': 0.0688374985624141, 'num_leaves': 224, 'max_depth': 10}. Best is trial 23 with value: 0.7797739297739298.\u001b[0m\n",
      "\u001b[32m[I 2023-05-06 18:23:47,280]\u001b[0m Trial 27 finished with value: 0.78008658008658 and parameters: {'learning_rate': 0.05311974864406935, 'num_leaves': 240, 'max_depth': 12}. Best is trial 27 with value: 0.78008658008658.\u001b[0m\n",
      "\u001b[32m[I 2023-05-06 18:23:56,086]\u001b[0m Trial 28 finished with value: 0.7806878306878305 and parameters: {'learning_rate': 0.07355128877656744, 'num_leaves': 239, 'max_depth': 12}. Best is trial 28 with value: 0.7806878306878305.\u001b[0m\n",
      "\u001b[32m[I 2023-05-06 18:24:07,649]\u001b[0m Trial 29 finished with value: 0.7784271284271284 and parameters: {'learning_rate': 0.07288627411660879, 'num_leaves': 236, 'max_depth': 10}. Best is trial 28 with value: 0.7806878306878305.\u001b[0m\n",
      "\u001b[32m[I 2023-05-06 18:24:10,845]\u001b[0m Trial 30 finished with value: 0.76007696007696 and parameters: {'learning_rate': 0.08149638367531264, 'num_leaves': 239, 'max_depth': 5}. Best is trial 28 with value: 0.7806878306878305.\u001b[0m\n",
      "\u001b[32m[I 2023-05-06 18:24:20,175]\u001b[0m Trial 31 finished with value: 0.7812169312169313 and parameters: {'learning_rate': 0.05913549433662376, 'num_leaves': 253, 'max_depth': 12}. Best is trial 31 with value: 0.7812169312169313.\u001b[0m\n",
      "\u001b[32m[I 2023-05-06 18:24:28,817]\u001b[0m Trial 32 finished with value: 0.7808561808561808 and parameters: {'learning_rate': 0.06227330755384636, 'num_leaves': 256, 'max_depth': 12}. Best is trial 31 with value: 0.7812169312169313.\u001b[0m\n",
      "\u001b[32m[I 2023-05-06 18:24:37,451]\u001b[0m Trial 33 finished with value: 0.7804713804713805 and parameters: {'learning_rate': 0.06404327044266181, 'num_leaves': 254, 'max_depth': 11}. Best is trial 31 with value: 0.7812169312169313.\u001b[0m\n",
      "\u001b[32m[I 2023-05-06 18:24:46,213]\u001b[0m Trial 34 finished with value: 0.7779220779220779 and parameters: {'learning_rate': 0.06342661564882136, 'num_leaves': 256, 'max_depth': 11}. Best is trial 31 with value: 0.7812169312169313.\u001b[0m\n",
      "\u001b[32m[I 2023-05-06 18:24:53,943]\u001b[0m Trial 35 finished with value: 0.7798460798460799 and parameters: {'learning_rate': 0.06927125674954797, 'num_leaves': 207, 'max_depth': 11}. Best is trial 31 with value: 0.7812169312169313.\u001b[0m\n",
      "\u001b[32m[I 2023-05-06 18:25:02,985]\u001b[0m Trial 36 finished with value: 0.777032227032227 and parameters: {'learning_rate': 0.06040469720561808, 'num_leaves': 244, 'max_depth': 10}. Best is trial 31 with value: 0.7812169312169313.\u001b[0m\n",
      "\u001b[32m[I 2023-05-06 18:25:13,502]\u001b[0m Trial 37 finished with value: 0.7793410293410293 and parameters: {'learning_rate': 0.0659736103012246, 'num_leaves': 173, 'max_depth': 12}. Best is trial 31 with value: 0.7812169312169313.\u001b[0m\n",
      "\u001b[32m[I 2023-05-06 18:25:20,186]\u001b[0m Trial 38 finished with value: 0.7708994708994709 and parameters: {'learning_rate': 0.07396933581997386, 'num_leaves': 255, 'max_depth': 8}. Best is trial 31 with value: 0.7812169312169313.\u001b[0m\n",
      "\u001b[32m[I 2023-05-06 18:25:27,577]\u001b[0m Trial 39 finished with value: 0.7810966810966811 and parameters: {'learning_rate': 0.08228294512966236, 'num_leaves': 205, 'max_depth': 11}. Best is trial 31 with value: 0.7812169312169313.\u001b[0m\n",
      "\u001b[32m[I 2023-05-06 18:25:35,259]\u001b[0m Trial 40 finished with value: 0.7804232804232805 and parameters: {'learning_rate': 0.08231872178822436, 'num_leaves': 207, 'max_depth': 12}. Best is trial 31 with value: 0.7812169312169313.\u001b[0m\n",
      "\u001b[32m[I 2023-05-06 18:25:43,769]\u001b[0m Trial 41 finished with value: 0.7791486291486293 and parameters: {'learning_rate': 0.060055388128587975, 'num_leaves': 232, 'max_depth': 11}. Best is trial 31 with value: 0.7812169312169313.\u001b[0m\n",
      "\u001b[32m[I 2023-05-06 18:25:51,169]\u001b[0m Trial 42 finished with value: 0.7797498797498797 and parameters: {'learning_rate': 0.07941629183032775, 'num_leaves': 217, 'max_depth': 12}. Best is trial 31 with value: 0.7812169312169313.\u001b[0m\n",
      "\u001b[32m[I 2023-05-06 18:25:58,434]\u001b[0m Trial 43 finished with value: 0.7798220298220299 and parameters: {'learning_rate': 0.0882208494933161, 'num_leaves': 239, 'max_depth': 11}. Best is trial 31 with value: 0.7812169312169313.\u001b[0m\n",
      "\u001b[32m[I 2023-05-06 18:26:04,843]\u001b[0m Trial 44 finished with value: 0.7761664261664261 and parameters: {'learning_rate': 0.0673918415564037, 'num_leaves': 157, 'max_depth': 10}. Best is trial 31 with value: 0.7812169312169313.\u001b[0m\n",
      "\u001b[32m[I 2023-05-06 18:26:13,416]\u001b[0m Trial 45 finished with value: 0.7807118807118808 and parameters: {'learning_rate': 0.06929788711848782, 'num_leaves': 245, 'max_depth': 12}. Best is trial 31 with value: 0.7812169312169313.\u001b[0m\n",
      "\u001b[32m[I 2023-05-06 18:26:20,922]\u001b[0m Trial 46 finished with value: 0.7804232804232805 and parameters: {'learning_rate': 0.0862785900427096, 'num_leaves': 212, 'max_depth': 12}. Best is trial 31 with value: 0.7812169312169313.\u001b[0m\n",
      "\u001b[32m[I 2023-05-06 18:26:34,251]\u001b[0m Trial 47 finished with value: 0.7807840307840307 and parameters: {'learning_rate': 0.07114655426605924, 'num_leaves': 244, 'max_depth': 12}. Best is trial 31 with value: 0.7812169312169313.\u001b[0m\n",
      "\u001b[32m[I 2023-05-06 18:26:43,934]\u001b[0m Trial 48 finished with value: 0.7781866281866282 and parameters: {'learning_rate': 0.06981086738493959, 'num_leaves': 176, 'max_depth': 12}. Best is trial 31 with value: 0.7812169312169313.\u001b[0m\n",
      "\u001b[32m[I 2023-05-06 18:26:52,498]\u001b[0m Trial 49 finished with value: 0.777994227994228 and parameters: {'learning_rate': 0.07747424251237145, 'num_leaves': 198, 'max_depth': 12}. Best is trial 31 with value: 0.7812169312169313.\u001b[0m\n",
      "\u001b[32m[I 2023-05-06 18:27:04,266]\u001b[0m Trial 50 finished with value: 0.7784511784511784 and parameters: {'learning_rate': 0.05776163029762432, 'num_leaves': 224, 'max_depth': 11}. Best is trial 31 with value: 0.7812169312169313.\u001b[0m\n",
      "\u001b[32m[I 2023-05-06 18:27:15,378]\u001b[0m Trial 51 finished with value: 0.7806397306397307 and parameters: {'learning_rate': 0.07241437850168181, 'num_leaves': 244, 'max_depth': 12}. Best is trial 31 with value: 0.7812169312169313.\u001b[0m\n",
      "\u001b[32m[I 2023-05-06 18:27:23,962]\u001b[0m Trial 52 finished with value: 0.78008658008658 and parameters: {'learning_rate': 0.06365769146371451, 'num_leaves': 247, 'max_depth': 12}. Best is trial 31 with value: 0.7812169312169313.\u001b[0m\n",
      "\u001b[32m[I 2023-05-06 18:27:32,607]\u001b[0m Trial 53 finished with value: 0.7785954785954786 and parameters: {'learning_rate': 0.07755929892631683, 'num_leaves': 231, 'max_depth': 11}. Best is trial 31 with value: 0.7812169312169313.\u001b[0m\n",
      "\u001b[32m[I 2023-05-06 18:27:40,982]\u001b[0m Trial 54 finished with value: 0.7804954304954306 and parameters: {'learning_rate': 0.07424691815246705, 'num_leaves': 244, 'max_depth': 12}. Best is trial 31 with value: 0.7812169312169313.\u001b[0m\n",
      "\u001b[32m[I 2023-05-06 18:27:44,800]\u001b[0m Trial 55 finished with value: 0.7680134680134681 and parameters: {'learning_rate': 0.07030154246636339, 'num_leaves': 218, 'max_depth': 7}. Best is trial 31 with value: 0.7812169312169313.\u001b[0m\n",
      "\u001b[32m[I 2023-05-06 18:27:48,927]\u001b[0m Trial 56 finished with value: 0.7713564213564214 and parameters: {'learning_rate': 0.0663372005643745, 'num_leaves': 43, 'max_depth': 12}. Best is trial 31 with value: 0.7812169312169313.\u001b[0m\n",
      "\u001b[32m[I 2023-05-06 18:27:58,737]\u001b[0m Trial 57 finished with value: 0.7762626262626263 and parameters: {'learning_rate': 0.05976613835844882, 'num_leaves': 232, 'max_depth': 11}. Best is trial 31 with value: 0.7812169312169313.\u001b[0m\n",
      "\u001b[32m[I 2023-05-06 18:28:05,791]\u001b[0m Trial 58 finished with value: 0.7753246753246753 and parameters: {'learning_rate': 0.049186360168900836, 'num_leaves': 249, 'max_depth': 9}. Best is trial 31 with value: 0.7812169312169313.\u001b[0m\n",
      "\u001b[32m[I 2023-05-06 18:28:12,792]\u001b[0m Trial 59 finished with value: 0.7784271284271284 and parameters: {'learning_rate': 0.0986395372311791, 'num_leaves': 186, 'max_depth': 12}. Best is trial 31 with value: 0.7812169312169313.\u001b[0m\n",
      "\u001b[32m[I 2023-05-06 18:28:21,057]\u001b[0m Trial 60 finished with value: 0.7802068302068301 and parameters: {'learning_rate': 0.05768266618139459, 'num_leaves': 198, 'max_depth': 11}. Best is trial 31 with value: 0.7812169312169313.\u001b[0m\n",
      "\u001b[32m[I 2023-05-06 18:28:29,220]\u001b[0m Trial 61 finished with value: 0.7782587782587783 and parameters: {'learning_rate': 0.0741327326015824, 'num_leaves': 244, 'max_depth': 12}. Best is trial 31 with value: 0.7812169312169313.\u001b[0m\n",
      "\u001b[32m[I 2023-05-06 18:28:39,555]\u001b[0m Trial 62 finished with value: 0.7787878787878788 and parameters: {'learning_rate': 0.07183214953336196, 'num_leaves': 237, 'max_depth': 12}. Best is trial 31 with value: 0.7812169312169313.\u001b[0m\n",
      "\u001b[32m[I 2023-05-06 18:28:50,454]\u001b[0m Trial 63 finished with value: 0.7792929292929293 and parameters: {'learning_rate': 0.06562231478382856, 'num_leaves': 223, 'max_depth': 12}. Best is trial 31 with value: 0.7812169312169313.\u001b[0m\n",
      "\u001b[32m[I 2023-05-06 18:28:53,537]\u001b[0m Trial 64 finished with value: 0.7643578643578643 and parameters: {'learning_rate': 0.07099919490570224, 'num_leaves': 255, 'max_depth': 6}. Best is trial 31 with value: 0.7812169312169313.\u001b[0m\n",
      "\u001b[32m[I 2023-05-06 18:29:00,717]\u001b[0m Trial 65 finished with value: 0.7787878787878788 and parameters: {'learning_rate': 0.07605294200938216, 'num_leaves': 246, 'max_depth': 11}. Best is trial 31 with value: 0.7812169312169313.\u001b[0m\n",
      "\u001b[32m[I 2023-05-06 18:29:08,045]\u001b[0m Trial 66 finished with value: 0.7797017797017798 and parameters: {'learning_rate': 0.06385107451411157, 'num_leaves': 206, 'max_depth': 12}. Best is trial 31 with value: 0.7812169312169313.\u001b[0m\n",
      "\u001b[32m[I 2023-05-06 18:29:14,763]\u001b[0m Trial 67 finished with value: 0.7796296296296297 and parameters: {'learning_rate': 0.08069082645427149, 'num_leaves': 226, 'max_depth': 12}. Best is trial 31 with value: 0.7812169312169313.\u001b[0m\n",
      "\u001b[32m[I 2023-05-06 18:29:22,016]\u001b[0m Trial 68 finished with value: 0.7767436267436268 and parameters: {'learning_rate': 0.0684599203422369, 'num_leaves': 239, 'max_depth': 11}. Best is trial 31 with value: 0.7812169312169313.\u001b[0m\n",
      "\u001b[32m[I 2023-05-06 18:29:28,024]\u001b[0m Trial 69 finished with value: 0.7776575276575276 and parameters: {'learning_rate': 0.07245009869156889, 'num_leaves': 153, 'max_depth': 10}. Best is trial 31 with value: 0.7812169312169313.\u001b[0m\n",
      "\u001b[32m[I 2023-05-06 18:29:34,793]\u001b[0m Trial 70 finished with value: 0.7812890812890813 and parameters: {'learning_rate': 0.0769889442438165, 'num_leaves': 215, 'max_depth': 12}. Best is trial 70 with value: 0.7812890812890813.\u001b[0m\n",
      "\u001b[32m[I 2023-05-06 18:29:42,076]\u001b[0m Trial 71 finished with value: 0.7805194805194806 and parameters: {'learning_rate': 0.08341862625242355, 'num_leaves': 249, 'max_depth': 12}. Best is trial 70 with value: 0.7812890812890813.\u001b[0m\n",
      "\u001b[32m[I 2023-05-06 18:29:49,430]\u001b[0m Trial 72 finished with value: 0.7807599807599807 and parameters: {'learning_rate': 0.07881022231465208, 'num_leaves': 234, 'max_depth': 12}. Best is trial 70 with value: 0.7812890812890813.\u001b[0m\n",
      "\u001b[32m[I 2023-05-06 18:29:56,657]\u001b[0m Trial 73 finished with value: 0.7809042809042809 and parameters: {'learning_rate': 0.07666162334430074, 'num_leaves': 213, 'max_depth': 12}. Best is trial 70 with value: 0.7812890812890813.\u001b[0m\n",
      "\u001b[32m[I 2023-05-06 18:30:02,787]\u001b[0m Trial 74 finished with value: 0.7776815776815776 and parameters: {'learning_rate': 0.077502910296596, 'num_leaves': 192, 'max_depth': 12}. Best is trial 70 with value: 0.7812890812890813.\u001b[0m\n",
      "\u001b[32m[I 2023-05-06 18:30:08,661]\u001b[0m Trial 75 finished with value: 0.7773208273208274 and parameters: {'learning_rate': 0.0850451435705396, 'num_leaves': 209, 'max_depth': 11}. Best is trial 70 with value: 0.7812890812890813.\u001b[0m\n",
      "\u001b[32m[I 2023-05-06 18:30:16,152]\u001b[0m Trial 76 finished with value: 0.7802549302549302 and parameters: {'learning_rate': 0.08892656904733962, 'num_leaves': 219, 'max_depth': 12}. Best is trial 70 with value: 0.7812890812890813.\u001b[0m\n",
      "\u001b[32m[I 2023-05-06 18:30:22,856]\u001b[0m Trial 77 finished with value: 0.778042328042328 and parameters: {'learning_rate': 0.08063664751935547, 'num_leaves': 231, 'max_depth': 11}. Best is trial 70 with value: 0.7812890812890813.\u001b[0m\n",
      "\u001b[32m[I 2023-05-06 18:30:28,802]\u001b[0m Trial 78 finished with value: 0.7790764790764791 and parameters: {'learning_rate': 0.07868992991909296, 'num_leaves': 203, 'max_depth': 12}. Best is trial 70 with value: 0.7812890812890813.\u001b[0m\n",
      "\u001b[32m[I 2023-05-06 18:30:30,921]\u001b[0m Trial 79 finished with value: 0.7576960076960079 and parameters: {'learning_rate': 0.07522091774058665, 'num_leaves': 216, 'max_depth': 4}. Best is trial 70 with value: 0.7812890812890813.\u001b[0m\n",
      "\u001b[32m[I 2023-05-06 18:30:32,928]\u001b[0m Trial 80 finished with value: 0.7590668590668589 and parameters: {'learning_rate': 0.06831470023312193, 'num_leaves': 11, 'max_depth': 8}. Best is trial 70 with value: 0.7812890812890813.\u001b[0m\n",
      "\u001b[32m[I 2023-05-06 18:30:40,282]\u001b[0m Trial 81 finished with value: 0.7798220298220299 and parameters: {'learning_rate': 0.07570496975251163, 'num_leaves': 235, 'max_depth': 12}. Best is trial 70 with value: 0.7812890812890813.\u001b[0m\n",
      "\u001b[32m[I 2023-05-06 18:30:46,361]\u001b[0m Trial 82 finished with value: 0.7792448292448292 and parameters: {'learning_rate': 0.07939845891780106, 'num_leaves': 226, 'max_depth': 12}. Best is trial 70 with value: 0.7812890812890813.\u001b[0m\n",
      "\u001b[32m[I 2023-05-06 18:30:53,888]\u001b[0m Trial 83 finished with value: 0.7794372294372295 and parameters: {'learning_rate': 0.07089760502920404, 'num_leaves': 251, 'max_depth': 12}. Best is trial 70 with value: 0.7812890812890813.\u001b[0m\n",
      "\u001b[32m[I 2023-05-06 18:31:02,985]\u001b[0m Trial 84 finished with value: 0.7799422799422798 and parameters: {'learning_rate': 0.08288016002316927, 'num_leaves': 239, 'max_depth': 12}. Best is trial 70 with value: 0.7812890812890813.\u001b[0m\n",
      "\u001b[32m[I 2023-05-06 18:31:11,236]\u001b[0m Trial 85 finished with value: 0.7788840788840788 and parameters: {'learning_rate': 0.06257254158501338, 'num_leaves': 214, 'max_depth': 11}. Best is trial 70 with value: 0.7812890812890813.\u001b[0m\n",
      "\u001b[32m[I 2023-05-06 18:31:18,959]\u001b[0m Trial 86 finished with value: 0.7818662818662819 and parameters: {'learning_rate': 0.0658213036793807, 'num_leaves': 222, 'max_depth': 12}. Best is trial 86 with value: 0.7818662818662819.\u001b[0m\n",
      "\u001b[32m[I 2023-05-06 18:31:26,180]\u001b[0m Trial 87 finished with value: 0.7795334295334295 and parameters: {'learning_rate': 0.06643964802276937, 'num_leaves': 182, 'max_depth': 12}. Best is trial 86 with value: 0.7818662818662819.\u001b[0m\n",
      "\u001b[32m[I 2023-05-06 18:31:32,291]\u001b[0m Trial 88 finished with value: 0.77991822991823 and parameters: {'learning_rate': 0.06158400469913476, 'num_leaves': 133, 'max_depth': 11}. Best is trial 86 with value: 0.7818662818662819.\u001b[0m\n",
      "\u001b[32m[I 2023-05-06 18:31:37,570]\u001b[0m Trial 89 finished with value: 0.7793891293891294 and parameters: {'learning_rate': 0.05571509046990225, 'num_leaves': 93, 'max_depth': 12}. Best is trial 86 with value: 0.7818662818662819.\u001b[0m\n",
      "\u001b[32m[I 2023-05-06 18:31:44,797]\u001b[0m Trial 90 finished with value: 0.7788600288600289 and parameters: {'learning_rate': 0.06501061782218524, 'num_leaves': 203, 'max_depth': 11}. Best is trial 86 with value: 0.7818662818662819.\u001b[0m\n",
      "\u001b[32m[I 2023-05-06 18:31:52,884]\u001b[0m Trial 91 finished with value: 0.7815295815295816 and parameters: {'learning_rate': 0.06853057152400768, 'num_leaves': 256, 'max_depth': 12}. Best is trial 86 with value: 0.7818662818662819.\u001b[0m\n",
      "\u001b[32m[I 2023-05-06 18:32:00,792]\u001b[0m Trial 92 finished with value: 0.7797979797979798 and parameters: {'learning_rate': 0.06804292699964457, 'num_leaves': 254, 'max_depth': 12}. Best is trial 86 with value: 0.7818662818662819.\u001b[0m\n",
      "\u001b[32m[I 2023-05-06 18:32:07,554]\u001b[0m Trial 93 finished with value: 0.7809042809042809 and parameters: {'learning_rate': 0.07018313633047664, 'num_leaves': 221, 'max_depth': 12}. Best is trial 86 with value: 0.7818662818662819.\u001b[0m\n",
      "\u001b[32m[I 2023-05-06 18:32:15,275]\u001b[0m Trial 94 finished with value: 0.7815055315055316 and parameters: {'learning_rate': 0.07632123438823268, 'num_leaves': 223, 'max_depth': 12}. Best is trial 86 with value: 0.7818662818662819.\u001b[0m\n",
      "\u001b[32m[I 2023-05-06 18:32:21,250]\u001b[0m Trial 95 finished with value: 0.7774410774410775 and parameters: {'learning_rate': 0.07218313146127774, 'num_leaves': 221, 'max_depth': 11}. Best is trial 86 with value: 0.7818662818662819.\u001b[0m\n",
      "\u001b[32m[I 2023-05-06 18:32:27,909]\u001b[0m Trial 96 finished with value: 0.7806156806156807 and parameters: {'learning_rate': 0.07588944209871747, 'num_leaves': 228, 'max_depth': 12}. Best is trial 86 with value: 0.7818662818662819.\u001b[0m\n",
      "\u001b[32m[I 2023-05-06 18:32:34,621]\u001b[0m Trial 97 finished with value: 0.7795334295334295 and parameters: {'learning_rate': 0.062075244716524675, 'num_leaves': 212, 'max_depth': 12}. Best is trial 86 with value: 0.7818662818662819.\u001b[0m\n",
      "\u001b[32m[I 2023-05-06 18:32:38,565]\u001b[0m Trial 98 finished with value: 0.7732563732563733 and parameters: {'learning_rate': 0.06590755260396582, 'num_leaves': 73, 'max_depth': 12}. Best is trial 86 with value: 0.7818662818662819.\u001b[0m\n",
      "\u001b[32m[I 2023-05-06 18:32:45,293]\u001b[0m Trial 99 finished with value: 0.7792448292448292 and parameters: {'learning_rate': 0.07316892767740756, 'num_leaves': 256, 'max_depth': 11}. Best is trial 86 with value: 0.7818662818662819.\u001b[0m\n"
     ]
    }
   ],
   "source": [
    "\n",
    "def objective(trial):\n",
    "\n",
    "    global X_train, X_test, y_train, y_test\n",
    "\n",
    "    def f2_score(y_true, y_pred):\n",
    "        return fbeta_score(y_true, y_pred, beta=2, average='weighted')\n",
    "    f2_scorer = make_scorer(f2_score)\n",
    "\n",
    "\n",
    "    # Define the hyperparameters to optimize\n",
    "    params = {\n",
    "        'learning_rate': trial.suggest_uniform('learning_rate', 0.001, 0.1),\n",
    "        \"num_leaves\": trial.suggest_int(\"num_leaves\", 2, 256),\n",
    "        'max_depth': trial.suggest_int('max_depth', 4, 12)\n",
    "    }\n",
    "\n",
    "    num_cols = [col for i, col in enumerate(X_train.columns) if X_train[col].dtypes in ['float64', 'int64']]\n",
    "    cat_cols = [col for i, col in enumerate(X_train.columns) if X_train[col].dtypes =='object']\n",
    "    cat_indices = [i for i, col in enumerate(X_train.columns) if X_train[col].dtypes =='object']\n",
    "    cols_with_missing = df.columns[df.isna().any()].tolist()\n",
    "\n",
    "\n",
    "    X_cat = X_train.copy(deep=True)\n",
    "    X_test_cat = X_test.copy(deep=True)\n",
    "\n",
    "    for col in cat_cols:\n",
    "        X_cat[col] = X_cat[col].astype('category')\n",
    "        X_test_cat[col] = X_test_cat[col].astype('category')\n",
    "\n",
    "    y_train_df = pd.Series(y_train)\n",
    "\n",
    "    # set up the wrapper with the SimpleImputer\n",
    "    imputer = SklearnTransformerWrapper(transformer = SimpleImputer(strategy='most_frequent'),\n",
    "                                        variables = cols_with_missing)\n",
    "    # specify columns for standard scaler\n",
    "    scaler = SklearnTransformerWrapper(transformer=StandardScaler(),\n",
    "                                    variables=num_cols)\n",
    "\n",
    "\n",
    "    lgb_model = lgb.LGBMClassifier(**params, \n",
    "                            metric='multi_logloss',\n",
    "                            categorical_feature=cat_indices)\n",
    "\n",
    "    skf = StratifiedKFold(n_splits=3, random_state=43, shuffle=True)\n",
    "    f2_scores = []\n",
    "\n",
    "    \n",
    "\n",
    "    for idx, (train_idx, test_idx) in enumerate(skf.split(X_cat, y_train_df)):\n",
    "        X_train_split, X_test_split = X_cat.iloc[train_idx], X_cat.iloc[test_idx]\n",
    "        y_train_split, y_test_split = y_train_df.iloc[train_idx], y_train_df.iloc[test_idx]\n",
    "        \n",
    "        pipeline = Pipeline(steps=[('scaler', scaler),\n",
    "                                   ('lgb_model', lgb_model)])\n",
    "        #model = lgb.LGBMClassifier(**params, categorical_feature=cat_indices)\n",
    "        pipeline.fit(X_train_split, \n",
    "                     y_train_split, \n",
    "                     lgb_model__early_stopping_rounds=50,\n",
    "                     lgb_model__eval_set=[(X_test_split, y_test_split)], \n",
    "                     lgb_model__verbose=False)\n",
    "        \n",
    "        y_pred = pipeline.predict(X_test_split)\n",
    "        f2_score_lgbm = fbeta_score(y_test_split, y_pred, beta=2, average='micro')\n",
    "        f2_scores.append(f2_score_lgbm)\n",
    "        \n",
    "    return np.mean(f2_scores)\n",
    "    \n",
    "\n",
    "study_lgbm = optuna.create_study(direction='maximize')\n",
    "study_lgbm.optimize(objective, n_trials=50)"
   ]
  },
  {
   "cell_type": "code",
   "execution_count": null,
   "id": "bfc60365",
   "metadata": {},
   "outputs": [
    {
     "data": {
      "text/html": [
       "<style>#sk-container-id-2 {color: black;background-color: white;}#sk-container-id-2 pre{padding: 0;}#sk-container-id-2 div.sk-toggleable {background-color: white;}#sk-container-id-2 label.sk-toggleable__label {cursor: pointer;display: block;width: 100%;margin-bottom: 0;padding: 0.3em;box-sizing: border-box;text-align: center;}#sk-container-id-2 label.sk-toggleable__label-arrow:before {content: \"▸\";float: left;margin-right: 0.25em;color: #696969;}#sk-container-id-2 label.sk-toggleable__label-arrow:hover:before {color: black;}#sk-container-id-2 div.sk-estimator:hover label.sk-toggleable__label-arrow:before {color: black;}#sk-container-id-2 div.sk-toggleable__content {max-height: 0;max-width: 0;overflow: hidden;text-align: left;background-color: #f0f8ff;}#sk-container-id-2 div.sk-toggleable__content pre {margin: 0.2em;color: black;border-radius: 0.25em;background-color: #f0f8ff;}#sk-container-id-2 input.sk-toggleable__control:checked~div.sk-toggleable__content {max-height: 200px;max-width: 100%;overflow: auto;}#sk-container-id-2 input.sk-toggleable__control:checked~label.sk-toggleable__label-arrow:before {content: \"▾\";}#sk-container-id-2 div.sk-estimator input.sk-toggleable__control:checked~label.sk-toggleable__label {background-color: #d4ebff;}#sk-container-id-2 div.sk-label input.sk-toggleable__control:checked~label.sk-toggleable__label {background-color: #d4ebff;}#sk-container-id-2 input.sk-hidden--visually {border: 0;clip: rect(1px 1px 1px 1px);clip: rect(1px, 1px, 1px, 1px);height: 1px;margin: -1px;overflow: hidden;padding: 0;position: absolute;width: 1px;}#sk-container-id-2 div.sk-estimator {font-family: monospace;background-color: #f0f8ff;border: 1px dotted black;border-radius: 0.25em;box-sizing: border-box;margin-bottom: 0.5em;}#sk-container-id-2 div.sk-estimator:hover {background-color: #d4ebff;}#sk-container-id-2 div.sk-parallel-item::after {content: \"\";width: 100%;border-bottom: 1px solid gray;flex-grow: 1;}#sk-container-id-2 div.sk-label:hover label.sk-toggleable__label {background-color: #d4ebff;}#sk-container-id-2 div.sk-serial::before {content: \"\";position: absolute;border-left: 1px solid gray;box-sizing: border-box;top: 0;bottom: 0;left: 50%;z-index: 0;}#sk-container-id-2 div.sk-serial {display: flex;flex-direction: column;align-items: center;background-color: white;padding-right: 0.2em;padding-left: 0.2em;position: relative;}#sk-container-id-2 div.sk-item {position: relative;z-index: 1;}#sk-container-id-2 div.sk-parallel {display: flex;align-items: stretch;justify-content: center;background-color: white;position: relative;}#sk-container-id-2 div.sk-item::before, #sk-container-id-2 div.sk-parallel-item::before {content: \"\";position: absolute;border-left: 1px solid gray;box-sizing: border-box;top: 0;bottom: 0;left: 50%;z-index: -1;}#sk-container-id-2 div.sk-parallel-item {display: flex;flex-direction: column;z-index: 1;position: relative;background-color: white;}#sk-container-id-2 div.sk-parallel-item:first-child::after {align-self: flex-end;width: 50%;}#sk-container-id-2 div.sk-parallel-item:last-child::after {align-self: flex-start;width: 50%;}#sk-container-id-2 div.sk-parallel-item:only-child::after {width: 0;}#sk-container-id-2 div.sk-dashed-wrapped {border: 1px dashed gray;margin: 0 0.4em 0.5em 0.4em;box-sizing: border-box;padding-bottom: 0.4em;background-color: white;}#sk-container-id-2 div.sk-label label {font-family: monospace;font-weight: bold;display: inline-block;line-height: 1.2em;}#sk-container-id-2 div.sk-label-container {text-align: center;}#sk-container-id-2 div.sk-container {/* jupyter's `normalize.less` sets `[hidden] { display: none; }` but bootstrap.min.css set `[hidden] { display: none !important; }` so we also need the `!important` here to be able to override the default hidden behavior on the sphinx rendered scikit-learn.org. See: https://github.com/scikit-learn/scikit-learn/issues/21755 */display: inline-block !important;position: relative;}#sk-container-id-2 div.sk-text-repr-fallback {display: none;}</style><div id=\"sk-container-id-2\" class=\"sk-top-container\"><div class=\"sk-text-repr-fallback\"><pre>Pipeline(steps=[(&#x27;scaler&#x27;,\n",
       "                 SklearnTransformerWrapper(transformer=StandardScaler(),\n",
       "                                           variables=[&#x27;amount_tsh&#x27;,\n",
       "                                                      &#x27;gps_height&#x27;,\n",
       "                                                      &#x27;population&#x27;, &#x27;age&#x27;])),\n",
       "                (&#x27;lgb_model&#x27;,\n",
       "                 LGBMClassifier(categorical_feature=[1, 3, 4, 5, 7, 8, 9, 10,\n",
       "                                                     11, 12, 13, 14, 15, 16],\n",
       "                                learning_rate=0.0658213036793807, max_depth=12,\n",
       "                                metric=&#x27;multi_logloss&#x27;, num_leaves=222))])</pre><b>In a Jupyter environment, please rerun this cell to show the HTML representation or trust the notebook. <br />On GitHub, the HTML representation is unable to render, please try loading this page with nbviewer.org.</b></div><div class=\"sk-container\" hidden><div class=\"sk-item sk-dashed-wrapped\"><div class=\"sk-label-container\"><div class=\"sk-label sk-toggleable\"><input class=\"sk-toggleable__control sk-hidden--visually\" id=\"sk-estimator-id-6\" type=\"checkbox\" ><label for=\"sk-estimator-id-6\" class=\"sk-toggleable__label sk-toggleable__label-arrow\">Pipeline</label><div class=\"sk-toggleable__content\"><pre>Pipeline(steps=[(&#x27;scaler&#x27;,\n",
       "                 SklearnTransformerWrapper(transformer=StandardScaler(),\n",
       "                                           variables=[&#x27;amount_tsh&#x27;,\n",
       "                                                      &#x27;gps_height&#x27;,\n",
       "                                                      &#x27;population&#x27;, &#x27;age&#x27;])),\n",
       "                (&#x27;lgb_model&#x27;,\n",
       "                 LGBMClassifier(categorical_feature=[1, 3, 4, 5, 7, 8, 9, 10,\n",
       "                                                     11, 12, 13, 14, 15, 16],\n",
       "                                learning_rate=0.0658213036793807, max_depth=12,\n",
       "                                metric=&#x27;multi_logloss&#x27;, num_leaves=222))])</pre></div></div></div><div class=\"sk-serial\"><div class=\"sk-item sk-dashed-wrapped\"><div class=\"sk-label-container\"><div class=\"sk-label sk-toggleable\"><input class=\"sk-toggleable__control sk-hidden--visually\" id=\"sk-estimator-id-7\" type=\"checkbox\" ><label for=\"sk-estimator-id-7\" class=\"sk-toggleable__label sk-toggleable__label-arrow\">scaler: SklearnTransformerWrapper</label><div class=\"sk-toggleable__content\"><pre>SklearnTransformerWrapper(transformer=StandardScaler(),\n",
       "                          variables=[&#x27;amount_tsh&#x27;, &#x27;gps_height&#x27;, &#x27;population&#x27;,\n",
       "                                     &#x27;age&#x27;])</pre></div></div></div><div class=\"sk-parallel\"><div class=\"sk-parallel-item\"><div class=\"sk-item\"><div class=\"sk-label-container\"><div class=\"sk-label sk-toggleable\"><input class=\"sk-toggleable__control sk-hidden--visually\" id=\"sk-estimator-id-8\" type=\"checkbox\" ><label for=\"sk-estimator-id-8\" class=\"sk-toggleable__label sk-toggleable__label-arrow\">transformer: StandardScaler</label><div class=\"sk-toggleable__content\"><pre>StandardScaler()</pre></div></div></div><div class=\"sk-serial\"><div class=\"sk-item\"><div class=\"sk-estimator sk-toggleable\"><input class=\"sk-toggleable__control sk-hidden--visually\" id=\"sk-estimator-id-9\" type=\"checkbox\" ><label for=\"sk-estimator-id-9\" class=\"sk-toggleable__label sk-toggleable__label-arrow\">StandardScaler</label><div class=\"sk-toggleable__content\"><pre>StandardScaler()</pre></div></div></div></div></div></div></div></div><div class=\"sk-item\"><div class=\"sk-estimator sk-toggleable\"><input class=\"sk-toggleable__control sk-hidden--visually\" id=\"sk-estimator-id-10\" type=\"checkbox\" ><label for=\"sk-estimator-id-10\" class=\"sk-toggleable__label sk-toggleable__label-arrow\">LGBMClassifier</label><div class=\"sk-toggleable__content\"><pre>LGBMClassifier(categorical_feature=[1, 3, 4, 5, 7, 8, 9, 10, 11, 12, 13, 14, 15,\n",
       "                                    16],\n",
       "               learning_rate=0.0658213036793807, max_depth=12,\n",
       "               metric=&#x27;multi_logloss&#x27;, num_leaves=222)</pre></div></div></div></div></div></div></div>"
      ],
      "text/plain": [
       "Pipeline(steps=[('scaler',\n",
       "                 SklearnTransformerWrapper(transformer=StandardScaler(),\n",
       "                                           variables=['amount_tsh',\n",
       "                                                      'gps_height',\n",
       "                                                      'population', 'age'])),\n",
       "                ('lgb_model',\n",
       "                 LGBMClassifier(categorical_feature=[1, 3, 4, 5, 7, 8, 9, 10,\n",
       "                                                     11, 12, 13, 14, 15, 16],\n",
       "                                learning_rate=0.0658213036793807, max_depth=12,\n",
       "                                metric='multi_logloss', num_leaves=222))])"
      ]
     },
     "execution_count": 31,
     "metadata": {},
     "output_type": "execute_result"
    }
   ],
   "source": [
    "best_params_lgbm = study_lgbm.best_params\n",
    "\n",
    "\n",
    "num_cols = [col for i, col in enumerate(X_train.columns) if X_train[col].dtypes in ['float64', 'int64']]\n",
    "cat_cols = [col for i, col in enumerate(X_train.columns) if X_train[col].dtypes =='object']\n",
    "cat_indices = [i for i, col in enumerate(X_train.columns) if X_train[col].dtypes =='object']\n",
    "cols_with_missing = df.columns[df.isna().any()].tolist()\n",
    "\n",
    "\n",
    "X_cat = X_train.copy(deep=True)\n",
    "X_test_cat = X_test.copy(deep=True)\n",
    "\n",
    "for col in cat_cols:\n",
    "    X_cat[col] = X_cat[col].astype('category')\n",
    "    X_test_cat[col] = X_test_cat[col].astype('category')\n",
    "\n",
    "y_train_df = pd.Series(y_train)\n",
    "\n",
    "# set up the wrapper with the SimpleImputer\n",
    "imputer = SklearnTransformerWrapper(transformer = SimpleImputer(strategy='most_frequent'),\n",
    "                                    variables = cols_with_missing)\n",
    "# specify columns for standard scaler\n",
    "scaler = SklearnTransformerWrapper(transformer=StandardScaler(),\n",
    "                                variables=num_cols)\n",
    "\n",
    "lgb_model = lgb.LGBMClassifier(**best_params_lgbm, \n",
    "                        metric='multi_logloss',\n",
    "                        categorical_feature=cat_indices)\n",
    "\n",
    "\n",
    "pipeline_lgbm = Pipeline(steps=[('scaler', SklearnTransformerWrapper(transformer = SimpleImputer(strategy='most_frequent'),\n",
    "                                    variables = cols_with_missing)),\n",
    "                            ('lgb_model', SklearnTransformerWrapper(transformer=StandardScaler(),\n",
    "                                variables=num_cols))])\n",
    "#model = lgb.LGBMClassifier(**params, categorical_feature=cat_indices)\n",
    "pipeline_lgbm.fit(X_cat, \n",
    "                y_train, \n",
    "                lgb_model__early_stopping_rounds=50,\n",
    "                lgb_model__eval_set=[(X_test_cat, y_test)], \n",
    "                lgb_model__verbose=False)"
   ]
  },
  {
   "cell_type": "code",
   "execution_count": null,
   "id": "c908153e",
   "metadata": {},
   "outputs": [
    {
     "data": {
      "text/plain": [
       "0.7884399551066218"
      ]
     },
     "execution_count": 32,
     "metadata": {},
     "output_type": "execute_result"
    }
   ],
   "source": [
    "y_pred_lgbm = pipeline_lgbm.predict(X_test_cat)\n",
    "f2_score_lgbm = fbeta_score(y_test, y_pred_lgbm, beta=2, average='micro')\n",
    "f2_score_lgbm"
   ]
  },
  {
   "attachments": {},
   "cell_type": "markdown",
   "id": "1d55d2ec",
   "metadata": {},
   "source": [
    "### XGBoost "
   ]
  },
  {
   "cell_type": "code",
   "execution_count": 111,
   "id": "fe48aa07",
   "metadata": {},
   "outputs": [
    {
     "name": "stderr",
     "output_type": "stream",
     "text": [
      "\u001b[32m[I 2023-05-07 04:52:15,106]\u001b[0m A new study created in memory with name: no-name-da762ada-1a6b-4bf5-98e8-5810e0284277\u001b[0m\n",
      "\u001b[32m[I 2023-05-07 04:53:31,621]\u001b[0m Trial 0 finished with value: 0.7600769600769602 and parameters: {'n_estimators': 950, 'max_depth': 4, 'gamma': 0.15328973099944287, 'subsample': 0.9806749144655965, 'colsample_bytree': 0.9969961248095411, 'learning_rate': 0.03220791041045677}. Best is trial 0 with value: 0.7600769600769602.\u001b[0m\n",
      "\u001b[32m[I 2023-05-07 04:53:45,848]\u001b[0m Trial 1 finished with value: 0.7787878787878788 and parameters: {'n_estimators': 500, 'max_depth': 9, 'gamma': 0.7219079231432345, 'subsample': 0.93853801727357, 'colsample_bytree': 0.9180211700304204, 'learning_rate': 0.7600468259519796}. Best is trial 1 with value: 0.7787878787878788.\u001b[0m\n",
      "\u001b[32m[I 2023-05-07 04:54:04,054]\u001b[0m Trial 2 finished with value: 0.7740981240981241 and parameters: {'n_estimators': 700, 'max_depth': 4, 'gamma': 0.8555956940007117, 'subsample': 0.5413635706692382, 'colsample_bytree': 0.6231138500223221, 'learning_rate': 0.542236085500738}. Best is trial 1 with value: 0.7787878787878788.\u001b[0m\n",
      "\u001b[32m[I 2023-05-07 04:54:36,167]\u001b[0m Trial 3 finished with value: 0.7751563251563253 and parameters: {'n_estimators': 900, 'max_depth': 4, 'gamma': 0.6347577229957683, 'subsample': 0.9630699030122336, 'colsample_bytree': 0.9565016981247647, 'learning_rate': 0.6471652580197581}. Best is trial 1 with value: 0.7787878787878788.\u001b[0m\n",
      "\u001b[32m[I 2023-05-07 04:54:51,272]\u001b[0m Trial 4 finished with value: 0.778090428090428 and parameters: {'n_estimators': 400, 'max_depth': 8, 'gamma': 0.3333129369263941, 'subsample': 0.8477259237385586, 'colsample_bytree': 0.8888617380792357, 'learning_rate': 0.6696268025266638}. Best is trial 1 with value: 0.7787878787878788.\u001b[0m\n",
      "\u001b[32m[I 2023-05-07 04:55:04,395]\u001b[0m Trial 5 finished with value: 0.7760461760461762 and parameters: {'n_estimators': 300, 'max_depth': 10, 'gamma': 0.16448814955339208, 'subsample': 0.6675443254451798, 'colsample_bytree': 0.7864274677337295, 'learning_rate': 0.7032728648847514}. Best is trial 1 with value: 0.7787878787878788.\u001b[0m\n",
      "\u001b[32m[I 2023-05-07 04:55:41,421]\u001b[0m Trial 6 finished with value: 0.7742183742183743 and parameters: {'n_estimators': 650, 'max_depth': 3, 'gamma': 0.9174911617582543, 'subsample': 0.6102524422214569, 'colsample_bytree': 0.8291219154968767, 'learning_rate': 0.39652155836568775}. Best is trial 1 with value: 0.7787878787878788.\u001b[0m\n",
      "\u001b[32m[I 2023-05-07 04:55:54,950]\u001b[0m Trial 7 finished with value: 0.7815055315055316 and parameters: {'n_estimators': 100, 'max_depth': 10, 'gamma': 0.2554294259334623, 'subsample': 0.50600864683389, 'colsample_bytree': 0.5886275654127184, 'learning_rate': 0.4482509441985143}. Best is trial 7 with value: 0.7815055315055316.\u001b[0m\n",
      "\u001b[32m[I 2023-05-07 04:56:06,793]\u001b[0m Trial 8 finished with value: 0.7777777777777777 and parameters: {'n_estimators': 950, 'max_depth': 10, 'gamma': 0.15314893392510043, 'subsample': 0.8186262988463142, 'colsample_bytree': 0.7578740214409057, 'learning_rate': 0.7651448955245391}. Best is trial 7 with value: 0.7815055315055316.\u001b[0m\n",
      "\u001b[32m[I 2023-05-07 04:56:18,652]\u001b[0m Trial 9 finished with value: 0.7717652717652718 and parameters: {'n_estimators': 550, 'max_depth': 6, 'gamma': 0.9279954910470372, 'subsample': 0.6167442848898833, 'colsample_bytree': 0.768339734733571, 'learning_rate': 0.8628999684139445}. Best is trial 7 with value: 0.7815055315055316.\u001b[0m\n",
      "\u001b[32m[I 2023-05-07 04:56:23,711]\u001b[0m Trial 10 finished with value: 0.7684463684463685 and parameters: {'n_estimators': 50, 'max_depth': 7, 'gamma': 0.42323006139474684, 'subsample': 0.5016441181178797, 'colsample_bytree': 0.5105435207342581, 'learning_rate': 0.9676713455338768}. Best is trial 7 with value: 0.7815055315055316.\u001b[0m\n",
      "\u001b[32m[I 2023-05-07 04:56:42,586]\u001b[0m Trial 11 finished with value: 0.7832852332852333 and parameters: {'n_estimators': 150, 'max_depth': 9, 'gamma': 0.6345171732668453, 'subsample': 0.746032463837288, 'colsample_bytree': 0.6618457428970657, 'learning_rate': 0.39500759702730437}. Best is trial 11 with value: 0.7832852332852333.\u001b[0m\n",
      "\u001b[32m[I 2023-05-07 04:56:49,197]\u001b[0m Trial 12 finished with value: 0.7777537277537278 and parameters: {'n_estimators': 50, 'max_depth': 8, 'gamma': 0.5073421500374532, 'subsample': 0.7272319456609982, 'colsample_bytree': 0.6487061804549765, 'learning_rate': 0.33710356185681745}. Best is trial 11 with value: 0.7832852332852333.\u001b[0m\n",
      "\u001b[32m[I 2023-05-07 04:57:10,156]\u001b[0m Trial 13 finished with value: 0.7837902837902838 and parameters: {'n_estimators': 200, 'max_depth': 9, 'gamma': 0.3090351089941804, 'subsample': 0.7345016614284695, 'colsample_bytree': 0.6668511711243542, 'learning_rate': 0.32463871451573356}. Best is trial 13 with value: 0.7837902837902838.\u001b[0m\n",
      "\u001b[32m[I 2023-05-07 04:57:36,162]\u001b[0m Trial 14 finished with value: 0.78006253006253 and parameters: {'n_estimators': 250, 'max_depth': 6, 'gamma': 0.5280913906460709, 'subsample': 0.7544166901168085, 'colsample_bytree': 0.691133017194645, 'learning_rate': 0.26017315603395874}. Best is trial 13 with value: 0.7837902837902838.\u001b[0m\n",
      "\u001b[32m[I 2023-05-07 04:58:00,744]\u001b[0m Trial 15 finished with value: 0.785016835016835 and parameters: {'n_estimators': 200, 'max_depth': 8, 'gamma': 0.36578212566073876, 'subsample': 0.7371769966368701, 'colsample_bytree': 0.7048087550393493, 'learning_rate': 0.22406625884360373}. Best is trial 15 with value: 0.785016835016835.\u001b[0m\n",
      "\u001b[32m[I 2023-05-07 04:58:26,511]\u001b[0m Trial 16 finished with value: 0.7822029822029822 and parameters: {'n_estimators': 250, 'max_depth': 7, 'gamma': 0.004107424405161986, 'subsample': 0.8168118192917873, 'colsample_bytree': 0.7092278636472125, 'learning_rate': 0.2389788309422204}. Best is trial 15 with value: 0.785016835016835.\u001b[0m\n",
      "\u001b[32m[I 2023-05-07 04:59:12,322]\u001b[0m Trial 17 finished with value: 0.7864117364117366 and parameters: {'n_estimators': 400, 'max_depth': 8, 'gamma': 0.3831740019587054, 'subsample': 0.6846570768752248, 'colsample_bytree': 0.713895487623545, 'learning_rate': 0.13800116277809482}. Best is trial 17 with value: 0.7864117364117366.\u001b[0m\n",
      "\u001b[32m[I 2023-05-07 05:00:03,015]\u001b[0m Trial 18 finished with value: 0.7855459355459354 and parameters: {'n_estimators': 400, 'max_depth': 8, 'gamma': 0.4385366817979877, 'subsample': 0.6765294831486739, 'colsample_bytree': 0.7054185675541017, 'learning_rate': 0.11401648774829452}. Best is trial 17 with value: 0.7864117364117366.\u001b[0m\n",
      "\u001b[32m[I 2023-05-07 05:00:53,423]\u001b[0m Trial 19 finished with value: 0.7612794612794612 and parameters: {'n_estimators': 450, 'max_depth': 6, 'gamma': 0.48905766417524676, 'subsample': 0.671161367144293, 'colsample_bytree': 0.8221988509800291, 'learning_rate': 0.01956685909636613}. Best is trial 17 with value: 0.7864117364117366.\u001b[0m\n",
      "\u001b[32m[I 2023-05-07 05:01:48,289]\u001b[0m Trial 20 finished with value: 0.783934583934584 and parameters: {'n_estimators': 750, 'max_depth': 7, 'gamma': 0.43871117610085647, 'subsample': 0.5836268817696522, 'colsample_bytree': 0.7261452891901492, 'learning_rate': 0.1241328245330392}. Best is trial 17 with value: 0.7864117364117366.\u001b[0m\n",
      "\u001b[32m[I 2023-05-07 05:02:23,001]\u001b[0m Trial 21 finished with value: 0.7853535353535354 and parameters: {'n_estimators': 350, 'max_depth': 8, 'gamma': 0.3783073701920499, 'subsample': 0.6746457753673449, 'colsample_bytree': 0.7257236274145105, 'learning_rate': 0.17680413406559076}. Best is trial 17 with value: 0.7864117364117366.\u001b[0m\n",
      "\u001b[32m[I 2023-05-07 05:03:08,101]\u001b[0m Trial 22 finished with value: 0.7859307359307359 and parameters: {'n_estimators': 350, 'max_depth': 8, 'gamma': 0.3959802949690357, 'subsample': 0.667463477259841, 'colsample_bytree': 0.7448146400999974, 'learning_rate': 0.1335997525477947}. Best is trial 17 with value: 0.7864117364117366.\u001b[0m\n",
      "\u001b[32m[I 2023-05-07 05:03:57,728]\u001b[0m Trial 23 finished with value: 0.785882635882636 and parameters: {'n_estimators': 550, 'max_depth': 9, 'gamma': 0.27343717834946635, 'subsample': 0.6405609911840395, 'colsample_bytree': 0.7949585263202537, 'learning_rate': 0.11413026325331417}. Best is trial 17 with value: 0.7864117364117366.\u001b[0m\n",
      "\u001b[32m[I 2023-05-07 05:04:56,568]\u001b[0m Trial 24 finished with value: 0.7865560365560365 and parameters: {'n_estimators': 550, 'max_depth': 9, 'gamma': 0.21171672363934313, 'subsample': 0.6240251466609965, 'colsample_bytree': 0.8052359622057116, 'learning_rate': 0.09301252660878445}. Best is trial 24 with value: 0.7865560365560365.\u001b[0m\n",
      "\u001b[32m[I 2023-05-07 05:06:36,176]\u001b[0m Trial 25 finished with value: 0.7801106301106301 and parameters: {'n_estimators': 600, 'max_depth': 9, 'gamma': 0.23478179403532493, 'subsample': 0.5799094592001923, 'colsample_bytree': 0.8447610967637429, 'learning_rate': 0.02048907846390545}. Best is trial 24 with value: 0.7865560365560365.\u001b[0m\n",
      "\u001b[32m[I 2023-05-07 05:07:16,678]\u001b[0m Trial 26 finished with value: 0.781986531986532 and parameters: {'n_estimators': 800, 'max_depth': 7, 'gamma': 0.3651758814664985, 'subsample': 0.5659363246952289, 'colsample_bytree': 0.7528404785890652, 'learning_rate': 0.17332776593618476}. Best is trial 24 with value: 0.7865560365560365.\u001b[0m\n",
      "\u001b[32m[I 2023-05-07 05:07:42,044]\u001b[0m Trial 27 finished with value: 0.782948532948533 and parameters: {'n_estimators': 450, 'max_depth': 10, 'gamma': 0.04795628890833584, 'subsample': 0.6342613816794833, 'colsample_bytree': 0.8059557727270132, 'learning_rate': 0.29033364318534205}. Best is trial 24 with value: 0.7865560365560365.\u001b[0m\n",
      "\u001b[32m[I 2023-05-07 05:08:16,365]\u001b[0m Trial 28 finished with value: 0.7714766714766714 and parameters: {'n_estimators': 350, 'max_depth': 5, 'gamma': 0.28667356050674475, 'subsample': 0.7112317332574414, 'colsample_bytree': 0.875458832521917, 'learning_rate': 0.0834821820591595}. Best is trial 24 with value: 0.7865560365560365.\u001b[0m\n",
      "\u001b[32m[I 2023-05-07 05:09:27,965]\u001b[0m Trial 29 finished with value: 0.7859307359307359 and parameters: {'n_estimators': 500, 'max_depth': 8, 'gamma': 0.20185134961172038, 'subsample': 0.6096280051161391, 'colsample_bytree': 0.7765875903160454, 'learning_rate': 0.07428039591261208}. Best is trial 24 with value: 0.7865560365560365.\u001b[0m\n",
      "\u001b[32m[I 2023-05-07 05:10:03,679]\u001b[0m Trial 30 finished with value: 0.7856902356902357 and parameters: {'n_estimators': 600, 'max_depth': 9, 'gamma': 0.11892303532924298, 'subsample': 0.7002993752692633, 'colsample_bytree': 0.7422561739861466, 'learning_rate': 0.17391348806152435}. Best is trial 24 with value: 0.7865560365560365.\u001b[0m\n",
      "\u001b[32m[I 2023-05-07 05:11:12,896]\u001b[0m Trial 31 finished with value: 0.7862193362193363 and parameters: {'n_estimators': 500, 'max_depth': 8, 'gamma': 0.21786158020170274, 'subsample': 0.6110365100830002, 'colsample_bytree': 0.7799959523764476, 'learning_rate': 0.07407144553182236}. Best is trial 24 with value: 0.7865560365560365.\u001b[0m\n",
      "\u001b[32m[I 2023-05-07 05:12:14,798]\u001b[0m Trial 32 finished with value: 0.7752765752765752 and parameters: {'n_estimators': 450, 'max_depth': 8, 'gamma': 0.20783725903670036, 'subsample': 0.6480184945950496, 'colsample_bytree': 0.7981564462900437, 'learning_rate': 0.02253436301824987}. Best is trial 24 with value: 0.7865560365560365.\u001b[0m\n",
      "\u001b[32m[I 2023-05-07 05:13:10,873]\u001b[0m Trial 33 finished with value: 0.785064935064935 and parameters: {'n_estimators': 350, 'max_depth': 9, 'gamma': 0.31036994932359513, 'subsample': 0.5545891748142524, 'colsample_bytree': 0.8543649216297884, 'learning_rate': 0.0788986453196932}. Best is trial 24 with value: 0.7865560365560365.\u001b[0m\n",
      "\u001b[32m[I 2023-05-07 05:13:49,020]\u001b[0m Trial 34 finished with value: 0.7846560846560847 and parameters: {'n_estimators': 650, 'max_depth': 7, 'gamma': 0.1074172801917761, 'subsample': 0.5970106509791551, 'colsample_bytree': 0.7535530840466237, 'learning_rate': 0.19164301685011237}. Best is trial 24 with value: 0.7865560365560365.\u001b[0m\n",
      "\u001b[32m[I 2023-05-07 05:14:36,785]\u001b[0m Trial 35 finished with value: 0.7867484367484368 and parameters: {'n_estimators': 500, 'max_depth': 9, 'gamma': 0.21731902962059219, 'subsample': 0.6377122051282024, 'colsample_bytree': 0.9108618990070679, 'learning_rate': 0.14299777831819485}. Best is trial 35 with value: 0.7867484367484368.\u001b[0m\n",
      "\u001b[32m[I 2023-05-07 05:16:03,561]\u001b[0m Trial 36 finished with value: 0.7874699374699374 and parameters: {'n_estimators': 500, 'max_depth': 9, 'gamma': 0.2145844562664468, 'subsample': 0.6284136305175798, 'colsample_bytree': 0.9318169973978295, 'learning_rate': 0.05487582875095254}. Best is trial 36 with value: 0.7874699374699374.\u001b[0m\n",
      "\u001b[32m[I 2023-05-07 05:16:30,603]\u001b[0m Trial 37 finished with value: 0.784078884078884 and parameters: {'n_estimators': 700, 'max_depth': 10, 'gamma': 0.1732517145477115, 'subsample': 0.5472264428382184, 'colsample_bytree': 0.9420293865437974, 'learning_rate': 0.2392872273698896}. Best is trial 36 with value: 0.7874699374699374.\u001b[0m\n",
      "\u001b[32m[I 2023-05-07 05:17:14,874]\u001b[0m Trial 38 finished with value: 0.7850889850889851 and parameters: {'n_estimators': 600, 'max_depth': 9, 'gamma': 0.2888441455780267, 'subsample': 0.6343257614333541, 'colsample_bytree': 0.9981842825528624, 'learning_rate': 0.1546247032125848}. Best is trial 36 with value: 0.7874699374699374.\u001b[0m\n",
      "\u001b[32m[I 2023-05-07 05:20:06,670]\u001b[0m Trial 39 finished with value: 0.782996632996633 and parameters: {'n_estimators': 850, 'max_depth': 10, 'gamma': 0.1041646094978852, 'subsample': 0.5753520956771926, 'colsample_bytree': 0.9166193335014152, 'learning_rate': 0.013318189958451118}. Best is trial 36 with value: 0.7874699374699374.\u001b[0m\n",
      "\u001b[32m[I 2023-05-07 05:20:22,008]\u001b[0m Trial 40 finished with value: 0.7763828763828764 and parameters: {'n_estimators': 400, 'max_depth': 10, 'gamma': 0.24274351450010273, 'subsample': 0.5338485239894695, 'colsample_bytree': 0.9698642858676837, 'learning_rate': 0.5538945106917812}. Best is trial 36 with value: 0.7874699374699374.\u001b[0m\n",
      "\u001b[32m[I 2023-05-07 05:21:43,599]\u001b[0m Trial 41 finished with value: 0.7867724867724868 and parameters: {'n_estimators': 500, 'max_depth': 9, 'gamma': 0.2128738717276944, 'subsample': 0.6094735526433299, 'colsample_bytree': 0.9016417580918732, 'learning_rate': 0.07079007000324511}. Best is trial 36 with value: 0.7874699374699374.\u001b[0m\n",
      "\u001b[32m[I 2023-05-07 05:23:07,074]\u001b[0m Trial 42 finished with value: 0.7866281866281867 and parameters: {'n_estimators': 500, 'max_depth': 9, 'gamma': 0.1682365397930881, 'subsample': 0.6242924576693875, 'colsample_bytree': 0.8978706219561423, 'learning_rate': 0.0665785044566754}. Best is trial 36 with value: 0.7874699374699374.\u001b[0m\n",
      "\u001b[32m[I 2023-05-07 05:24:45,657]\u001b[0m Trial 43 finished with value: 0.7857623857623858 and parameters: {'n_estimators': 550, 'max_depth': 9, 'gamma': 0.15528051224412073, 'subsample': 0.5925449911998907, 'colsample_bytree': 0.9005923490147292, 'learning_rate': 0.040489454505633404}. Best is trial 36 with value: 0.7874699374699374.\u001b[0m\n",
      "\u001b[32m[I 2023-05-07 05:25:18,767]\u001b[0m Trial 44 finished with value: 0.7612554112554113 and parameters: {'n_estimators': 500, 'max_depth': 3, 'gamma': 0.07367843858274306, 'subsample': 0.61728148226125, 'colsample_bytree': 0.9340145509370134, 'learning_rate': 0.09081780888274196}. Best is trial 36 with value: 0.7874699374699374.\u001b[0m\n",
      "\u001b[32m[I 2023-05-07 05:27:00,457]\u001b[0m Trial 45 finished with value: 0.7879509379509381 and parameters: {'n_estimators': 650, 'max_depth': 9, 'gamma': 0.17380305567647278, 'subsample': 0.6493511692252932, 'colsample_bytree': 0.8873409678658584, 'learning_rate': 0.05665644063175673}. Best is trial 45 with value: 0.7879509379509381.\u001b[0m\n",
      "\u001b[32m[I 2023-05-07 05:28:44,140]\u001b[0m Trial 46 finished with value: 0.7880952380952381 and parameters: {'n_estimators': 650, 'max_depth': 10, 'gamma': 0.1608750938788017, 'subsample': 0.6470268147984296, 'colsample_bytree': 0.9677662627212146, 'learning_rate': 0.05265371936718535}. Best is trial 46 with value: 0.7880952380952381.\u001b[0m\n",
      "\u001b[32m[I 2023-05-07 05:29:17,136]\u001b[0m Trial 47 finished with value: 0.7857864357864358 and parameters: {'n_estimators': 700, 'max_depth': 10, 'gamma': 0.12437503098858038, 'subsample': 0.6510157161924469, 'colsample_bytree': 0.9685815509688998, 'learning_rate': 0.1995956563475311}. Best is trial 46 with value: 0.7880952380952381.\u001b[0m\n",
      "\u001b[32m[I 2023-05-07 05:30:55,079]\u001b[0m Trial 48 finished with value: 0.7872534872534872 and parameters: {'n_estimators': 1000, 'max_depth': 10, 'gamma': 0.3355049166713744, 'subsample': 0.5293125148971671, 'colsample_bytree': 0.9725565385632899, 'learning_rate': 0.05041334679247644}. Best is trial 46 with value: 0.7880952380952381.\u001b[0m\n",
      "\u001b[32m[I 2023-05-07 05:32:54,054]\u001b[0m Trial 49 finished with value: 0.788071188071188 and parameters: {'n_estimators': 850, 'max_depth': 10, 'gamma': 0.3226477541492399, 'subsample': 0.5270950103534362, 'colsample_bytree': 0.9826801850713682, 'learning_rate': 0.04715395859044254}. Best is trial 46 with value: 0.7880952380952381.\u001b[0m\n"
     ]
    }
   ],
   "source": [
    " # define the objective function for Optuna to minimize\n",
    "def objective(trial):\n",
    "    # define hyperparameters to tune with Optuna\n",
    "    params = {\n",
    "        'n_estimators': trial.suggest_int('n_estimators', 50, 1000, 50),\n",
    "        'max_depth': trial.suggest_int('max_depth', 3, 10),\n",
    "        'gamma': trial.suggest_float('gamma', 0, 1),\n",
    "        'subsample': trial.suggest_float('subsample', 0.5, 1),\n",
    "        'colsample_bytree': trial.suggest_float('colsample_bytree', 0.5, 1),\n",
    "        'learning_rate': trial.suggest_float('learning_rate', 0.01, 1)\n",
    "    }\n",
    "    \n",
    "    # Define the column transformer\n",
    "    cat_var = [ind for ind, col in enumerate(X_train.columns) if X_train[col].dtypes=='object']\n",
    "    num_var = [ind for ind, col in enumerate(X_train.columns) if X_train[col].dtypes in ['int64', 'float64']]\n",
    "\n",
    "    # Define column transformer for one-hot encoding categorical features\n",
    "    categorical_transformer = Pipeline([\n",
    "        ('onehot', OneHotEncoder(handle_unknown='ignore'))\n",
    "    ])\n",
    "\n",
    "    # Define column transformer for scaling numeric features\n",
    "    numerical_transformer = Pipeline([\n",
    "        ('scaler', StandardScaler())\n",
    "    ])\n",
    "\n",
    "    # Define preprocessing pipeline\n",
    "    preprocessing_pipeline = ColumnTransformer([\n",
    "        ('cat_transformer', categorical_transformer, cat_var),\n",
    "        ('num_transformer', numerical_transformer, num_var)\n",
    "    # replace missing categorical values with mode and one-hot encode\n",
    "    ], remainder='passthrough')\n",
    "\n",
    "\n",
    "    # create an XGBoost classifier\n",
    "    xgb_model = xgb.XGBClassifier(**params, \n",
    "                                objective='multi:softmax', \n",
    "                                eval_metric='mlogloss',\n",
    "                                seed=42)\n",
    "\n",
    "    # Define final pipeline with preprocessing and logistic regression model\n",
    "    pipeline_xgb= Pipeline([('preprocessing', preprocessing_pipeline)])\n",
    "    y_train_df = pd.Series(y_train)\n",
    "    \n",
    "\n",
    "    skf = StratifiedKFold(n_splits=3, random_state=42, shuffle=True)\n",
    "    f2_scores = []\n",
    "\n",
    "    for idx, (train_idx, test_idx) in enumerate(skf.split(X_train, y_train_df)):\n",
    "        X_train_split, X_test_split = X_train.iloc[train_idx], X_train.iloc[test_idx]\n",
    "        y_train_split, y_test_split = y_train_df.iloc[train_idx], y_train_df.iloc[test_idx]\n",
    "    \n",
    "        X_train_split = pipeline_xgb.fit_transform(X_train_split)\n",
    "        X_test_split = pipeline_xgb.transform(X_test_split)\n",
    "\n",
    "        xgb_model.fit(X_train_split, y_train_split,\n",
    "                      eval_set=[(X_test_split, y_test_split)],\n",
    "                      early_stopping_rounds=50,\n",
    "                      verbose=False)\n",
    "        \n",
    "        y_pred = xgb_model.predict(X_test_split)\n",
    "        f2_score_xgb = fbeta_score(y_test_split, y_pred, beta=2, average='micro')\n",
    "        f2_scores.append(f2_score_xgb)\n",
    "    return np.mean(f2_scores)\n",
    "\n",
    "# create an Optuna study\n",
    "study_xgb = optuna.create_study(direction='maximize')\n",
    "study_xgb.optimize(objective, n_trials=50)"
   ]
  },
  {
   "cell_type": "code",
   "execution_count": 28,
   "id": "c4915739",
   "metadata": {},
   "outputs": [
    {
     "ename": "NameError",
     "evalue": "name 'study_xgb' is not defined",
     "output_type": "error",
     "traceback": [
      "\u001b[1;31m---------------------------------------------------------------------------\u001b[0m",
      "\u001b[1;31mNameError\u001b[0m                                 Traceback (most recent call last)",
      "Cell \u001b[1;32mIn[28], line 2\u001b[0m\n\u001b[0;32m      1\u001b[0m \u001b[39m# obtain best hyperparameters\u001b[39;00m\n\u001b[1;32m----> 2\u001b[0m best_params_xgb \u001b[39m=\u001b[39m study_xgb\u001b[39m.\u001b[39mbest_params\n\u001b[0;32m      4\u001b[0m \u001b[39m# identify the categorical and numeric features\u001b[39;00m\n\u001b[0;32m      5\u001b[0m cat_var \u001b[39m=\u001b[39m [ind \u001b[39mfor\u001b[39;00m ind, col \u001b[39min\u001b[39;00m \u001b[39menumerate\u001b[39m(X_train\u001b[39m.\u001b[39mcolumns) \u001b[39mif\u001b[39;00m X_train[col]\u001b[39m.\u001b[39mdtypes\u001b[39m==\u001b[39m\u001b[39m'\u001b[39m\u001b[39mobject\u001b[39m\u001b[39m'\u001b[39m]\n",
      "\u001b[1;31mNameError\u001b[0m: name 'study_xgb' is not defined"
     ]
    }
   ],
   "source": [
    "# obtain best hyperparameters\n",
    "best_params_xgb = study_xgb.best_params\n",
    "\n",
    "# identify the categorical and numeric features\n",
    "cat_var = [ind for ind, col in enumerate(X_train.columns) if X_train[col].dtypes=='object']\n",
    "num_var = [ind for ind, col in enumerate(X_train.columns) if X_train[col].dtypes in ['int64', 'float64']]\n",
    "\n",
    "# Define column transformer for one-hot encoding categorical features\n",
    "categorical_transformer = Pipeline([\n",
    "    ('onehot', OneHotEncoder(handle_unknown='ignore'))\n",
    "])\n",
    "\n",
    "# Define column transformer for scaling numeric features\n",
    "numerical_transformer = Pipeline([\n",
    "    ('scaler', StandardScaler())\n",
    "])\n",
    "\n",
    "# Define preprocessing pipeline\n",
    "preprocessing_pipeline = ColumnTransformer([\n",
    "    ('cat_transformer', categorical_transformer, cat_var),\n",
    "    ('num_transformer', numerical_transformer, num_var)\n",
    "# replace missing categorical values with mode and one-hot encode\n",
    "], remainder='passthrough')\n",
    "\n",
    "\n",
    "# create an XGBoost classifier\n",
    "xgb_model = xgb.XGBClassifier(**best_params_xgb, \n",
    "                            objective='multi:softmax', \n",
    "                            eval_metric='mlogloss',\n",
    "                            seed=42)\n",
    "\n",
    "# Define final pipeline with preprocessing and logistic regression model\n",
    "pipeline_xgb= Pipeline([('preprocessing', preprocessing_pipeline),\n",
    "                        ('xgb_model', xgb_model)])\n",
    "\n",
    "X_train_xgb = pipeline_xgb.fit_transform(X_train)\n",
    "X_test_xgb = pipeline_xgb.transform(X_test)\n",
    "\n",
    "pipeline_xgb.fit(X_train, y_train)\n",
    "pipeline_xgb"
   ]
  },
  {
   "cell_type": "code",
   "execution_count": 113,
   "id": "26d74bd6",
   "metadata": {},
   "outputs": [
    {
     "data": {
      "text/plain": [
       "0.7989337822671156"
      ]
     },
     "execution_count": 113,
     "metadata": {},
     "output_type": "execute_result"
    }
   ],
   "source": [
    "y_pred_xgb = xgb_model.predict(X_test_xgb)\n",
    "f2_score_xgb = fbeta_score(y_test, y_pred_xgb, beta=2, average='micro')\n",
    "f2_score_xgb"
   ]
  },
  {
   "attachments": {},
   "cell_type": "markdown",
   "id": "cad49133",
   "metadata": {},
   "source": [
    "### Save the Models"
   ]
  },
  {
   "cell_type": "code",
   "execution_count": 117,
   "id": "ae4f8c2f",
   "metadata": {},
   "outputs": [],
   "source": [
    "# save the training and testing data \n",
    "with open('models/X_train.pkl', 'wb') as f:\n",
    "    pickle.dump(X_train, f)\n",
    "with open('models/X_test.pkl', 'wb') as f:\n",
    "    pickle.dump(X_test, f)\n",
    "with open('models/y_train.pkl', 'wb') as f:\n",
    "    pickle.dump(y_train, f)\n",
    "with open('models/y_test.pkl', 'wb') as f:\n",
    "    pickle.dump(y_test, f)"
   ]
  },
  {
   "cell_type": "code",
   "execution_count": 116,
   "id": "4f4d11df",
   "metadata": {},
   "outputs": [],
   "source": [
    "# Save the  tested models \n",
    "with open('models/dummy_classifier.pkl', 'wb') as f:\n",
    "    pickle.dump(dummy_clf, f)\n",
    "with open('models/logistic_regression.pkl', 'wb') as f:\n",
    "    pickle.dump(pipeline_log, f)\n",
    "with open('models/catboost_classifier.pkl', 'wb') as f:\n",
    "    pickle.dump(pipeline_cbc, f)\n",
    "with open('models/lgbm_classifier.pkl', 'wb') as f:\n",
    "    pickle.dump(pipeline_lgbm, f)\n",
    "with open('models/xgb_classifier.pkl', 'wb') as f:\n",
    "    pickle.dump(pipeline_xgb, f)\n"
   ]
  },
  {
   "attachments": {},
   "cell_type": "markdown",
   "id": "0cc3458c",
   "metadata": {},
   "source": [
    "1. lack of understanding of variables (hard to address many unique values)\n",
    "2. Lack of information on business constraints (cost of repairing/replacing a water pump)"
   ]
  },
  {
   "attachments": {},
   "cell_type": "markdown",
   "id": "b759a6da",
   "metadata": {},
   "source": []
  },
  {
   "cell_type": "code",
   "execution_count": null,
   "id": "de8df44c",
   "metadata": {},
   "outputs": [],
   "source": []
  }
 ],
 "metadata": {
  "kernelspec": {
   "display_name": "venv",
   "language": "python",
   "name": "python3"
  },
  "language_info": {
   "codemirror_mode": {
    "name": "ipython",
    "version": 3
   },
   "file_extension": ".py",
   "mimetype": "text/x-python",
   "name": "python",
   "nbconvert_exporter": "python",
   "pygments_lexer": "ipython3",
   "version": "3.9.13"
  }
 },
 "nbformat": 4,
 "nbformat_minor": 5
}
