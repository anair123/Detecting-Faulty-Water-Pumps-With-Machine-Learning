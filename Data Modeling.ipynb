{
 "cells": [
  {
   "attachments": {},
   "cell_type": "markdown",
   "id": "a381e72e",
   "metadata": {},
   "source": [
    "### Libraries"
   ]
  },
  {
   "cell_type": "code",
   "execution_count": 1,
   "metadata": {},
   "outputs": [
    {
     "name": "stderr",
     "output_type": "stream",
     "text": [
      "c:\\Users\\aashi\\Desktop\\Personal Projects\\Data Science\\Identifying-Faulty-Water-Pumps-With-Machine-Learning\\venv\\lib\\site-packages\\tqdm\\auto.py:21: TqdmWarning: IProgress not found. Please update jupyter and ipywidgets. See https://ipywidgets.readthedocs.io/en/stable/user_install.html\n",
      "  from .autonotebook import tqdm as notebook_tqdm\n"
     ]
    }
   ],
   "source": [
    "import numpy as np\n",
    "import pandas as pd\n",
    "import seaborn as sns\n",
    "from sklearn.preprocessing import LabelEncoder\n",
    "from sklearn.feature_selection import chi2\n",
    "import matplotlib.pyplot as plt\n",
    "from sklearn.preprocessing import StandardScaler\n",
    "from sklearn.feature_selection import SelectKBest\n",
    "from sklearn.feature_selection import f_classif\n",
    "from sklearn.model_selection import train_test_split\n",
    "from sklearn.model_selection import cross_val_score, StratifiedKFold\n",
    "from sklearn.dummy import DummyClassifier\n",
    "from sklearn.pipeline import Pipeline\n",
    "from sklearn.compose import ColumnTransformer\n",
    "from sklearn.preprocessing import FunctionTransformer\n",
    "from sklearn.impute import SimpleImputer, KNNImputer\n",
    "from feature_engine.imputation import CategoricalImputer, DropMissingData\n",
    "from feature_engine.encoding import RareLabelEncoder\n",
    "from sklearn.preprocessing import OneHotEncoder\n",
    "from sklearn.linear_model import LogisticRegression\n",
    "from sklearn.metrics import fbeta_score, make_scorer\n",
    "from feature_engine.wrappers import SklearnTransformerWrapper\n",
    "from catboost import CatBoostClassifier\n",
    "import optuna\n",
    "import lightgbm as lgb\n",
    "from optuna.integration import LightGBMPruningCallback\n",
    "import xgboost as xgb\n",
    "import pickle\n",
    "import warnings\n",
    "\n",
    "warnings.filterwarnings(action='ignore')"
   ]
  },
  {
   "cell_type": "code",
   "execution_count": 2,
   "id": "e08dfe5d",
   "metadata": {},
   "outputs": [],
   "source": [
    "train_values = pd.read_csv('data/train_values.csv')\n",
    "train_label = pd.read_csv('data/train_labels.csv')"
   ]
  },
  {
   "cell_type": "code",
   "execution_count": 3,
   "id": "efe14c4c",
   "metadata": {},
   "outputs": [],
   "source": [
    "# merge the two data frames\n",
    "df = train_values.merge(train_label, on='id')"
   ]
  },
  {
   "cell_type": "code",
   "execution_count": 4,
   "id": "72726eae",
   "metadata": {},
   "outputs": [
    {
     "data": {
      "text/plain": [
       "True"
      ]
     },
     "execution_count": 4,
     "metadata": {},
     "output_type": "execute_result"
    }
   ],
   "source": [
    "# check that all rows were in the joined dataset\n",
    "len(df) == len(train_label) == len(train_values)"
   ]
  },
  {
   "cell_type": "code",
   "execution_count": 5,
   "id": "1380246f",
   "metadata": {},
   "outputs": [
    {
     "data": {
      "text/plain": [
       "Index(['id', 'amount_tsh', 'date_recorded', 'funder', 'gps_height',\n",
       "       'installer', 'longitude', 'latitude', 'wpt_name', 'num_private',\n",
       "       'basin', 'subvillage', 'region', 'region_code', 'district_code', 'lga',\n",
       "       'ward', 'population', 'public_meeting', 'recorded_by',\n",
       "       'scheme_management', 'scheme_name', 'permit', 'construction_year',\n",
       "       'extraction_type', 'extraction_type_group', 'extraction_type_class',\n",
       "       'management', 'management_group', 'payment', 'payment_type',\n",
       "       'water_quality', 'quality_group', 'quantity', 'quantity_group',\n",
       "       'source', 'source_type', 'source_class', 'waterpoint_type',\n",
       "       'waterpoint_type_group', 'status_group'],\n",
       "      dtype='object')"
      ]
     },
     "execution_count": 5,
     "metadata": {},
     "output_type": "execute_result"
    }
   ],
   "source": [
    "df.columns"
   ]
  },
  {
   "cell_type": "code",
   "execution_count": 6,
   "id": "283cf637",
   "metadata": {},
   "outputs": [
    {
     "data": {
      "text/html": [
       "<div>\n",
       "<style scoped>\n",
       "    .dataframe tbody tr th:only-of-type {\n",
       "        vertical-align: middle;\n",
       "    }\n",
       "\n",
       "    .dataframe tbody tr th {\n",
       "        vertical-align: top;\n",
       "    }\n",
       "\n",
       "    .dataframe thead th {\n",
       "        text-align: right;\n",
       "    }\n",
       "</style>\n",
       "<table border=\"1\" class=\"dataframe\">\n",
       "  <thead>\n",
       "    <tr style=\"text-align: right;\">\n",
       "      <th></th>\n",
       "      <th>id</th>\n",
       "      <th>amount_tsh</th>\n",
       "      <th>date_recorded</th>\n",
       "      <th>funder</th>\n",
       "      <th>gps_height</th>\n",
       "      <th>installer</th>\n",
       "      <th>longitude</th>\n",
       "      <th>latitude</th>\n",
       "      <th>wpt_name</th>\n",
       "      <th>num_private</th>\n",
       "      <th>...</th>\n",
       "      <th>water_quality</th>\n",
       "      <th>quality_group</th>\n",
       "      <th>quantity</th>\n",
       "      <th>quantity_group</th>\n",
       "      <th>source</th>\n",
       "      <th>source_type</th>\n",
       "      <th>source_class</th>\n",
       "      <th>waterpoint_type</th>\n",
       "      <th>waterpoint_type_group</th>\n",
       "      <th>status_group</th>\n",
       "    </tr>\n",
       "  </thead>\n",
       "  <tbody>\n",
       "  </tbody>\n",
       "</table>\n",
       "<p>0 rows × 41 columns</p>\n",
       "</div>"
      ],
      "text/plain": [
       "Empty DataFrame\n",
       "Columns: [id, amount_tsh, date_recorded, funder, gps_height, installer, longitude, latitude, wpt_name, num_private, basin, subvillage, region, region_code, district_code, lga, ward, population, public_meeting, recorded_by, scheme_management, scheme_name, permit, construction_year, extraction_type, extraction_type_group, extraction_type_class, management, management_group, payment, payment_type, water_quality, quality_group, quantity, quantity_group, source, source_type, source_class, waterpoint_type, waterpoint_type_group, status_group]\n",
       "Index: []\n",
       "\n",
       "[0 rows x 41 columns]"
      ]
     },
     "execution_count": 6,
     "metadata": {},
     "output_type": "execute_result"
    }
   ],
   "source": [
    "# search for duplicates \n",
    "df[df['id'].duplicated()]"
   ]
  },
  {
   "cell_type": "code",
   "execution_count": 7,
   "id": "72abafcc",
   "metadata": {},
   "outputs": [
    {
     "data": {
      "text/html": [
       "<div>\n",
       "<style scoped>\n",
       "    .dataframe tbody tr th:only-of-type {\n",
       "        vertical-align: middle;\n",
       "    }\n",
       "\n",
       "    .dataframe tbody tr th {\n",
       "        vertical-align: top;\n",
       "    }\n",
       "\n",
       "    .dataframe thead th {\n",
       "        text-align: right;\n",
       "    }\n",
       "</style>\n",
       "<table border=\"1\" class=\"dataframe\">\n",
       "  <thead>\n",
       "    <tr style=\"text-align: right;\">\n",
       "      <th></th>\n",
       "      <th>column</th>\n",
       "      <th>number of missing values</th>\n",
       "    </tr>\n",
       "  </thead>\n",
       "  <tbody>\n",
       "    <tr>\n",
       "      <th>3</th>\n",
       "      <td>funder</td>\n",
       "      <td>3637</td>\n",
       "    </tr>\n",
       "    <tr>\n",
       "      <th>5</th>\n",
       "      <td>installer</td>\n",
       "      <td>3655</td>\n",
       "    </tr>\n",
       "    <tr>\n",
       "      <th>8</th>\n",
       "      <td>wpt_name</td>\n",
       "      <td>2</td>\n",
       "    </tr>\n",
       "    <tr>\n",
       "      <th>11</th>\n",
       "      <td>subvillage</td>\n",
       "      <td>371</td>\n",
       "    </tr>\n",
       "    <tr>\n",
       "      <th>18</th>\n",
       "      <td>public_meeting</td>\n",
       "      <td>3334</td>\n",
       "    </tr>\n",
       "    <tr>\n",
       "      <th>20</th>\n",
       "      <td>scheme_management</td>\n",
       "      <td>3878</td>\n",
       "    </tr>\n",
       "    <tr>\n",
       "      <th>21</th>\n",
       "      <td>scheme_name</td>\n",
       "      <td>28810</td>\n",
       "    </tr>\n",
       "    <tr>\n",
       "      <th>22</th>\n",
       "      <td>permit</td>\n",
       "      <td>3056</td>\n",
       "    </tr>\n",
       "  </tbody>\n",
       "</table>\n",
       "</div>"
      ],
      "text/plain": [
       "               column  number of missing values\n",
       "3              funder                      3637\n",
       "5           installer                      3655\n",
       "8            wpt_name                         2\n",
       "11         subvillage                       371\n",
       "18     public_meeting                      3334\n",
       "20  scheme_management                      3878\n",
       "21        scheme_name                     28810\n",
       "22             permit                      3056"
      ]
     },
     "execution_count": 7,
     "metadata": {},
     "output_type": "execute_result"
    }
   ],
   "source": [
    "missing = pd.DataFrame(df.isnull().sum()).reset_index()\n",
    "missing.columns = ['column', 'number of missing values']\n",
    "missing[missing['number of missing values']>0]"
   ]
  },
  {
   "attachments": {},
   "cell_type": "markdown",
   "id": "d4690675",
   "metadata": {},
   "source": [
    "### Feature Engineering"
   ]
  },
  {
   "attachments": {},
   "cell_type": "markdown",
   "id": "8ccb402b",
   "metadata": {},
   "source": [
    "#### Remove Irrelevant Fields"
   ]
  },
  {
   "cell_type": "code",
   "execution_count": 8,
   "id": "6835f6db",
   "metadata": {},
   "outputs": [],
   "source": [
    "# uneeded columns (fields that don't help predict the target label)\n",
    "unneeded_col = ['id', 'recorded_by', 'wpt_name']\n",
    "df = df.drop(unneeded_col, axis=1)"
   ]
  },
  {
   "attachments": {},
   "cell_type": "markdown",
   "id": "b41cfcb2",
   "metadata": {},
   "source": [
    "#### Handle Fields with Too Many Unique Values"
   ]
  },
  {
   "cell_type": "code",
   "execution_count": 9,
   "id": "caf562c4",
   "metadata": {},
   "outputs": [
    {
     "data": {
      "text/html": [
       "<div>\n",
       "<style scoped>\n",
       "    .dataframe tbody tr th:only-of-type {\n",
       "        vertical-align: middle;\n",
       "    }\n",
       "\n",
       "    .dataframe tbody tr th {\n",
       "        vertical-align: top;\n",
       "    }\n",
       "\n",
       "    .dataframe thead th {\n",
       "        text-align: right;\n",
       "    }\n",
       "</style>\n",
       "<table border=\"1\" class=\"dataframe\">\n",
       "  <thead>\n",
       "    <tr style=\"text-align: right;\">\n",
       "      <th></th>\n",
       "      <th>Field</th>\n",
       "      <th>Number of Unique Values</th>\n",
       "    </tr>\n",
       "  </thead>\n",
       "  <tbody>\n",
       "    <tr>\n",
       "      <th>0</th>\n",
       "      <td>date_recorded</td>\n",
       "      <td>356</td>\n",
       "    </tr>\n",
       "    <tr>\n",
       "      <th>1</th>\n",
       "      <td>funder</td>\n",
       "      <td>1896</td>\n",
       "    </tr>\n",
       "    <tr>\n",
       "      <th>2</th>\n",
       "      <td>installer</td>\n",
       "      <td>2145</td>\n",
       "    </tr>\n",
       "    <tr>\n",
       "      <th>3</th>\n",
       "      <td>basin</td>\n",
       "      <td>9</td>\n",
       "    </tr>\n",
       "    <tr>\n",
       "      <th>4</th>\n",
       "      <td>subvillage</td>\n",
       "      <td>19287</td>\n",
       "    </tr>\n",
       "  </tbody>\n",
       "</table>\n",
       "</div>"
      ],
      "text/plain": [
       "           Field  Number of Unique Values\n",
       "0  date_recorded                      356\n",
       "1         funder                     1896\n",
       "2      installer                     2145\n",
       "3          basin                        9\n",
       "4     subvillage                    19287"
      ]
     },
     "execution_count": 9,
     "metadata": {},
     "output_type": "execute_result"
    }
   ],
   "source": [
    "# get all categorical variables\n",
    "df['region_code'] = df['region_code'].astype('object')\n",
    "df['district_code'] = df['district_code'].astype('object')\n",
    "\n",
    "# get categorical variables\n",
    "cat_var = [col for col in df.columns if df[col].dtypes == 'object']\n",
    "col_count = {}\n",
    "\n",
    "# find number of unique values in each categorical variable\n",
    "for col in cat_var:\n",
    "    count = df[col].nunique()\n",
    "    col_count[col] = count\n",
    "col_count_df = pd.DataFrame(col_count.items())\n",
    "col_count_df.columns = ['Field', 'Number of Unique Values']\n",
    "col_count_df.head()"
   ]
  },
  {
   "cell_type": "code",
   "execution_count": 10,
   "id": "3018ab5c",
   "metadata": {},
   "outputs": [],
   "source": [
    "# remove redundant data (fields with information provided in other columns)\n",
    "redundant_col = ['subvillage','latitude', 'longitude', 'region_code', 'district_code', 'lga', 'ward', 'scheme_name', 'extraction_type', 'extraction_type_group', 'payment', 'water_quality', 'quantity', 'source', 'source_type', 'waterpoint_type', 'management']\n",
    "df = df.drop(redundant_col, axis=1)"
   ]
  },
  {
   "attachments": {},
   "cell_type": "markdown",
   "id": "e8bbfd0b",
   "metadata": {},
   "source": [
    "#### Handle Date Values"
   ]
  },
  {
   "cell_type": "code",
   "execution_count": 11,
   "id": "a777fec9",
   "metadata": {},
   "outputs": [],
   "source": [
    "# derive age of water pump (i.e., years since construction)\n",
    "df['construction_year'] = pd.to_datetime(df['construction_year'])\n",
    "df['date_recorded'] = pd.to_datetime(df['date_recorded'])\n",
    "df['age'] = (df['date_recorded'] - df['construction_year']) / np.timedelta64(1, 'Y')\n",
    "\n",
    "# delete construction_year and date_recorded columns \n",
    "df = df.drop(['construction_year', 'date_recorded'], axis=1)"
   ]
  },
  {
   "attachments": {},
   "cell_type": "markdown",
   "id": "e00674e6",
   "metadata": {},
   "source": [
    "#### Testing Numerical Features With ANOVA"
   ]
  },
  {
   "cell_type": "code",
   "execution_count": 12,
   "id": "c6852ced",
   "metadata": {},
   "outputs": [
    {
     "data": {
      "text/plain": [
       "['amount_tsh', 'gps_height', 'num_private', 'population', 'age']"
      ]
     },
     "execution_count": 12,
     "metadata": {},
     "output_type": "execute_result"
    }
   ],
   "source": [
    "# get quantifiable variables\n",
    "num_var = [col for col in df.columns if df[col].dtypes in ['float64', 'int64']]\n",
    "num_var"
   ]
  },
  {
   "cell_type": "code",
   "execution_count": 14,
   "id": "74d35631",
   "metadata": {},
   "outputs": [
    {
     "data": {
      "text/plain": [
       "Text(0.5, 1.0, 'P-value of Each Feature')"
      ]
     },
     "execution_count": 14,
     "metadata": {},
     "output_type": "execute_result"
    },
    {
     "data": {
      "image/png": "[encoded data removed]",
      "text/plain": [
       "<Figure size 640x480 with 1 Axes>"
      ]
     },
     "metadata": {},
     "output_type": "display_data"
    }
   ],
   "source": [
    "# copy the dataset for ANOVA test\n",
    "df_int = df.copy(deep=True)\n",
    "\n",
    "# keep the numerical columns and the target label\n",
    "int_var = [col for col in df.columns if df[col].dtypes in ['int64', 'float64']] + ['status_group']\n",
    "df_int = df_int[int_var]\n",
    "\n",
    "# get the input and output variables\n",
    "X = df_int.drop('status_group', axis=1)\n",
    "y = df_int['status_group']\n",
    "\n",
    "# compute the ANOVA F-statistic for each column\n",
    "select = SelectKBest(f_classif, k=5)\n",
    "fit = select.fit(X, y)\n",
    "\n",
    "# compute the p-values for each F-statistic\n",
    "p_values = {col: np.round(p_value, 4) for col, p_value in zip(X.columns, fit.pvalues_)}\n",
    "\n",
    "# plot p_values\n",
    "p_values = pd.Series(p_values.values(),index = p_values.keys())\n",
    "p_values.sort_values(ascending = False , inplace = True)\n",
    "p_values.plot.bar()\n",
    "plt.xlabel('Feature')\n",
    "plt.ylabel('P-value')\n",
    "plt.title('P-value of Each Feature')"
   ]
  },
  {
   "cell_type": "code",
   "execution_count": 34,
   "id": "41ad2154",
   "metadata": {},
   "outputs": [],
   "source": [
    "# remove columns with high p-values from ANOVA test\n",
    "anova_drop = ['num_private']\n",
    "df = df.drop(anova_drop, axis=1)"
   ]
  },
  {
   "attachments": {},
   "cell_type": "markdown",
   "id": "bb71356c",
   "metadata": {},
   "source": [
    "#### Testing Categorical Features With Chi-Square Test"
   ]
  },
  {
   "cell_type": "code",
   "execution_count": 15,
   "id": "d8a318e6",
   "metadata": {},
   "outputs": [
    {
     "data": {
      "image/png": "[encoded data removed]",
      "text/plain": [
       "<Figure size 500x200 with 1 Axes>"
      ]
     },
     "metadata": {},
     "output_type": "display_data"
    }
   ],
   "source": [
    "# copy the dataframe for chi square tests\n",
    "df_chi = df.copy(deep=True)\n",
    "\n",
    "# keep the categorical variables in the data frame\n",
    "cat_var = [col for col in df_chi.columns if df[col].dtypes == 'object']\n",
    "df_chi = df_chi[cat_var]\n",
    "\n",
    "# encode the categorical variables\n",
    "label_encoder = LabelEncoder()\n",
    "for col in df_chi.columns:\n",
    "    df_chi[col] = label_encoder.fit_transform(df_chi[col])\n",
    "\n",
    "# get input and output variables\n",
    "X = df_chi.drop('status_group',axis=1)\n",
    "y = df_chi['status_group']\n",
    "\n",
    "# perform chi-square tests\n",
    "chi_scores = chi2(X,y)\n",
    "p_values = pd.Series(chi_scores[1],index = X.columns)\n",
    "p_values.sort_values(ascending = False , inplace = True)\n",
    "\n",
    "\n",
    "# plot the p-values\n",
    "plt.figure(figsize=(5,2))\n",
    "p_values.plot.bar()\n",
    "plt.xlabel('Feature')\n",
    "plt.ylabel('P-value')\n",
    "plt.title('P-values of Each Feature')\n",
    "plt.show()\n"
   ]
  },
  {
   "cell_type": "code",
   "execution_count": 37,
   "id": "029ce62f",
   "metadata": {},
   "outputs": [
    {
     "data": {
      "text/plain": [
       "amount_tsh               float64\n",
       "funder                    object\n",
       "gps_height                 int64\n",
       "installer                 object\n",
       "basin                     object\n",
       "region                    object\n",
       "population                 int64\n",
       "public_meeting            object\n",
       "scheme_management         object\n",
       "permit                    object\n",
       "extraction_type_class     object\n",
       "management_group          object\n",
       "payment_type              object\n",
       "quality_group             object\n",
       "quantity_group            object\n",
       "source_class              object\n",
       "waterpoint_type_group     object\n",
       "status_group              object\n",
       "age                      float64\n",
       "dtype: object"
      ]
     },
     "execution_count": 37,
     "metadata": {},
     "output_type": "execute_result"
    }
   ],
   "source": [
    "# see all remaining features\n",
    "df.columns\n",
    "df.dtypes"
   ]
  },
  {
   "attachments": {},
   "cell_type": "markdown",
   "id": "15da4f94",
   "metadata": {},
   "source": [
    "### Creating Training and Testing Sets"
   ]
  },
  {
   "cell_type": "code",
   "execution_count": 38,
   "id": "f169c6ce",
   "metadata": {},
   "outputs": [],
   "source": [
    "X = df.drop('status_group', axis=1)\n",
    "y = df['status_group']\n",
    "X_train, X_test, y_train, y_test = train_test_split(X, y, test_size=0.3, random_state=42, stratify=y)"
   ]
  },
  {
   "cell_type": "code",
   "execution_count": 39,
   "id": "59ba299f",
   "metadata": {},
   "outputs": [
    {
     "data": {
      "text/plain": [
       "(41580, 18)"
      ]
     },
     "execution_count": 39,
     "metadata": {},
     "output_type": "execute_result"
    }
   ],
   "source": [
    "X_train.shape"
   ]
  },
  {
   "cell_type": "code",
   "execution_count": 40,
   "id": "76d31d28",
   "metadata": {},
   "outputs": [
    {
     "data": {
      "text/plain": [
       "amount_tsh                  0\n",
       "funder                   2548\n",
       "gps_height                  0\n",
       "installer                2555\n",
       "basin                       0\n",
       "region                      0\n",
       "population                  0\n",
       "public_meeting           2297\n",
       "scheme_management        2733\n",
       "permit                   2151\n",
       "extraction_type_class       0\n",
       "management_group            0\n",
       "payment_type                0\n",
       "quality_group               0\n",
       "quantity_group              0\n",
       "source_class                0\n",
       "waterpoint_type_group       0\n",
       "age                         0\n",
       "dtype: int64"
      ]
     },
     "execution_count": 40,
     "metadata": {},
     "output_type": "execute_result"
    }
   ],
   "source": [
    "X_train.isnull().sum()"
   ]
  },
  {
   "cell_type": "code",
   "execution_count": 41,
   "id": "b940a83e",
   "metadata": {},
   "outputs": [],
   "source": [
    "# encode the target label\n",
    "le = LabelEncoder()\n",
    "y_train = le.fit_transform(y_train)\n",
    "y_test = le.transform(y_test)"
   ]
  },
  {
   "cell_type": "code",
   "execution_count": 42,
   "id": "82c3c838",
   "metadata": {},
   "outputs": [
    {
     "data": {
      "text/plain": [
       "{'functional': 0, 'functional needs repair': 1, 'non functional': 2}"
      ]
     },
     "execution_count": 42,
     "metadata": {},
     "output_type": "execute_result"
    }
   ],
   "source": [
    "# get mapping for each label\n",
    "le_name_mapping = dict(zip(le.classes_, le.transform(le.classes_)))\n",
    "le_name_mapping"
   ]
  },
  {
   "attachments": {},
   "cell_type": "markdown",
   "id": "895d1ed7",
   "metadata": {},
   "source": [
    "### Baseline Models"
   ]
  },
  {
   "cell_type": "code",
   "execution_count": 26,
   "id": "995200eb",
   "metadata": {},
   "outputs": [],
   "source": [
    "# train a dummy classifier\n",
    "dummy_clf = DummyClassifier(strategy=\"uniform\", random_state=42)\n",
    "dummy_clf.fit(X_train, y_train)\n",
    "\n",
    "y_pred_dummy = dummy_clf.predict(X_test)"
   ]
  },
  {
   "cell_type": "code",
   "execution_count": 27,
   "id": "82d80a39",
   "metadata": {},
   "outputs": [],
   "source": [
    "# Define the column transformer\n",
    "cat_var = [ind for ind, col in enumerate(X_train.columns) if X_train[col].dtypes=='object']\n",
    "num_var = [ind for ind, col in enumerate(X_train.columns) if X_train[col].dtypes in ['int64', 'float64']]\n",
    "\n",
    "# Define column transformer for one-hot encoding categorical features\n",
    "categorical_transformer = Pipeline([\n",
    "    ('imputer', SimpleImputer(strategy='most_frequent')),\n",
    "    ('onehot', OneHotEncoder(handle_unknown='ignore'))\n",
    "])\n",
    "\n",
    "# Define preprocessing pipeline\n",
    "preprocessing_pipeline = ColumnTransformer([\n",
    "    ('cat_transformer', categorical_transformer, cat_var)\n",
    "  # replace missing categorical values with mode and one-hot encode\n",
    "], remainder='passthrough')\n",
    "\n",
    "# Define final pipeline with preprocessing and logistic regression model\n",
    "pipeline_log = Pipeline([\n",
    "    ('preprocessing', preprocessing_pipeline),\n",
    "    ('logistic_regression', LogisticRegression())\n",
    "])\n",
    "\n",
    "pipeline_log.fit(X_train, y_train)\n",
    "y_pred_log = pipeline_log.predict(X_test)"
   ]
  },
  {
   "cell_type": "code",
   "execution_count": 28,
   "id": "896d07fc",
   "metadata": {},
   "outputs": [
    {
     "name": "stdout",
     "output_type": "stream",
     "text": [
      "F2 score of dummy classifier: 0.32895622895622895\n",
      "F2 score of logistic regression classifier: 0.6836139169472503\n"
     ]
    }
   ],
   "source": [
    "f2_score_dummy = fbeta_score(y_test, y_pred_dummy, average='micro', beta=2)\n",
    "f2_score_log = fbeta_score(y_test, y_pred_log, average='micro', beta=2)\n",
    "\n",
    "print(f'F2 score of dummy classifier: {f2_score_dummy}')\n",
    "print(f'F2 score of logistic regression classifier: {f2_score_log}')"
   ]
  },
  {
   "attachments": {},
   "cell_type": "markdown",
   "id": "42193880",
   "metadata": {},
   "source": [
    "### CatBoost Model"
   ]
  },
  {
   "cell_type": "code",
   "execution_count": 29,
   "id": "4c607cb8",
   "metadata": {},
   "outputs": [],
   "source": [
    "# create a f2 score metric for hyperparameter tuning\n",
    "def f2_score(y_true, y_pred):\n",
    "    return fbeta_score(y_true, y_pred, beta=2, average='weighted')\n",
    "f2_scorer = make_scorer(f2_score)"
   ]
  },
  {
   "cell_type": "code",
   "execution_count": 30,
   "id": "2c5092cc",
   "metadata": {},
   "outputs": [
    {
     "name": "stderr",
     "output_type": "stream",
     "text": [
      "\u001b[32m[I 2023-05-07 21:35:20,220]\u001b[0m A new study created in memory with name: no-name-17a738ff-fd3a-40e9-b939-659b8fd802bd\u001b[0m\n",
      "\u001b[32m[I 2023-05-07 21:40:44,091]\u001b[0m Trial 0 finished with value: 0.7430014430014431 and parameters: {'learning_rate': 0.011620759671932275, 'iterations': 1000, 'depth': 6}. Best is trial 0 with value: 0.7430014430014431.\u001b[0m\n",
      "\u001b[32m[I 2023-05-07 21:43:04,506]\u001b[0m Trial 1 finished with value: 0.7401875901875902 and parameters: {'learning_rate': 0.024397983989308272, 'iterations': 700, 'depth': 4}. Best is trial 0 with value: 0.7430014430014431.\u001b[0m\n",
      "\u001b[32m[I 2023-05-07 21:46:33,558]\u001b[0m Trial 2 finished with value: 0.7160894660894662 and parameters: {'learning_rate': 0.0023029225834446856, 'iterations': 600, 'depth': 6}. Best is trial 0 with value: 0.7430014430014431.\u001b[0m\n",
      "\u001b[32m[I 2023-05-07 21:51:55,532]\u001b[0m Trial 3 finished with value: 0.7502886002886003 and parameters: {'learning_rate': 0.014636000173060711, 'iterations': 700, 'depth': 8}. Best is trial 3 with value: 0.7502886002886003.\u001b[0m\n",
      "\u001b[32m[I 2023-05-07 21:57:18,825]\u001b[0m Trial 4 finished with value: 0.7697450697450697 and parameters: {'learning_rate': 0.07654780816436238, 'iterations': 1000, 'depth': 7}. Best is trial 4 with value: 0.7697450697450697.\u001b[0m\n",
      "\u001b[32m[I 2023-05-07 22:00:32,704]\u001b[0m Trial 5 finished with value: 0.7677008177008178 and parameters: {'learning_rate': 0.09925132560039507, 'iterations': 600, 'depth': 7}. Best is trial 4 with value: 0.7697450697450697.\u001b[0m\n",
      "\u001b[32m[I 2023-05-07 22:02:48,032]\u001b[0m Trial 6 finished with value: 0.7501683501683503 and parameters: {'learning_rate': 0.03435815905026918, 'iterations': 300, 'depth': 8}. Best is trial 4 with value: 0.7697450697450697.\u001b[0m\n",
      "\u001b[32m[I 2023-05-07 22:15:34,555]\u001b[0m Trial 7 finished with value: 0.7648869648869648 and parameters: {'learning_rate': 0.016950095418415887, 'iterations': 900, 'depth': 10}. Best is trial 4 with value: 0.7697450697450697.\u001b[0m\n",
      "\u001b[32m[I 2023-05-07 22:23:37,622]\u001b[0m Trial 8 finished with value: 0.7668590668590669 and parameters: {'learning_rate': 0.035498187476125695, 'iterations': 1000, 'depth': 8}. Best is trial 4 with value: 0.7697450697450697.\u001b[0m\n",
      "\u001b[32m[I 2023-05-07 22:29:12,448]\u001b[0m Trial 9 finished with value: 0.7538720538720538 and parameters: {'learning_rate': 0.019294264925696292, 'iterations': 700, 'depth': 8}. Best is trial 4 with value: 0.7697450697450697.\u001b[0m\n",
      "\u001b[32m[I 2023-05-07 22:29:23,416]\u001b[0m Trial 10 finished with value: 0.7255651755651756 and parameters: {'learning_rate': 0.06903180060301539, 'iterations': 100, 'depth': 4}. Best is trial 4 with value: 0.7697450697450697.\u001b[0m\n",
      "\u001b[32m[I 2023-05-07 22:31:00,843]\u001b[0m Trial 11 finished with value: 0.758008658008658 and parameters: {'learning_rate': 0.09207534843633088, 'iterations': 400, 'depth': 6}. Best is trial 4 with value: 0.7697450697450697.\u001b[0m\n",
      "\u001b[32m[I 2023-05-07 22:36:43,714]\u001b[0m Trial 12 finished with value: 0.7734968734968736 and parameters: {'learning_rate': 0.09113700204371379, 'iterations': 400, 'depth': 10}. Best is trial 12 with value: 0.7734968734968736.\u001b[0m\n",
      "\u001b[32m[I 2023-05-07 22:42:10,424]\u001b[0m Trial 13 finished with value: 0.7707311207311207 and parameters: {'learning_rate': 0.0752572547654479, 'iterations': 400, 'depth': 10}. Best is trial 12 with value: 0.7734968734968736.\u001b[0m\n",
      "\u001b[32m[I 2023-05-07 22:46:42,408]\u001b[0m Trial 14 finished with value: 0.7668590668590669 and parameters: {'learning_rate': 0.06198864414409231, 'iterations': 300, 'depth': 10}. Best is trial 12 with value: 0.7734968734968736.\u001b[0m\n",
      "\u001b[32m[I 2023-05-07 22:54:09,850]\u001b[0m Trial 15 finished with value: 0.772077922077922 and parameters: {'learning_rate': 0.08360760371090128, 'iterations': 400, 'depth': 10}. Best is trial 12 with value: 0.7734968734968736.\u001b[0m\n",
      "\u001b[32m[I 2023-05-07 22:54:50,488]\u001b[0m Trial 16 finished with value: 0.750937950937951 and parameters: {'learning_rate': 0.08696634922286099, 'iterations': 100, 'depth': 9}. Best is trial 12 with value: 0.7734968734968736.\u001b[0m\n",
      "\u001b[32m[I 2023-05-07 22:59:10,098]\u001b[0m Trial 17 finished with value: 0.7652958152958153 and parameters: {'learning_rate': 0.05370173700139331, 'iterations': 400, 'depth': 9}. Best is trial 12 with value: 0.7734968734968736.\u001b[0m\n",
      "\u001b[32m[I 2023-05-07 23:01:08,723]\u001b[0m Trial 18 finished with value: 0.7626984126984127 and parameters: {'learning_rate': 0.08456875038402378, 'iterations': 200, 'depth': 9}. Best is trial 12 with value: 0.7734968734968736.\u001b[0m\n",
      "\u001b[32m[I 2023-05-07 23:08:00,101]\u001b[0m Trial 19 finished with value: 0.7737854737854738 and parameters: {'learning_rate': 0.09997254216209035, 'iterations': 500, 'depth': 10}. Best is trial 19 with value: 0.7737854737854738.\u001b[0m\n",
      "\u001b[32m[I 2023-05-07 23:12:56,545]\u001b[0m Trial 20 finished with value: 0.7727032227032228 and parameters: {'learning_rate': 0.09958159378618128, 'iterations': 500, 'depth': 9}. Best is trial 19 with value: 0.7737854737854738.\u001b[0m\n",
      "\u001b[32m[I 2023-05-07 23:17:57,582]\u001b[0m Trial 21 finished with value: 0.7721019721019721 and parameters: {'learning_rate': 0.09950206704192537, 'iterations': 500, 'depth': 9}. Best is trial 19 with value: 0.7737854737854738.\u001b[0m\n",
      "\u001b[32m[I 2023-05-07 23:24:56,821]\u001b[0m Trial 22 finished with value: 0.7735690235690235 and parameters: {'learning_rate': 0.09438949254808927, 'iterations': 500, 'depth': 10}. Best is trial 19 with value: 0.7737854737854738.\u001b[0m\n",
      "\u001b[32m[I 2023-05-07 23:31:49,911]\u001b[0m Trial 23 finished with value: 0.7741462241462241 and parameters: {'learning_rate': 0.09019231428109026, 'iterations': 500, 'depth': 10}. Best is trial 23 with value: 0.7741462241462241.\u001b[0m\n",
      "\u001b[32m[I 2023-05-07 23:42:47,765]\u001b[0m Trial 24 finished with value: 0.7752765752765752 and parameters: {'learning_rate': 0.0772883549996839, 'iterations': 800, 'depth': 10}. Best is trial 24 with value: 0.7752765752765752.\u001b[0m\n",
      "\u001b[32m[I 2023-05-07 23:51:44,617]\u001b[0m Trial 25 finished with value: 0.7737133237133237 and parameters: {'learning_rate': 0.08131816709287913, 'iterations': 900, 'depth': 9}. Best is trial 24 with value: 0.7752765752765752.\u001b[0m\n",
      "\u001b[32m[I 2023-05-08 00:02:44,991]\u001b[0m Trial 26 finished with value: 0.7752525252525252 and parameters: {'learning_rate': 0.07132394010430188, 'iterations': 800, 'depth': 10}. Best is trial 24 with value: 0.7752765752765752.\u001b[0m\n",
      "\u001b[32m[I 2023-05-08 00:10:41,039]\u001b[0m Trial 27 finished with value: 0.7735690235690237 and parameters: {'learning_rate': 0.06604662929055008, 'iterations': 800, 'depth': 9}. Best is trial 24 with value: 0.7752765752765752.\u001b[0m\n",
      "\u001b[32m[I 2023-05-08 00:21:42,156]\u001b[0m Trial 28 finished with value: 0.773977873977874 and parameters: {'learning_rate': 0.058934581899168156, 'iterations': 800, 'depth': 10}. Best is trial 24 with value: 0.7752765752765752.\u001b[0m\n",
      "\u001b[32m[I 2023-05-08 00:24:12,072]\u001b[0m Trial 29 finished with value: 0.7569504569504569 and parameters: {'learning_rate': 0.07204713971228721, 'iterations': 800, 'depth': 5}. Best is trial 24 with value: 0.7752765752765752.\u001b[0m\n",
      "\u001b[32m[I 2023-05-08 00:31:02,873]\u001b[0m Trial 30 finished with value: 0.7735449735449734 and parameters: {'learning_rate': 0.07940901389195669, 'iterations': 900, 'depth': 8}. Best is trial 24 with value: 0.7752765752765752.\u001b[0m\n",
      "\u001b[32m[I 2023-05-08 00:41:58,811]\u001b[0m Trial 31 finished with value: 0.7727994227994227 and parameters: {'learning_rate': 0.058090477387478405, 'iterations': 800, 'depth': 10}. Best is trial 24 with value: 0.7752765752765752.\u001b[0m\n",
      "\u001b[32m[I 2023-05-08 00:51:48,511]\u001b[0m Trial 32 finished with value: 0.7746993746993747 and parameters: {'learning_rate': 0.06687170082874758, 'iterations': 700, 'depth': 10}. Best is trial 24 with value: 0.7752765752765752.\u001b[0m\n",
      "\u001b[32m[I 2023-05-08 00:57:45,358]\u001b[0m Trial 33 finished with value: 0.7722222222222223 and parameters: {'learning_rate': 0.06991681433605718, 'iterations': 600, 'depth': 9}. Best is trial 24 with value: 0.7752765752765752.\u001b[0m\n",
      "\u001b[32m[I 2023-05-08 01:07:27,467]\u001b[0m Trial 34 finished with value: 0.773977873977874 and parameters: {'learning_rate': 0.07800178715033716, 'iterations': 700, 'depth': 10}. Best is trial 24 with value: 0.7752765752765752.\u001b[0m\n",
      "\u001b[32m[I 2023-05-08 01:14:22,568]\u001b[0m Trial 35 finished with value: 0.7739297739297739 and parameters: {'learning_rate': 0.06533351949022176, 'iterations': 700, 'depth': 9}. Best is trial 24 with value: 0.7752765752765752.\u001b[0m\n",
      "\u001b[32m[I 2023-05-08 01:22:38,219]\u001b[0m Trial 36 finished with value: 0.7732082732082732 and parameters: {'learning_rate': 0.07350393715027519, 'iterations': 600, 'depth': 10}. Best is trial 24 with value: 0.7752765752765752.\u001b[0m\n",
      "\u001b[32m[I 2023-05-08 01:26:18,991]\u001b[0m Trial 37 finished with value: 0.7671236171236172 and parameters: {'learning_rate': 0.07739967661319869, 'iterations': 700, 'depth': 7}. Best is trial 24 with value: 0.7752765752765752.\u001b[0m\n",
      "\u001b[32m[I 2023-05-08 01:38:46,227]\u001b[0m Trial 38 finished with value: 0.7746753246753246 and parameters: {'learning_rate': 0.047553094342782806, 'iterations': 900, 'depth': 10}. Best is trial 24 with value: 0.7752765752765752.\u001b[0m\n",
      "\u001b[32m[I 2023-05-08 01:44:02,887]\u001b[0m Trial 39 finished with value: 0.7649110149110149 and parameters: {'learning_rate': 0.040980371846526024, 'iterations': 1000, 'depth': 7}. Best is trial 24 with value: 0.7752765752765752.\u001b[0m\n",
      "\u001b[32m[I 2023-05-08 01:51:06,376]\u001b[0m Trial 40 finished with value: 0.7699374699374699 and parameters: {'learning_rate': 0.049096100856751534, 'iterations': 900, 'depth': 8}. Best is trial 24 with value: 0.7752765752765752.\u001b[0m\n",
      "\u001b[32m[I 2023-05-08 02:02:02,663]\u001b[0m Trial 41 finished with value: 0.773953823953824 and parameters: {'learning_rate': 0.08706911556342616, 'iterations': 800, 'depth': 10}. Best is trial 24 with value: 0.7752765752765752.\u001b[0m\n",
      "\u001b[32m[I 2023-05-08 02:14:23,260]\u001b[0m Trial 42 finished with value: 0.7747715247715249 and parameters: {'learning_rate': 0.06934587439327534, 'iterations': 900, 'depth': 10}. Best is trial 24 with value: 0.7752765752765752.\u001b[0m\n",
      "\u001b[32m[I 2023-05-08 02:23:27,095]\u001b[0m Trial 43 finished with value: 0.7733285233285233 and parameters: {'learning_rate': 0.06559346688058519, 'iterations': 900, 'depth': 9}. Best is trial 24 with value: 0.7752765752765752.\u001b[0m\n",
      "\u001b[32m[I 2023-05-08 02:37:22,657]\u001b[0m Trial 44 finished with value: 0.7747715247715248 and parameters: {'learning_rate': 0.07120647110526379, 'iterations': 1000, 'depth': 10}. Best is trial 24 with value: 0.7752765752765752.\u001b[0m\n",
      "\u001b[32m[I 2023-05-08 02:51:19,067]\u001b[0m Trial 45 finished with value: 0.7758537758537759 and parameters: {'learning_rate': 0.07241240528004583, 'iterations': 1000, 'depth': 10}. Best is trial 45 with value: 0.7758537758537759.\u001b[0m\n",
      "\u001b[32m[I 2023-05-08 02:54:27,778]\u001b[0m Trial 46 finished with value: 0.7591149591149592 and parameters: {'learning_rate': 0.07265892239119716, 'iterations': 1000, 'depth': 5}. Best is trial 45 with value: 0.7758537758537759.\u001b[0m\n",
      "\u001b[32m[I 2023-05-08 03:04:36,314]\u001b[0m Trial 47 finished with value: 0.7750360750360751 and parameters: {'learning_rate': 0.075417908976412, 'iterations': 1000, 'depth': 9}. Best is trial 45 with value: 0.7758537758537759.\u001b[0m\n",
      "\u001b[32m[I 2023-05-08 03:14:35,150]\u001b[0m Trial 48 finished with value: 0.776046176046176 and parameters: {'learning_rate': 0.08009488913332573, 'iterations': 1000, 'depth': 9}. Best is trial 48 with value: 0.776046176046176.\u001b[0m\n",
      "\u001b[32m[I 2023-05-08 03:22:16,221]\u001b[0m Trial 49 finished with value: 0.7730158730158729 and parameters: {'learning_rate': 0.0790557616808524, 'iterations': 1000, 'depth': 8}. Best is trial 48 with value: 0.776046176046176.\u001b[0m\n"
     ]
    }
   ],
   "source": [
    "\n",
    "def objective(trial):\n",
    "    # Define the hyperparameters to optimize\n",
    "    params = {\n",
    "        'learning_rate': trial.suggest_uniform('learning_rate', 0.001, 0.1),\n",
    "        'iterations': trial.suggest_int('iterations', 100, 1000, step=100),\n",
    "        'depth': trial.suggest_int('depth', 4, 10)\n",
    "    }\n",
    "\n",
    "    cat_cols = X_train.select_dtypes(include=['object']).columns.tolist()\n",
    "    cat_indices = [i for i, col in enumerate(X_train.columns) if X_train[col].dtypes =='object']\n",
    "    num_cols = X_train.select_dtypes(include=['int64', 'float64']).columns.tolist()\n",
    "    # Get list of columns with missing values\n",
    "    cols_with_missing = df.columns[df.isna().any()].tolist()\n",
    "\n",
    "\n",
    "    # set up the wrapper with the SimpleImputer\n",
    "    imputer = SklearnTransformerWrapper(transformer = SimpleImputer(strategy='most_frequent'),\n",
    "                                        variables = cols_with_missing)\n",
    "\n",
    "    scaler = SklearnTransformerWrapper(transformer=StandardScaler(),\n",
    "                                    variables=num_cols)\n",
    "\n",
    "\n",
    "    pipeline_cbc = Pipeline(steps=[('impute', imputer),\n",
    "                            ('scaler', scaler),\n",
    "                            ('rare_label', RareLabelEncoder(replace_with='Other', n_categories=10, variables=cat_cols)),\n",
    "                            ('catboost', CatBoostClassifier(**params, verbose=False, cat_features=cat_indices, early_stopping_rounds=50))\n",
    "                                ])\n",
    "    \n",
    "    # Define cross-validation method\n",
    "    sfk = StratifiedKFold(n_splits=3, shuffle=True, random_state=42)\n",
    "    y_train_df = pd.Series(y_train)\n",
    "\n",
    "     # Train and evaluate model using f1_score\n",
    "    f2_scores = []\n",
    "    for train_idx, test_idx in sfk.split(X_train, y_train_df):\n",
    "        X_train_split, X_valid_split = X_train.iloc[train_idx], X_train.iloc[test_idx]\n",
    "        y_train_split, y_valid_split = y_train_df.iloc[train_idx], y_train_df.iloc[test_idx]\n",
    "\n",
    "        pipeline_cbc.fit(X_train_split, y_train_split)\n",
    "        y_pred = pipeline_cbc.predict(X_valid_split)\n",
    "\n",
    "        f2_scores.append(fbeta_score(y_valid_split, y_pred, beta=2, average='micro'))\n",
    "\n",
    "    return np.mean(f2_scores)\n",
    "\n",
    "study = optuna.create_study(direction='maximize')\n",
    "study.optimize(objective, n_trials=50)"
   ]
  },
  {
   "cell_type": "code",
   "execution_count": 31,
   "id": "eb123385",
   "metadata": {},
   "outputs": [
    {
     "data": {
      "text/html": [
       "<style>#sk-container-id-1 {color: black;background-color: white;}#sk-container-id-1 pre{padding: 0;}#sk-container-id-1 div.sk-toggleable {background-color: white;}#sk-container-id-1 label.sk-toggleable__label {cursor: pointer;display: block;width: 100%;margin-bottom: 0;padding: 0.3em;box-sizing: border-box;text-align: center;}#sk-container-id-1 label.sk-toggleable__label-arrow:before {content: \"▸\";float: left;margin-right: 0.25em;color: #696969;}#sk-container-id-1 label.sk-toggleable__label-arrow:hover:before {color: black;}#sk-container-id-1 div.sk-estimator:hover label.sk-toggleable__label-arrow:before {color: black;}#sk-container-id-1 div.sk-toggleable__content {max-height: 0;max-width: 0;overflow: hidden;text-align: left;background-color: #f0f8ff;}#sk-container-id-1 div.sk-toggleable__content pre {margin: 0.2em;color: black;border-radius: 0.25em;background-color: #f0f8ff;}#sk-container-id-1 input.sk-toggleable__control:checked~div.sk-toggleable__content {max-height: 200px;max-width: 100%;overflow: auto;}#sk-container-id-1 input.sk-toggleable__control:checked~label.sk-toggleable__label-arrow:before {content: \"▾\";}#sk-container-id-1 div.sk-estimator input.sk-toggleable__control:checked~label.sk-toggleable__label {background-color: #d4ebff;}#sk-container-id-1 div.sk-label input.sk-toggleable__control:checked~label.sk-toggleable__label {background-color: #d4ebff;}#sk-container-id-1 input.sk-hidden--visually {border: 0;clip: rect(1px 1px 1px 1px);clip: rect(1px, 1px, 1px, 1px);height: 1px;margin: -1px;overflow: hidden;padding: 0;position: absolute;width: 1px;}#sk-container-id-1 div.sk-estimator {font-family: monospace;background-color: #f0f8ff;border: 1px dotted black;border-radius: 0.25em;box-sizing: border-box;margin-bottom: 0.5em;}#sk-container-id-1 div.sk-estimator:hover {background-color: #d4ebff;}#sk-container-id-1 div.sk-parallel-item::after {content: \"\";width: 100%;border-bottom: 1px solid gray;flex-grow: 1;}#sk-container-id-1 div.sk-label:hover label.sk-toggleable__label {background-color: #d4ebff;}#sk-container-id-1 div.sk-serial::before {content: \"\";position: absolute;border-left: 1px solid gray;box-sizing: border-box;top: 0;bottom: 0;left: 50%;z-index: 0;}#sk-container-id-1 div.sk-serial {display: flex;flex-direction: column;align-items: center;background-color: white;padding-right: 0.2em;padding-left: 0.2em;position: relative;}#sk-container-id-1 div.sk-item {position: relative;z-index: 1;}#sk-container-id-1 div.sk-parallel {display: flex;align-items: stretch;justify-content: center;background-color: white;position: relative;}#sk-container-id-1 div.sk-item::before, #sk-container-id-1 div.sk-parallel-item::before {content: \"\";position: absolute;border-left: 1px solid gray;box-sizing: border-box;top: 0;bottom: 0;left: 50%;z-index: -1;}#sk-container-id-1 div.sk-parallel-item {display: flex;flex-direction: column;z-index: 1;position: relative;background-color: white;}#sk-container-id-1 div.sk-parallel-item:first-child::after {align-self: flex-end;width: 50%;}#sk-container-id-1 div.sk-parallel-item:last-child::after {align-self: flex-start;width: 50%;}#sk-container-id-1 div.sk-parallel-item:only-child::after {width: 0;}#sk-container-id-1 div.sk-dashed-wrapped {border: 1px dashed gray;margin: 0 0.4em 0.5em 0.4em;box-sizing: border-box;padding-bottom: 0.4em;background-color: white;}#sk-container-id-1 div.sk-label label {font-family: monospace;font-weight: bold;display: inline-block;line-height: 1.2em;}#sk-container-id-1 div.sk-label-container {text-align: center;}#sk-container-id-1 div.sk-container {/* jupyter's `normalize.less` sets `[hidden] { display: none; }` but bootstrap.min.css set `[hidden] { display: none !important; }` so we also need the `!important` here to be able to override the default hidden behavior on the sphinx rendered scikit-learn.org. See: https://github.com/scikit-learn/scikit-learn/issues/21755 */display: inline-block !important;position: relative;}#sk-container-id-1 div.sk-text-repr-fallback {display: none;}</style><div id=\"sk-container-id-1\" class=\"sk-top-container\"><div class=\"sk-text-repr-fallback\"><pre>Pipeline(steps=[(&#x27;impute&#x27;,\n",
       "                 SklearnTransformerWrapper(transformer=SimpleImputer(strategy=&#x27;most_frequent&#x27;),\n",
       "                                           variables=[&#x27;funder&#x27;, &#x27;installer&#x27;,\n",
       "                                                      &#x27;public_meeting&#x27;,\n",
       "                                                      &#x27;scheme_management&#x27;,\n",
       "                                                      &#x27;permit&#x27;])),\n",
       "                (&#x27;scaler&#x27;,\n",
       "                 SklearnTransformerWrapper(transformer=StandardScaler(),\n",
       "                                           variables=[&#x27;amount_tsh&#x27;,\n",
       "                                                      &#x27;gps_height&#x27;,\n",
       "                                                      &#x27;population&#x27;, &#x27;age&#x27;])),\n",
       "                (&#x27;rare_label&#x27;,\n",
       "                 RareLabelEncoder(replace_with=&#x27;Unknown&#x27;,\n",
       "                                  variables=[&#x27;funder&#x27;, &#x27;installer&#x27;, &#x27;basin&#x27;,\n",
       "                                             &#x27;region&#x27;, &#x27;public_meeting&#x27;,\n",
       "                                             &#x27;scheme_management&#x27;, &#x27;permit&#x27;,\n",
       "                                             &#x27;extraction_type_class&#x27;,\n",
       "                                             &#x27;management_group&#x27;, &#x27;payment_type&#x27;,\n",
       "                                             &#x27;quality_group&#x27;, &#x27;quantity_group&#x27;,\n",
       "                                             &#x27;source_class&#x27;,\n",
       "                                             &#x27;waterpoint_type_group&#x27;])),\n",
       "                (&#x27;catboost&#x27;,\n",
       "                 &lt;catboost.core.CatBoostClassifier object at 0x000002403E1AEC70&gt;)])</pre><b>In a Jupyter environment, please rerun this cell to show the HTML representation or trust the notebook. <br />On GitHub, the HTML representation is unable to render, please try loading this page with nbviewer.org.</b></div><div class=\"sk-container\" hidden><div class=\"sk-item sk-dashed-wrapped\"><div class=\"sk-label-container\"><div class=\"sk-label sk-toggleable\"><input class=\"sk-toggleable__control sk-hidden--visually\" id=\"sk-estimator-id-1\" type=\"checkbox\" ><label for=\"sk-estimator-id-1\" class=\"sk-toggleable__label sk-toggleable__label-arrow\">Pipeline</label><div class=\"sk-toggleable__content\"><pre>Pipeline(steps=[(&#x27;impute&#x27;,\n",
       "                 SklearnTransformerWrapper(transformer=SimpleImputer(strategy=&#x27;most_frequent&#x27;),\n",
       "                                           variables=[&#x27;funder&#x27;, &#x27;installer&#x27;,\n",
       "                                                      &#x27;public_meeting&#x27;,\n",
       "                                                      &#x27;scheme_management&#x27;,\n",
       "                                                      &#x27;permit&#x27;])),\n",
       "                (&#x27;scaler&#x27;,\n",
       "                 SklearnTransformerWrapper(transformer=StandardScaler(),\n",
       "                                           variables=[&#x27;amount_tsh&#x27;,\n",
       "                                                      &#x27;gps_height&#x27;,\n",
       "                                                      &#x27;population&#x27;, &#x27;age&#x27;])),\n",
       "                (&#x27;rare_label&#x27;,\n",
       "                 RareLabelEncoder(replace_with=&#x27;Unknown&#x27;,\n",
       "                                  variables=[&#x27;funder&#x27;, &#x27;installer&#x27;, &#x27;basin&#x27;,\n",
       "                                             &#x27;region&#x27;, &#x27;public_meeting&#x27;,\n",
       "                                             &#x27;scheme_management&#x27;, &#x27;permit&#x27;,\n",
       "                                             &#x27;extraction_type_class&#x27;,\n",
       "                                             &#x27;management_group&#x27;, &#x27;payment_type&#x27;,\n",
       "                                             &#x27;quality_group&#x27;, &#x27;quantity_group&#x27;,\n",
       "                                             &#x27;source_class&#x27;,\n",
       "                                             &#x27;waterpoint_type_group&#x27;])),\n",
       "                (&#x27;catboost&#x27;,\n",
       "                 &lt;catboost.core.CatBoostClassifier object at 0x000002403E1AEC70&gt;)])</pre></div></div></div><div class=\"sk-serial\"><div class=\"sk-item sk-dashed-wrapped\"><div class=\"sk-label-container\"><div class=\"sk-label sk-toggleable\"><input class=\"sk-toggleable__control sk-hidden--visually\" id=\"sk-estimator-id-2\" type=\"checkbox\" ><label for=\"sk-estimator-id-2\" class=\"sk-toggleable__label sk-toggleable__label-arrow\">impute: SklearnTransformerWrapper</label><div class=\"sk-toggleable__content\"><pre>SklearnTransformerWrapper(transformer=SimpleImputer(strategy=&#x27;most_frequent&#x27;),\n",
       "                          variables=[&#x27;funder&#x27;, &#x27;installer&#x27;, &#x27;public_meeting&#x27;,\n",
       "                                     &#x27;scheme_management&#x27;, &#x27;permit&#x27;])</pre></div></div></div><div class=\"sk-parallel\"><div class=\"sk-parallel-item\"><div class=\"sk-item\"><div class=\"sk-label-container\"><div class=\"sk-label sk-toggleable\"><input class=\"sk-toggleable__control sk-hidden--visually\" id=\"sk-estimator-id-3\" type=\"checkbox\" ><label for=\"sk-estimator-id-3\" class=\"sk-toggleable__label sk-toggleable__label-arrow\">transformer: SimpleImputer</label><div class=\"sk-toggleable__content\"><pre>SimpleImputer(strategy=&#x27;most_frequent&#x27;)</pre></div></div></div><div class=\"sk-serial\"><div class=\"sk-item\"><div class=\"sk-estimator sk-toggleable\"><input class=\"sk-toggleable__control sk-hidden--visually\" id=\"sk-estimator-id-4\" type=\"checkbox\" ><label for=\"sk-estimator-id-4\" class=\"sk-toggleable__label sk-toggleable__label-arrow\">SimpleImputer</label><div class=\"sk-toggleable__content\"><pre>SimpleImputer(strategy=&#x27;most_frequent&#x27;)</pre></div></div></div></div></div></div></div></div><div class=\"sk-item sk-dashed-wrapped\"><div class=\"sk-label-container\"><div class=\"sk-label sk-toggleable\"><input class=\"sk-toggleable__control sk-hidden--visually\" id=\"sk-estimator-id-5\" type=\"checkbox\" ><label for=\"sk-estimator-id-5\" class=\"sk-toggleable__label sk-toggleable__label-arrow\">scaler: SklearnTransformerWrapper</label><div class=\"sk-toggleable__content\"><pre>SklearnTransformerWrapper(transformer=StandardScaler(),\n",
       "                          variables=[&#x27;amount_tsh&#x27;, &#x27;gps_height&#x27;, &#x27;population&#x27;,\n",
       "                                     &#x27;age&#x27;])</pre></div></div></div><div class=\"sk-parallel\"><div class=\"sk-parallel-item\"><div class=\"sk-item\"><div class=\"sk-label-container\"><div class=\"sk-label sk-toggleable\"><input class=\"sk-toggleable__control sk-hidden--visually\" id=\"sk-estimator-id-6\" type=\"checkbox\" ><label for=\"sk-estimator-id-6\" class=\"sk-toggleable__label sk-toggleable__label-arrow\">transformer: StandardScaler</label><div class=\"sk-toggleable__content\"><pre>StandardScaler()</pre></div></div></div><div class=\"sk-serial\"><div class=\"sk-item\"><div class=\"sk-estimator sk-toggleable\"><input class=\"sk-toggleable__control sk-hidden--visually\" id=\"sk-estimator-id-7\" type=\"checkbox\" ><label for=\"sk-estimator-id-7\" class=\"sk-toggleable__label sk-toggleable__label-arrow\">StandardScaler</label><div class=\"sk-toggleable__content\"><pre>StandardScaler()</pre></div></div></div></div></div></div></div></div><div class=\"sk-item\"><div class=\"sk-estimator sk-toggleable\"><input class=\"sk-toggleable__control sk-hidden--visually\" id=\"sk-estimator-id-8\" type=\"checkbox\" ><label for=\"sk-estimator-id-8\" class=\"sk-toggleable__label sk-toggleable__label-arrow\">RareLabelEncoder</label><div class=\"sk-toggleable__content\"><pre>RareLabelEncoder(replace_with=&#x27;Unknown&#x27;,\n",
       "                 variables=[&#x27;funder&#x27;, &#x27;installer&#x27;, &#x27;basin&#x27;, &#x27;region&#x27;,\n",
       "                            &#x27;public_meeting&#x27;, &#x27;scheme_management&#x27;, &#x27;permit&#x27;,\n",
       "                            &#x27;extraction_type_class&#x27;, &#x27;management_group&#x27;,\n",
       "                            &#x27;payment_type&#x27;, &#x27;quality_group&#x27;, &#x27;quantity_group&#x27;,\n",
       "                            &#x27;source_class&#x27;, &#x27;waterpoint_type_group&#x27;])</pre></div></div></div><div class=\"sk-item\"><div class=\"sk-estimator sk-toggleable\"><input class=\"sk-toggleable__control sk-hidden--visually\" id=\"sk-estimator-id-9\" type=\"checkbox\" ><label for=\"sk-estimator-id-9\" class=\"sk-toggleable__label sk-toggleable__label-arrow\">CatBoostClassifier</label><div class=\"sk-toggleable__content\"><pre>&lt;catboost.core.CatBoostClassifier object at 0x000002403E1AEC70&gt;</pre></div></div></div></div></div></div></div>"
      ],
      "text/plain": [
       "Pipeline(steps=[('impute',\n",
       "                 SklearnTransformerWrapper(transformer=SimpleImputer(strategy='most_frequent'),\n",
       "                                           variables=['funder', 'installer',\n",
       "                                                      'public_meeting',\n",
       "                                                      'scheme_management',\n",
       "                                                      'permit'])),\n",
       "                ('scaler',\n",
       "                 SklearnTransformerWrapper(transformer=StandardScaler(),\n",
       "                                           variables=['amount_tsh',\n",
       "                                                      'gps_height',\n",
       "                                                      'population', 'age'])),\n",
       "                ('rare_label',\n",
       "                 RareLabelEncoder(replace_with='Unknown',\n",
       "                                  variables=['funder', 'installer', 'basin',\n",
       "                                             'region', 'public_meeting',\n",
       "                                             'scheme_management', 'permit',\n",
       "                                             'extraction_type_class',\n",
       "                                             'management_group', 'payment_type',\n",
       "                                             'quality_group', 'quantity_group',\n",
       "                                             'source_class',\n",
       "                                             'waterpoint_type_group'])),\n",
       "                ('catboost',\n",
       "                 <catboost.core.CatBoostClassifier object at 0x000002403E1AEC70>)])"
      ]
     },
     "execution_count": 31,
     "metadata": {},
     "output_type": "execute_result"
    }
   ],
   "source": [
    "best_params = study.best_params\n",
    "# perform one hot encoding on the categorical features\n",
    "\n",
    "cat_cols = X_train.select_dtypes(include=['object']).columns.tolist()\n",
    "cat_indices = [i for i, col in enumerate(X_train.columns) if X_train[col].dtypes =='object']\n",
    "num_cols = X_train.select_dtypes(include=['int64', 'float64']).columns.tolist()\n",
    "\n",
    "# Get list of columns with missing values\n",
    "cols_with_missing = df.columns[df.isna().any()].tolist()\n",
    "\n",
    "# sspecify columns for imputer\n",
    "imputer = SklearnTransformerWrapper(transformer = SimpleImputer(strategy='most_frequent'),\n",
    "                                    variables = cols_with_missing)\n",
    "\n",
    "# specify columns for standard scaler\n",
    "scaler = SklearnTransformerWrapper(transformer=StandardScaler(),\n",
    "                                variables=num_cols)\n",
    "\n",
    "# create pipeline\n",
    "pipeline_cbc = Pipeline(steps=[('impute', SklearnTransformerWrapper(transformer = SimpleImputer(strategy='most_frequent'),\n",
    "                                    variables = cols_with_missing)),\n",
    "                            ('scaler', SklearnTransformerWrapper(transformer=StandardScaler(),\n",
    "                                variables=num_cols)),\n",
    "                            ('rare_label', RareLabelEncoder(replace_with='Unknown', n_categories=10, variables=cat_cols)),\n",
    "                            ('catboost', CatBoostClassifier(**best_params, verbose=False, cat_features=cat_indices, early_stopping_rounds=50))\n",
    "                                ])\n",
    "\n",
    "# fit pipeline\n",
    "pipeline_cbc.fit(X_train, y_train)\n",
    "\n"
   ]
  },
  {
   "cell_type": "code",
   "execution_count": 32,
   "id": "0c781933",
   "metadata": {},
   "outputs": [
    {
     "name": "stdout",
     "output_type": "stream",
     "text": [
      "F2 score of CatBoost Classifier 0.7854096520763187\n"
     ]
    }
   ],
   "source": [
    "#generate predictions\n",
    "y_pred_cbc= pipeline_cbc.predict(X_test)\n",
    "f2_score_cbc = fbeta_score(y_pred_cbc, y_test, beta=2, average='micro')\n",
    "print(f'F2 score of CatBoost Classifier {f2_score_cbc}')"
   ]
  },
  {
   "attachments": {},
   "cell_type": "markdown",
   "id": "39591a86",
   "metadata": {},
   "source": [
    "### LightGBM Clasifier"
   ]
  },
  {
   "cell_type": "code",
   "execution_count": 30,
   "id": "b6ae4b12",
   "metadata": {},
   "outputs": [
    {
     "name": "stderr",
     "output_type": "stream",
     "text": [
      "\u001b[32m[I 2023-05-07 19:28:51,777]\u001b[0m A new study created in memory with name: no-name-9c055099-b724-4ab6-9857-e5b020e3619d\u001b[0m\n",
      "\u001b[32m[I 2023-05-07 19:28:57,071]\u001b[0m Trial 0 finished with value: 0.7480038480038481 and parameters: {'learning_rate': 0.010641457943350977, 'num_leaves': 75, 'max_depth': 8}. Best is trial 0 with value: 0.7480038480038481.\u001b[0m\n",
      "\u001b[32m[I 2023-05-07 19:29:02,270]\u001b[0m Trial 1 finished with value: 0.7712361712361714 and parameters: {'learning_rate': 0.06594652295940988, 'num_leaves': 135, 'max_depth': 8}. Best is trial 1 with value: 0.7712361712361714.\u001b[0m\n",
      "\u001b[32m[I 2023-05-07 19:29:06,287]\u001b[0m Trial 2 finished with value: 0.7672438672438672 and parameters: {'learning_rate': 0.06353046068843841, 'num_leaves': 187, 'max_depth': 7}. Best is trial 1 with value: 0.7712361712361714.\u001b[0m\n",
      "\u001b[32m[I 2023-05-07 19:29:09,391]\u001b[0m Trial 3 finished with value: 0.7637085137085138 and parameters: {'learning_rate': 0.07236602116477306, 'num_leaves': 26, 'max_depth': 9}. Best is trial 1 with value: 0.7712361712361714.\u001b[0m\n",
      "\u001b[32m[I 2023-05-07 19:29:11,664]\u001b[0m Trial 4 finished with value: 0.7459355459355459 and parameters: {'learning_rate': 0.025831578220286033, 'num_leaves': 91, 'max_depth': 4}. Best is trial 1 with value: 0.7712361712361714.\u001b[0m\n",
      "\u001b[32m[I 2023-05-07 19:29:15,248]\u001b[0m Trial 5 finished with value: 0.7586580086580086 and parameters: {'learning_rate': 0.028681788831818565, 'num_leaves': 168, 'max_depth': 6}. Best is trial 1 with value: 0.7712361712361714.\u001b[0m\n",
      "\u001b[32m[I 2023-05-07 19:29:17,222]\u001b[0m Trial 6 finished with value: 0.7575036075036076 and parameters: {'learning_rate': 0.06985607327879469, 'num_leaves': 229, 'max_depth': 4}. Best is trial 1 with value: 0.7712361712361714.\u001b[0m\n",
      "\u001b[32m[I 2023-05-07 19:29:21,986]\u001b[0m Trial 7 finished with value: 0.7608465608465608 and parameters: {'learning_rate': 0.015358227383063139, 'num_leaves': 53, 'max_depth': 12}. Best is trial 1 with value: 0.7712361712361714.\u001b[0m\n",
      "\u001b[32m[I 2023-05-07 19:29:26,485]\u001b[0m Trial 8 finished with value: 0.7743867243867243 and parameters: {'learning_rate': 0.08608578916310825, 'num_leaves': 81, 'max_depth': 11}. Best is trial 8 with value: 0.7743867243867243.\u001b[0m\n",
      "\u001b[32m[I 2023-05-07 19:29:29,613]\u001b[0m Trial 9 finished with value: 0.7644540644540644 and parameters: {'learning_rate': 0.08751824369205125, 'num_leaves': 184, 'max_depth': 6}. Best is trial 8 with value: 0.7743867243867243.\u001b[0m\n",
      "\u001b[32m[I 2023-05-07 19:29:32,041]\u001b[0m Trial 10 finished with value: 0.7612554112554113 and parameters: {'learning_rate': 0.09402021610150257, 'num_leaves': 16, 'max_depth': 12}. Best is trial 8 with value: 0.7743867243867243.\u001b[0m\n",
      "\u001b[32m[I 2023-05-07 19:29:38,303]\u001b[0m Trial 11 finished with value: 0.7758056758056758 and parameters: {'learning_rate': 0.04891587305695276, 'num_leaves': 118, 'max_depth': 10}. Best is trial 11 with value: 0.7758056758056758.\u001b[0m\n",
      "\u001b[32m[I 2023-05-07 19:29:44,507]\u001b[0m Trial 12 finished with value: 0.7756854256854258 and parameters: {'learning_rate': 0.04552244706218306, 'num_leaves': 117, 'max_depth': 10}. Best is trial 11 with value: 0.7758056758056758.\u001b[0m\n",
      "\u001b[32m[I 2023-05-07 19:29:51,986]\u001b[0m Trial 13 finished with value: 0.7740259740259741 and parameters: {'learning_rate': 0.0431881833175066, 'num_leaves': 125, 'max_depth': 10}. Best is trial 11 with value: 0.7758056758056758.\u001b[0m\n",
      "\u001b[32m[I 2023-05-07 19:29:59,746]\u001b[0m Trial 14 finished with value: 0.7766955266955268 and parameters: {'learning_rate': 0.04638282014328291, 'num_leaves': 124, 'max_depth': 10}. Best is trial 14 with value: 0.7766955266955268.\u001b[0m\n",
      "\u001b[32m[I 2023-05-07 19:30:06,345]\u001b[0m Trial 15 finished with value: 0.7769600769600769 and parameters: {'learning_rate': 0.05177913894584424, 'num_leaves': 154, 'max_depth': 10}. Best is trial 15 with value: 0.7769600769600769.\u001b[0m\n",
      "\u001b[32m[I 2023-05-07 19:30:13,395]\u001b[0m Trial 16 finished with value: 0.7746753246753246 and parameters: {'learning_rate': 0.05762560880528165, 'num_leaves': 256, 'max_depth': 9}. Best is trial 15 with value: 0.7769600769600769.\u001b[0m\n",
      "\u001b[32m[I 2023-05-07 19:30:20,649]\u001b[0m Trial 17 finished with value: 0.6844877344877345 and parameters: {'learning_rate': 0.0014341874451495248, 'num_leaves': 155, 'max_depth': 11}. Best is trial 15 with value: 0.7769600769600769.\u001b[0m\n",
      "\u001b[32m[I 2023-05-07 19:30:32,458]\u001b[0m Trial 18 finished with value: 0.7757094757094757 and parameters: {'learning_rate': 0.05489916218480132, 'num_leaves': 209, 'max_depth': 11}. Best is trial 15 with value: 0.7769600769600769.\u001b[0m\n",
      "\u001b[32m[I 2023-05-07 19:30:43,691]\u001b[0m Trial 19 finished with value: 0.774939874939875 and parameters: {'learning_rate': 0.03793279824351546, 'num_leaves': 161, 'max_depth': 9}. Best is trial 15 with value: 0.7769600769600769.\u001b[0m\n",
      "\u001b[32m[I 2023-05-07 19:30:48,960]\u001b[0m Trial 20 finished with value: 0.7677970177970179 and parameters: {'learning_rate': 0.03911408164075818, 'num_leaves': 94, 'max_depth': 7}. Best is trial 15 with value: 0.7769600769600769.\u001b[0m\n",
      "\u001b[32m[I 2023-05-07 19:30:57,257]\u001b[0m Trial 21 finished with value: 0.7768157768157767 and parameters: {'learning_rate': 0.05103976211378046, 'num_leaves': 125, 'max_depth': 10}. Best is trial 15 with value: 0.7769600769600769.\u001b[0m\n",
      "\u001b[32m[I 2023-05-07 19:31:07,645]\u001b[0m Trial 22 finished with value: 0.7757816257816258 and parameters: {'learning_rate': 0.052101245729027024, 'num_leaves': 135, 'max_depth': 10}. Best is trial 15 with value: 0.7769600769600769.\u001b[0m\n",
      "\u001b[32m[I 2023-05-07 19:31:19,199]\u001b[0m Trial 23 finished with value: 0.7780663780663781 and parameters: {'learning_rate': 0.033901460753182275, 'num_leaves': 143, 'max_depth': 11}. Best is trial 23 with value: 0.7780663780663781.\u001b[0m\n",
      "\u001b[32m[I 2023-05-07 19:31:26,762]\u001b[0m Trial 24 finished with value: 0.7784511784511784 and parameters: {'learning_rate': 0.03695707615994629, 'num_leaves': 147, 'max_depth': 12}. Best is trial 24 with value: 0.7784511784511784.\u001b[0m\n",
      "\u001b[32m[I 2023-05-07 19:31:36,568]\u001b[0m Trial 25 finished with value: 0.7810966810966811 and parameters: {'learning_rate': 0.03283294941040322, 'num_leaves': 197, 'max_depth': 12}. Best is trial 25 with value: 0.7810966810966811.\u001b[0m\n",
      "\u001b[32m[I 2023-05-07 19:31:46,029]\u001b[0m Trial 26 finished with value: 0.7805675805675806 and parameters: {'learning_rate': 0.03225989385454742, 'num_leaves': 211, 'max_depth': 12}. Best is trial 25 with value: 0.7810966810966811.\u001b[0m\n",
      "\u001b[32m[I 2023-05-07 19:31:55,482]\u001b[0m Trial 27 finished with value: 0.7791005291005292 and parameters: {'learning_rate': 0.026673503045551432, 'num_leaves': 210, 'max_depth': 12}. Best is trial 25 with value: 0.7810966810966811.\u001b[0m\n",
      "\u001b[32m[I 2023-05-07 19:32:05,461]\u001b[0m Trial 28 finished with value: 0.7788119288119288 and parameters: {'learning_rate': 0.02379622741522706, 'num_leaves': 225, 'max_depth': 12}. Best is trial 25 with value: 0.7810966810966811.\u001b[0m\n",
      "\u001b[32m[I 2023-05-07 19:32:21,095]\u001b[0m Trial 29 finished with value: 0.7744107744107743 and parameters: {'learning_rate': 0.017700538913343826, 'num_leaves': 251, 'max_depth': 12}. Best is trial 25 with value: 0.7810966810966811.\u001b[0m\n",
      "\u001b[32m[I 2023-05-07 19:32:31,155]\u001b[0m Trial 30 finished with value: 0.7768398268398268 and parameters: {'learning_rate': 0.030034506320581876, 'num_leaves': 202, 'max_depth': 11}. Best is trial 25 with value: 0.7810966810966811.\u001b[0m\n",
      "\u001b[32m[I 2023-05-07 19:32:40,568]\u001b[0m Trial 31 finished with value: 0.7774410774410775 and parameters: {'learning_rate': 0.021629365990665665, 'num_leaves': 223, 'max_depth': 12}. Best is trial 25 with value: 0.7810966810966811.\u001b[0m\n",
      "\u001b[32m[I 2023-05-07 19:32:51,353]\u001b[0m Trial 32 finished with value: 0.7794131794131793 and parameters: {'learning_rate': 0.023988918248786475, 'num_leaves': 230, 'max_depth': 12}. Best is trial 25 with value: 0.7810966810966811.\u001b[0m\n",
      "\u001b[32m[I 2023-05-07 19:33:00,148]\u001b[0m Trial 33 finished with value: 0.7775132275132276 and parameters: {'learning_rate': 0.030351809411964047, 'num_leaves': 184, 'max_depth': 11}. Best is trial 25 with value: 0.7810966810966811.\u001b[0m\n",
      "\u001b[32m[I 2023-05-07 19:33:12,841]\u001b[0m Trial 34 finished with value: 0.7748436748436749 and parameters: {'learning_rate': 0.018577137195506493, 'num_leaves': 239, 'max_depth': 12}. Best is trial 25 with value: 0.7810966810966811.\u001b[0m\n",
      "\u001b[32m[I 2023-05-07 19:33:21,622]\u001b[0m Trial 35 finished with value: 0.7634199134199134 and parameters: {'learning_rate': 0.012345207482965232, 'num_leaves': 207, 'max_depth': 11}. Best is trial 25 with value: 0.7810966810966811.\u001b[0m\n",
      "\u001b[32m[I 2023-05-07 19:33:30,022]\u001b[0m Trial 36 finished with value: 0.7792448292448292 and parameters: {'learning_rate': 0.0255916265262324, 'num_leaves': 198, 'max_depth': 12}. Best is trial 25 with value: 0.7810966810966811.\u001b[0m\n",
      "\u001b[32m[I 2023-05-07 19:33:36,501]\u001b[0m Trial 37 finished with value: 0.7623376623376624 and parameters: {'learning_rate': 0.022590228927083473, 'num_leaves': 193, 'max_depth': 8}. Best is trial 25 with value: 0.7810966810966811.\u001b[0m\n",
      "\u001b[32m[I 2023-05-07 19:33:45,311]\u001b[0m Trial 38 finished with value: 0.7512987012987012 and parameters: {'learning_rate': 0.009700795934511843, 'num_leaves': 172, 'max_depth': 9}. Best is trial 25 with value: 0.7810966810966811.\u001b[0m\n",
      "\u001b[32m[I 2023-05-07 19:33:57,822]\u001b[0m Trial 39 finished with value: 0.7796055796055796 and parameters: {'learning_rate': 0.03187311944960057, 'num_leaves': 234, 'max_depth': 12}. Best is trial 25 with value: 0.7810966810966811.\u001b[0m\n",
      "\u001b[32m[I 2023-05-07 19:34:09,833]\u001b[0m Trial 40 finished with value: 0.7783068783068784 and parameters: {'learning_rate': 0.03128579874291903, 'num_leaves': 237, 'max_depth': 11}. Best is trial 25 with value: 0.7810966810966811.\u001b[0m\n",
      "\u001b[32m[I 2023-05-07 19:34:19,317]\u001b[0m Trial 41 finished with value: 0.7803270803270803 and parameters: {'learning_rate': 0.03422005482248755, 'num_leaves': 242, 'max_depth': 12}. Best is trial 25 with value: 0.7810966810966811.\u001b[0m\n",
      "\u001b[32m[I 2023-05-07 19:34:37,333]\u001b[0m Trial 42 finished with value: 0.77994227994228 and parameters: {'learning_rate': 0.03373785861798894, 'num_leaves': 241, 'max_depth': 12}. Best is trial 25 with value: 0.7810966810966811.\u001b[0m\n",
      "\u001b[32m[I 2023-05-07 19:34:40,745]\u001b[0m Trial 43 finished with value: 0.7558441558441559 and parameters: {'learning_rate': 0.03447574555346662, 'num_leaves': 247, 'max_depth': 5}. Best is trial 25 with value: 0.7810966810966811.\u001b[0m\n",
      "\u001b[32m[I 2023-05-07 19:34:55,651]\u001b[0m Trial 44 finished with value: 0.7793169793169793 and parameters: {'learning_rate': 0.04048024311187019, 'num_leaves': 218, 'max_depth': 11}. Best is trial 25 with value: 0.7810966810966811.\u001b[0m\n",
      "\u001b[32m[I 2023-05-07 19:35:09,624]\u001b[0m Trial 45 finished with value: 0.7810004810004809 and parameters: {'learning_rate': 0.04241953614224474, 'num_leaves': 242, 'max_depth': 12}. Best is trial 25 with value: 0.7810966810966811.\u001b[0m\n",
      "\u001b[32m[I 2023-05-07 19:35:31,261]\u001b[0m Trial 46 finished with value: 0.7810966810966811 and parameters: {'learning_rate': 0.04150606636822147, 'num_leaves': 245, 'max_depth': 12}. Best is trial 25 with value: 0.7810966810966811.\u001b[0m\n",
      "\u001b[32m[I 2023-05-07 19:35:37,500]\u001b[0m Trial 47 finished with value: 0.7676046176046176 and parameters: {'learning_rate': 0.040943991317486945, 'num_leaves': 216, 'max_depth': 7}. Best is trial 25 with value: 0.7810966810966811.\u001b[0m\n",
      "\u001b[32m[I 2023-05-07 19:35:47,644]\u001b[0m Trial 48 finished with value: 0.7798941798941798 and parameters: {'learning_rate': 0.044012162619443906, 'num_leaves': 254, 'max_depth': 11}. Best is trial 25 with value: 0.7810966810966811.\u001b[0m\n",
      "\u001b[32m[I 2023-05-07 19:35:58,445]\u001b[0m Trial 49 finished with value: 0.7816017316017315 and parameters: {'learning_rate': 0.04602640494497168, 'num_leaves': 189, 'max_depth': 12}. Best is trial 49 with value: 0.7816017316017315.\u001b[0m\n"
     ]
    }
   ],
   "source": [
    "\n",
    "def objective(trial):\n",
    "\n",
    "    global X_train, X_test, y_train, y_test\n",
    "\n",
    "    def f2_score(y_true, y_pred):\n",
    "        return fbeta_score(y_true, y_pred, beta=2, average='weighted')\n",
    "    f2_scorer = make_scorer(f2_score)\n",
    "\n",
    "\n",
    "    # Define the hyperparameters to optimize\n",
    "    params = {\n",
    "        'learning_rate': trial.suggest_uniform('learning_rate', 0.001, 0.1),\n",
    "        \"num_leaves\": trial.suggest_int(\"num_leaves\", 2, 256),\n",
    "        'max_depth': trial.suggest_int('max_depth', 4, 12)\n",
    "    }\n",
    "\n",
    "    num_cols = [col for i, col in enumerate(X_train.columns) if X_train[col].dtypes in ['float64', 'int64']]\n",
    "    cat_cols = [col for i, col in enumerate(X_train.columns) if X_train[col].dtypes =='object']\n",
    "    cat_indices = [i for i, col in enumerate(X_train.columns) if X_train[col].dtypes =='object']\n",
    "    cols_with_missing = df.columns[df.isna().any()].tolist()\n",
    "\n",
    "\n",
    "    X_cat = X_train.copy(deep=True)\n",
    "    X_test_cat = X_test.copy(deep=True)\n",
    "\n",
    "    for col in cat_cols:\n",
    "        X_cat[col] = X_cat[col].astype('category')\n",
    "        X_test_cat[col] = X_test_cat[col].astype('category')\n",
    "\n",
    "    y_train_df = pd.Series(y_train)\n",
    "\n",
    "    # set up the wrapper with the SimpleImputer\n",
    "    imputer = SklearnTransformerWrapper(transformer = SimpleImputer(strategy='most_frequent'),\n",
    "                                        variables = cols_with_missing)\n",
    "    # specify columns for standard scaler\n",
    "    scaler = SklearnTransformerWrapper(transformer=StandardScaler(),\n",
    "                                    variables=num_cols)\n",
    "\n",
    "\n",
    "    lgb_model = lgb.LGBMClassifier(**params, \n",
    "                            metric='multi_logloss',\n",
    "                            categorical_feature=cat_indices)\n",
    "\n",
    "    skf = StratifiedKFold(n_splits=3, random_state=43, shuffle=True)\n",
    "    f2_scores = []\n",
    "\n",
    "    \n",
    "\n",
    "    for idx, (train_idx, test_idx) in enumerate(skf.split(X_cat, y_train_df)):\n",
    "        X_train_split, X_valid_split = X_cat.iloc[train_idx], X_cat.iloc[test_idx]\n",
    "        y_train_split, y_valid_split = y_train_df.iloc[train_idx], y_train_df.iloc[test_idx]\n",
    "        \n",
    "        pipeline = Pipeline(steps=[('scaler', scaler),\n",
    "                                   ('lgb_model', lgb_model)])\n",
    "        #model = lgb.LGBMClassifier(**params, categorical_feature=cat_indices)\n",
    "        pipeline.fit(X_train_split, \n",
    "                     y_train_split, \n",
    "                     lgb_model__early_stopping_rounds=50,\n",
    "                     lgb_model__eval_set=[(X_valid_split, y_valid_split)], \n",
    "                     lgb_model__verbose=False)\n",
    "        \n",
    "        y_pred = pipeline.predict(X_valid_split)\n",
    "        f2_score_lgbm = fbeta_score(y_valid_split, y_pred, beta=2, average='micro')\n",
    "        f2_scores.append(f2_score_lgbm)\n",
    "        \n",
    "    return np.mean(f2_scores)\n",
    "    \n",
    "\n",
    "study_lgbm = optuna.create_study(direction='maximize')\n",
    "study_lgbm.optimize(objective, n_trials=50)"
   ]
  },
  {
   "cell_type": "code",
   "execution_count": 33,
   "id": "bfc60365",
   "metadata": {},
   "outputs": [
    {
     "data": {
      "text/html": [
       "<style>#sk-container-id-1 {color: black;background-color: white;}#sk-container-id-1 pre{padding: 0;}#sk-container-id-1 div.sk-toggleable {background-color: white;}#sk-container-id-1 label.sk-toggleable__label {cursor: pointer;display: block;width: 100%;margin-bottom: 0;padding: 0.3em;box-sizing: border-box;text-align: center;}#sk-container-id-1 label.sk-toggleable__label-arrow:before {content: \"▸\";float: left;margin-right: 0.25em;color: #696969;}#sk-container-id-1 label.sk-toggleable__label-arrow:hover:before {color: black;}#sk-container-id-1 div.sk-estimator:hover label.sk-toggleable__label-arrow:before {color: black;}#sk-container-id-1 div.sk-toggleable__content {max-height: 0;max-width: 0;overflow: hidden;text-align: left;background-color: #f0f8ff;}#sk-container-id-1 div.sk-toggleable__content pre {margin: 0.2em;color: black;border-radius: 0.25em;background-color: #f0f8ff;}#sk-container-id-1 input.sk-toggleable__control:checked~div.sk-toggleable__content {max-height: 200px;max-width: 100%;overflow: auto;}#sk-container-id-1 input.sk-toggleable__control:checked~label.sk-toggleable__label-arrow:before {content: \"▾\";}#sk-container-id-1 div.sk-estimator input.sk-toggleable__control:checked~label.sk-toggleable__label {background-color: #d4ebff;}#sk-container-id-1 div.sk-label input.sk-toggleable__control:checked~label.sk-toggleable__label {background-color: #d4ebff;}#sk-container-id-1 input.sk-hidden--visually {border: 0;clip: rect(1px 1px 1px 1px);clip: rect(1px, 1px, 1px, 1px);height: 1px;margin: -1px;overflow: hidden;padding: 0;position: absolute;width: 1px;}#sk-container-id-1 div.sk-estimator {font-family: monospace;background-color: #f0f8ff;border: 1px dotted black;border-radius: 0.25em;box-sizing: border-box;margin-bottom: 0.5em;}#sk-container-id-1 div.sk-estimator:hover {background-color: #d4ebff;}#sk-container-id-1 div.sk-parallel-item::after {content: \"\";width: 100%;border-bottom: 1px solid gray;flex-grow: 1;}#sk-container-id-1 div.sk-label:hover label.sk-toggleable__label {background-color: #d4ebff;}#sk-container-id-1 div.sk-serial::before {content: \"\";position: absolute;border-left: 1px solid gray;box-sizing: border-box;top: 0;bottom: 0;left: 50%;z-index: 0;}#sk-container-id-1 div.sk-serial {display: flex;flex-direction: column;align-items: center;background-color: white;padding-right: 0.2em;padding-left: 0.2em;position: relative;}#sk-container-id-1 div.sk-item {position: relative;z-index: 1;}#sk-container-id-1 div.sk-parallel {display: flex;align-items: stretch;justify-content: center;background-color: white;position: relative;}#sk-container-id-1 div.sk-item::before, #sk-container-id-1 div.sk-parallel-item::before {content: \"\";position: absolute;border-left: 1px solid gray;box-sizing: border-box;top: 0;bottom: 0;left: 50%;z-index: -1;}#sk-container-id-1 div.sk-parallel-item {display: flex;flex-direction: column;z-index: 1;position: relative;background-color: white;}#sk-container-id-1 div.sk-parallel-item:first-child::after {align-self: flex-end;width: 50%;}#sk-container-id-1 div.sk-parallel-item:last-child::after {align-self: flex-start;width: 50%;}#sk-container-id-1 div.sk-parallel-item:only-child::after {width: 0;}#sk-container-id-1 div.sk-dashed-wrapped {border: 1px dashed gray;margin: 0 0.4em 0.5em 0.4em;box-sizing: border-box;padding-bottom: 0.4em;background-color: white;}#sk-container-id-1 div.sk-label label {font-family: monospace;font-weight: bold;display: inline-block;line-height: 1.2em;}#sk-container-id-1 div.sk-label-container {text-align: center;}#sk-container-id-1 div.sk-container {/* jupyter's `normalize.less` sets `[hidden] { display: none; }` but bootstrap.min.css set `[hidden] { display: none !important; }` so we also need the `!important` here to be able to override the default hidden behavior on the sphinx rendered scikit-learn.org. See: https://github.com/scikit-learn/scikit-learn/issues/21755 */display: inline-block !important;position: relative;}#sk-container-id-1 div.sk-text-repr-fallback {display: none;}</style><div id=\"sk-container-id-1\" class=\"sk-top-container\"><div class=\"sk-text-repr-fallback\"><pre>Pipeline(steps=[(&#x27;scaler&#x27;,\n",
       "                 SklearnTransformerWrapper(transformer=StandardScaler(),\n",
       "                                           variables=[&#x27;amount_tsh&#x27;,\n",
       "                                                      &#x27;gps_height&#x27;,\n",
       "                                                      &#x27;population&#x27;, &#x27;age&#x27;])),\n",
       "                (&#x27;lgb_model&#x27;,\n",
       "                 LGBMClassifier(categorical_feature=[1, 3, 4, 5, 7, 8, 9, 10,\n",
       "                                                     11, 12, 13, 14, 15, 16],\n",
       "                                learning_rate=0.04602640494497168, max_depth=12,\n",
       "                                metric=&#x27;multi_logloss&#x27;, num_leaves=189))])</pre><b>In a Jupyter environment, please rerun this cell to show the HTML representation or trust the notebook. <br />On GitHub, the HTML representation is unable to render, please try loading this page with nbviewer.org.</b></div><div class=\"sk-container\" hidden><div class=\"sk-item sk-dashed-wrapped\"><div class=\"sk-label-container\"><div class=\"sk-label sk-toggleable\"><input class=\"sk-toggleable__control sk-hidden--visually\" id=\"sk-estimator-id-1\" type=\"checkbox\" ><label for=\"sk-estimator-id-1\" class=\"sk-toggleable__label sk-toggleable__label-arrow\">Pipeline</label><div class=\"sk-toggleable__content\"><pre>Pipeline(steps=[(&#x27;scaler&#x27;,\n",
       "                 SklearnTransformerWrapper(transformer=StandardScaler(),\n",
       "                                           variables=[&#x27;amount_tsh&#x27;,\n",
       "                                                      &#x27;gps_height&#x27;,\n",
       "                                                      &#x27;population&#x27;, &#x27;age&#x27;])),\n",
       "                (&#x27;lgb_model&#x27;,\n",
       "                 LGBMClassifier(categorical_feature=[1, 3, 4, 5, 7, 8, 9, 10,\n",
       "                                                     11, 12, 13, 14, 15, 16],\n",
       "                                learning_rate=0.04602640494497168, max_depth=12,\n",
       "                                metric=&#x27;multi_logloss&#x27;, num_leaves=189))])</pre></div></div></div><div class=\"sk-serial\"><div class=\"sk-item sk-dashed-wrapped\"><div class=\"sk-label-container\"><div class=\"sk-label sk-toggleable\"><input class=\"sk-toggleable__control sk-hidden--visually\" id=\"sk-estimator-id-2\" type=\"checkbox\" ><label for=\"sk-estimator-id-2\" class=\"sk-toggleable__label sk-toggleable__label-arrow\">scaler: SklearnTransformerWrapper</label><div class=\"sk-toggleable__content\"><pre>SklearnTransformerWrapper(transformer=StandardScaler(),\n",
       "                          variables=[&#x27;amount_tsh&#x27;, &#x27;gps_height&#x27;, &#x27;population&#x27;,\n",
       "                                     &#x27;age&#x27;])</pre></div></div></div><div class=\"sk-parallel\"><div class=\"sk-parallel-item\"><div class=\"sk-item\"><div class=\"sk-label-container\"><div class=\"sk-label sk-toggleable\"><input class=\"sk-toggleable__control sk-hidden--visually\" id=\"sk-estimator-id-3\" type=\"checkbox\" ><label for=\"sk-estimator-id-3\" class=\"sk-toggleable__label sk-toggleable__label-arrow\">transformer: StandardScaler</label><div class=\"sk-toggleable__content\"><pre>StandardScaler()</pre></div></div></div><div class=\"sk-serial\"><div class=\"sk-item\"><div class=\"sk-estimator sk-toggleable\"><input class=\"sk-toggleable__control sk-hidden--visually\" id=\"sk-estimator-id-4\" type=\"checkbox\" ><label for=\"sk-estimator-id-4\" class=\"sk-toggleable__label sk-toggleable__label-arrow\">StandardScaler</label><div class=\"sk-toggleable__content\"><pre>StandardScaler()</pre></div></div></div></div></div></div></div></div><div class=\"sk-item\"><div class=\"sk-estimator sk-toggleable\"><input class=\"sk-toggleable__control sk-hidden--visually\" id=\"sk-estimator-id-5\" type=\"checkbox\" ><label for=\"sk-estimator-id-5\" class=\"sk-toggleable__label sk-toggleable__label-arrow\">LGBMClassifier</label><div class=\"sk-toggleable__content\"><pre>LGBMClassifier(categorical_feature=[1, 3, 4, 5, 7, 8, 9, 10, 11, 12, 13, 14, 15,\n",
       "                                    16],\n",
       "               learning_rate=0.04602640494497168, max_depth=12,\n",
       "               metric=&#x27;multi_logloss&#x27;, num_leaves=189)</pre></div></div></div></div></div></div></div>"
      ],
      "text/plain": [
       "Pipeline(steps=[('scaler',\n",
       "                 SklearnTransformerWrapper(transformer=StandardScaler(),\n",
       "                                           variables=['amount_tsh',\n",
       "                                                      'gps_height',\n",
       "                                                      'population', 'age'])),\n",
       "                ('lgb_model',\n",
       "                 LGBMClassifier(categorical_feature=[1, 3, 4, 5, 7, 8, 9, 10,\n",
       "                                                     11, 12, 13, 14, 15, 16],\n",
       "                                learning_rate=0.04602640494497168, max_depth=12,\n",
       "                                metric='multi_logloss', num_leaves=189))])"
      ]
     },
     "execution_count": 33,
     "metadata": {},
     "output_type": "execute_result"
    }
   ],
   "source": [
    "best_params_lgbm = study_lgbm.best_params\n",
    "\n",
    "\n",
    "num_cols = [col for i, col in enumerate(X_train.columns) if X_train[col].dtypes in ['float64', 'int64']]\n",
    "cat_cols = [col for i, col in enumerate(X_train.columns) if X_train[col].dtypes =='object']\n",
    "cat_indices = [i for i, col in enumerate(X_train.columns) if X_train[col].dtypes =='object']\n",
    "cols_with_missing = df.columns[df.isna().any()].tolist()\n",
    "\n",
    "\n",
    "X_cat = X_train.copy(deep=True)\n",
    "X_test_cat = X_test.copy(deep=True)\n",
    "\n",
    "for col in cat_cols:\n",
    "    X_cat[col] = X_cat[col].astype('category')\n",
    "    X_test_cat[col] = X_test_cat[col].astype('category')\n",
    "\n",
    "y_train_df = pd.Series(y_train)\n",
    "\n",
    "\n",
    "# specify columns for standard scaler\n",
    "scaler = SklearnTransformerWrapper(transformer=StandardScaler(),\n",
    "                                variables=num_cols)\n",
    "\n",
    "lgb_model = lgb.LGBMClassifier(**best_params_lgbm, \n",
    "                        metric='multi_logloss',\n",
    "                        categorical_feature=cat_indices)\n",
    "\n",
    "\n",
    "pipeline_lgbm = Pipeline(steps=[\n",
    "                            ('scaler', SklearnTransformerWrapper(transformer=StandardScaler(), \n",
    "                                                                 variables=num_cols)),\n",
    "                            ('lgb_model', lgb_model)])\n",
    "#model = lgb.LGBMClassifier(**params, categorical_feature=cat_indices)\n",
    "pipeline_lgbm.fit(X_cat, \n",
    "                y_train, \n",
    "                lgb_model__early_stopping_rounds=50,\n",
    "                lgb_model__eval_set=[(X_test_cat, y_test)], \n",
    "                lgb_model__verbose=False)"
   ]
  },
  {
   "cell_type": "code",
   "execution_count": 50,
   "id": "c908153e",
   "metadata": {},
   "outputs": [
    {
     "name": "stdout",
     "output_type": "stream",
     "text": [
      "F2 score of LGBM Classifier: 0.7896745230078563.\n"
     ]
    }
   ],
   "source": [
    "y_pred_lgbm = pipeline_lgbm.predict(X_test_cat)\n",
    "f2_score_lgbm = fbeta_score(y_test, y_pred_lgbm, beta=2, average='micro')\n",
    "print(f'F2 score of LGBM Classifier: {f2_score_lgbm}.')"
   ]
  },
  {
   "attachments": {},
   "cell_type": "markdown",
   "id": "1d55d2ec",
   "metadata": {},
   "source": [
    "### XGBoost "
   ]
  },
  {
   "cell_type": "code",
   "execution_count": 35,
   "id": "fe48aa07",
   "metadata": {},
   "outputs": [
    {
     "name": "stderr",
     "output_type": "stream",
     "text": [
      "\u001b[32m[I 2023-05-07 19:38:37,248]\u001b[0m A new study created in memory with name: no-name-f5f6cec1-9a76-498f-9f0b-37a6f027a103\u001b[0m\n",
      "\u001b[32m[I 2023-05-07 19:39:09,149]\u001b[0m Trial 0 finished with value: 0.7855218855218856 and parameters: {'n_estimators': 300, 'max_depth': 10, 'gamma': 0.6349316581945026, 'subsample': 0.595881508338057, 'colsample_bytree': 0.7389369882385136, 'learning_rate': 0.178684929220419}. Best is trial 0 with value: 0.7855218855218856.\u001b[0m\n",
      "\u001b[32m[I 2023-05-07 19:39:25,184]\u001b[0m Trial 1 finished with value: 0.7733285233285234 and parameters: {'n_estimators': 200, 'max_depth': 4, 'gamma': 0.5987444346178139, 'subsample': 0.6729697474090099, 'colsample_bytree': 0.8535591341220928, 'learning_rate': 0.8021334631096653}. Best is trial 0 with value: 0.7855218855218856.\u001b[0m\n",
      "\u001b[32m[I 2023-05-07 19:39:32,584]\u001b[0m Trial 2 finished with value: 0.7613997113997114 and parameters: {'n_estimators': 100, 'max_depth': 4, 'gamma': 0.43969308518980665, 'subsample': 0.586669343041767, 'colsample_bytree': 0.6701564114684582, 'learning_rate': 0.27938154341036825}. Best is trial 0 with value: 0.7855218855218856.\u001b[0m\n",
      "\u001b[32m[I 2023-05-07 19:39:53,119]\u001b[0m Trial 3 finished with value: 0.7833092833092833 and parameters: {'n_estimators': 350, 'max_depth': 8, 'gamma': 0.6744593946158831, 'subsample': 0.7042670415795291, 'colsample_bytree': 0.626083558398821, 'learning_rate': 0.3708019041839696}. Best is trial 0 with value: 0.7855218855218856.\u001b[0m\n",
      "\u001b[32m[I 2023-05-07 19:40:57,783]\u001b[0m Trial 4 finished with value: 0.757046657046657 and parameters: {'n_estimators': 650, 'max_depth': 4, 'gamma': 0.37495218079796067, 'subsample': 0.5657547183194314, 'colsample_bytree': 0.8946547572865831, 'learning_rate': 0.025610841234188456}. Best is trial 0 with value: 0.7855218855218856.\u001b[0m\n",
      "\u001b[32m[I 2023-05-07 19:41:28,890]\u001b[0m Trial 5 finished with value: 0.773063973063973 and parameters: {'n_estimators': 650, 'max_depth': 3, 'gamma': 0.9253852420473928, 'subsample': 0.7845634918429358, 'colsample_bytree': 0.5693472091202796, 'learning_rate': 0.7671164097225398}. Best is trial 0 with value: 0.7855218855218856.\u001b[0m\n",
      "\u001b[32m[I 2023-05-07 19:42:17,370]\u001b[0m Trial 6 finished with value: 0.7817460317460317 and parameters: {'n_estimators': 650, 'max_depth': 7, 'gamma': 0.1380999175636083, 'subsample': 0.9047668738428405, 'colsample_bytree': 0.6211131321771094, 'learning_rate': 0.26884317860552737}. Best is trial 0 with value: 0.7855218855218856.\u001b[0m\n",
      "\u001b[32m[I 2023-05-07 19:43:44,442]\u001b[0m Trial 7 finished with value: 0.7837902837902838 and parameters: {'n_estimators': 750, 'max_depth': 6, 'gamma': 0.23968013996299498, 'subsample': 0.6999242248412401, 'colsample_bytree': 0.7205843913872643, 'learning_rate': 0.10372512268898398}. Best is trial 0 with value: 0.7855218855218856.\u001b[0m\n",
      "\u001b[32m[I 2023-05-07 19:43:59,589]\u001b[0m Trial 8 finished with value: 0.7695286195286196 and parameters: {'n_estimators': 200, 'max_depth': 9, 'gamma': 0.368004545907867, 'subsample': 0.5816462933500997, 'colsample_bytree': 0.8759566438770803, 'learning_rate': 0.9103312791349993}. Best is trial 0 with value: 0.7855218855218856.\u001b[0m\n",
      "\u001b[32m[I 2023-05-07 19:44:30,933]\u001b[0m Trial 9 finished with value: 0.7742905242905244 and parameters: {'n_estimators': 450, 'max_depth': 4, 'gamma': 0.8208659300864667, 'subsample': 0.5039338224042571, 'colsample_bytree': 0.5404839795456711, 'learning_rate': 0.35562143098906634}. Best is trial 0 with value: 0.7855218855218856.\u001b[0m\n",
      "\u001b[32m[I 2023-05-07 19:44:51,286]\u001b[0m Trial 10 finished with value: 0.7828282828282829 and parameters: {'n_estimators': 850, 'max_depth': 10, 'gamma': 0.688712393462132, 'subsample': 0.9749701194691739, 'colsample_bytree': 0.7921123836569102, 'learning_rate': 0.553361196444234}. Best is trial 0 with value: 0.7855218855218856.\u001b[0m\n",
      "\u001b[32m[I 2023-05-07 19:46:50,531]\u001b[0m Trial 11 finished with value: 0.7783309283309282 and parameters: {'n_estimators': 950, 'max_depth': 6, 'gamma': 0.01287340031735551, 'subsample': 0.7733627153917871, 'colsample_bytree': 0.7293659047591732, 'learning_rate': 0.039625566103649756}. Best is trial 0 with value: 0.7855218855218856.\u001b[0m\n",
      "\u001b[32m[I 2023-05-07 19:48:02,669]\u001b[0m Trial 12 finished with value: 0.7825877825877826 and parameters: {'n_estimators': 800, 'max_depth': 6, 'gamma': 0.24605894334229594, 'subsample': 0.6644268001070024, 'colsample_bytree': 0.9821506204226456, 'learning_rate': 0.15654235013168505}. Best is trial 0 with value: 0.7855218855218856.\u001b[0m\n",
      "\u001b[32m[I 2023-05-07 19:48:58,577]\u001b[0m Trial 13 finished with value: 0.7846320346320347 and parameters: {'n_estimators': 400, 'max_depth': 7, 'gamma': 0.5297444831426878, 'subsample': 0.6381104649061508, 'colsample_bytree': 0.7308196390455387, 'learning_rate': 0.14872382607527435}. Best is trial 0 with value: 0.7855218855218856.\u001b[0m\n",
      "\u001b[32m[I 2023-05-07 19:49:43,231]\u001b[0m Trial 14 finished with value: 0.7861471861471861 and parameters: {'n_estimators': 400, 'max_depth': 10, 'gamma': 0.5621028463155207, 'subsample': 0.632062454643708, 'colsample_bytree': 0.778199442353254, 'learning_rate': 0.19961227418065802}. Best is trial 14 with value: 0.7861471861471861.\u001b[0m\n",
      "\u001b[32m[I 2023-05-07 19:50:01,658]\u001b[0m Trial 15 finished with value: 0.7769119769119769 and parameters: {'n_estimators': 300, 'max_depth': 10, 'gamma': 0.7498956744659264, 'subsample': 0.5047267261505048, 'colsample_bytree': 0.7991459369239255, 'learning_rate': 0.544010917459011}. Best is trial 14 with value: 0.7861471861471861.\u001b[0m\n",
      "\u001b[32m[I 2023-05-07 19:50:36,374]\u001b[0m Trial 16 finished with value: 0.7859307359307359 and parameters: {'n_estimators': 550, 'max_depth': 9, 'gamma': 0.555118104559079, 'subsample': 0.606748403579926, 'colsample_bytree': 0.5020559171922465, 'learning_rate': 0.21092078088106425}. Best is trial 14 with value: 0.7861471861471861.\u001b[0m\n",
      "\u001b[32m[I 2023-05-07 19:50:56,631]\u001b[0m Trial 17 finished with value: 0.7840788840788839 and parameters: {'n_estimators': 550, 'max_depth': 9, 'gamma': 0.5072920321626789, 'subsample': 0.7655961971202552, 'colsample_bytree': 0.5207527633516339, 'learning_rate': 0.37314392780925143}. Best is trial 14 with value: 0.7861471861471861.\u001b[0m\n",
      "\u001b[32m[I 2023-05-07 19:52:10,914]\u001b[0m Trial 18 finished with value: 0.772077922077922 and parameters: {'n_estimators': 500, 'max_depth': 9, 'gamma': 0.5542923951303151, 'subsample': 0.6296386417762792, 'colsample_bytree': 0.5192752144927415, 'learning_rate': 0.011532035144500796}. Best is trial 14 with value: 0.7861471861471861.\u001b[0m\n",
      "\u001b[32m[I 2023-05-07 19:52:18,341]\u001b[0m Trial 19 finished with value: 0.7784030784030783 and parameters: {'n_estimators': 50, 'max_depth': 8, 'gamma': 0.9955338328390825, 'subsample': 0.7201399503462378, 'colsample_bytree': 0.6703861450567921, 'learning_rate': 0.4658818193480625}. Best is trial 14 with value: 0.7861471861471861.\u001b[0m\n",
      "\u001b[32m[I 2023-05-07 19:52:56,470]\u001b[0m Trial 20 finished with value: 0.7833333333333333 and parameters: {'n_estimators': 550, 'max_depth': 8, 'gamma': 0.7897742047620009, 'subsample': 0.5429229389297943, 'colsample_bytree': 0.5805484402400714, 'learning_rate': 0.22646839198342966}. Best is trial 14 with value: 0.7861471861471861.\u001b[0m\n",
      "\u001b[32m[I 2023-05-07 19:53:38,650]\u001b[0m Trial 21 finished with value: 0.786988936988937 and parameters: {'n_estimators': 250, 'max_depth': 10, 'gamma': 0.65297307591977, 'subsample': 0.6179571880879056, 'colsample_bytree': 0.670726369939647, 'learning_rate': 0.18903976053222393}. Best is trial 21 with value: 0.786988936988937.\u001b[0m\n",
      "\u001b[32m[I 2023-05-07 19:54:13,012]\u001b[0m Trial 22 finished with value: 0.7859066859066859 and parameters: {'n_estimators': 200, 'max_depth': 10, 'gamma': 0.5917785675347651, 'subsample': 0.6291140921070629, 'colsample_bytree': 0.5057044999083071, 'learning_rate': 0.12059622261478482}. Best is trial 21 with value: 0.786988936988937.\u001b[0m\n",
      "\u001b[32m[I 2023-05-07 19:54:52,180]\u001b[0m Trial 23 finished with value: 0.7853535353535354 and parameters: {'n_estimators': 400, 'max_depth': 9, 'gamma': 0.4701104146262488, 'subsample': 0.546201922599818, 'colsample_bytree': 0.6748388067235653, 'learning_rate': 0.23239886982489238}. Best is trial 21 with value: 0.786988936988937.\u001b[0m\n",
      "\u001b[32m[I 2023-05-07 19:55:44,475]\u001b[0m Trial 24 finished with value: 0.7865319865319865 and parameters: {'n_estimators': 250, 'max_depth': 10, 'gamma': 0.7093724623609873, 'subsample': 0.6142021786104146, 'colsample_bytree': 0.5765885763593185, 'learning_rate': 0.08972499911715909}. Best is trial 21 with value: 0.786988936988937.\u001b[0m\n",
      "\u001b[32m[I 2023-05-07 19:56:25,056]\u001b[0m Trial 25 finished with value: 0.7856421356421356 and parameters: {'n_estimators': 250, 'max_depth': 10, 'gamma': 0.7156419175408255, 'subsample': 0.6553963759357324, 'colsample_bytree': 0.6177504865049921, 'learning_rate': 0.07270943084969723}. Best is trial 21 with value: 0.786988936988937.\u001b[0m\n",
      "\u001b[32m[I 2023-05-07 19:56:45,889]\u001b[0m Trial 26 finished with value: 0.7784511784511784 and parameters: {'n_estimators': 150, 'max_depth': 8, 'gamma': 0.8181901608970855, 'subsample': 0.6122602408634014, 'colsample_bytree': 0.6917771172623417, 'learning_rate': 0.10136291791197219}. Best is trial 21 with value: 0.786988936988937.\u001b[0m\n",
      "\u001b[32m[I 2023-05-07 19:57:08,032]\u001b[0m Trial 27 finished with value: 0.7848725348725348 and parameters: {'n_estimators': 300, 'max_depth': 10, 'gamma': 0.6462554245486906, 'subsample': 0.550512350335538, 'colsample_bytree': 0.7702130057688968, 'learning_rate': 0.29798265766190346}. Best is trial 21 with value: 0.786988936988937.\u001b[0m\n",
      "\u001b[32m[I 2023-05-07 19:57:16,408]\u001b[0m Trial 28 finished with value: 0.7759499759499761 and parameters: {'n_estimators': 50, 'max_depth': 9, 'gamma': 0.7273166672229696, 'subsample': 0.680084414313512, 'colsample_bytree': 0.6377055295903679, 'learning_rate': 0.16879094843600162}. Best is trial 21 with value: 0.786988936988937.\u001b[0m\n",
      "\u001b[32m[I 2023-05-07 19:57:47,328]\u001b[0m Trial 29 finished with value: 0.7856902356902357 and parameters: {'n_estimators': 350, 'max_depth': 10, 'gamma': 0.6225506629430525, 'subsample': 0.6010035123495039, 'colsample_bytree': 0.5598403132403126, 'learning_rate': 0.17977247653467546}. Best is trial 21 with value: 0.786988936988937.\u001b[0m\n",
      "\u001b[32m[I 2023-05-07 19:58:13,818]\u001b[0m Trial 30 finished with value: 0.7766233766233768 and parameters: {'n_estimators': 250, 'max_depth': 7, 'gamma': 0.6637207190625234, 'subsample': 0.735937818589376, 'colsample_bytree': 0.5872353567019766, 'learning_rate': 0.0819685414415688}. Best is trial 21 with value: 0.786988936988937.\u001b[0m\n",
      "\u001b[32m[I 2023-05-07 19:58:41,158]\u001b[0m Trial 31 finished with value: 0.785978835978836 and parameters: {'n_estimators': 450, 'max_depth': 9, 'gamma': 0.5956708948552139, 'subsample': 0.6151461315127842, 'colsample_bytree': 0.5436670511937995, 'learning_rate': 0.22092647121940026}. Best is trial 21 with value: 0.786988936988937.\u001b[0m\n",
      "\u001b[32m[I 2023-05-07 19:59:13,309]\u001b[0m Trial 32 finished with value: 0.7861952861952862 and parameters: {'n_estimators': 450, 'max_depth': 10, 'gamma': 0.5763000801432444, 'subsample': 0.6422510050457839, 'colsample_bytree': 0.59414757948475, 'learning_rate': 0.18574324522378366}. Best is trial 21 with value: 0.786988936988937.\u001b[0m\n",
      "\u001b[32m[I 2023-05-07 19:59:35,824]\u001b[0m Trial 33 finished with value: 0.7855940355940355 and parameters: {'n_estimators': 150, 'max_depth': 10, 'gamma': 0.6218717044975894, 'subsample': 0.6462144750000933, 'colsample_bytree': 0.5998203435359862, 'learning_rate': 0.11624285839698363}. Best is trial 21 with value: 0.786988936988937.\u001b[0m\n",
      "\u001b[32m[I 2023-05-07 20:00:12,643]\u001b[0m Trial 34 finished with value: 0.7867724867724868 and parameters: {'n_estimators': 350, 'max_depth': 10, 'gamma': 0.46258739378895175, 'subsample': 0.6770705557772503, 'colsample_bytree': 0.6417278549258026, 'learning_rate': 0.17495129642208443}. Best is trial 21 with value: 0.786988936988937.\u001b[0m\n",
      "\u001b[32m[I 2023-05-07 20:01:11,487]\u001b[0m Trial 35 finished with value: 0.7753968253968253 and parameters: {'n_estimators': 350, 'max_depth': 10, 'gamma': 0.4404778454949188, 'subsample': 0.6722430736825493, 'colsample_bytree': 0.631880273053326, 'learning_rate': 0.013095340682362788}. Best is trial 21 with value: 0.786988936988937.\u001b[0m\n",
      "\u001b[32m[I 2023-05-07 20:01:43,863]\u001b[0m Trial 36 finished with value: 0.7803511303511304 and parameters: {'n_estimators': 250, 'max_depth': 8, 'gamma': 0.5007933655639004, 'subsample': 0.697360275861415, 'colsample_bytree': 0.6419197432180431, 'learning_rate': 0.06977922256838148}. Best is trial 21 with value: 0.786988936988937.\u001b[0m\n",
      "\u001b[32m[I 2023-05-07 20:02:03,893]\u001b[0m Trial 37 finished with value: 0.7826358826358826 and parameters: {'n_estimators': 150, 'max_depth': 9, 'gamma': 0.6727951717569998, 'subsample': 0.5830524055758182, 'colsample_bytree': 0.5877401113900296, 'learning_rate': 0.2855994353107586}. Best is trial 21 with value: 0.786988936988937.\u001b[0m\n",
      "\u001b[32m[I 2023-05-07 20:02:38,581]\u001b[0m Trial 38 finished with value: 0.7861712361712362 and parameters: {'n_estimators': 350, 'max_depth': 10, 'gamma': 0.4253646366746124, 'subsample': 0.6786473232202307, 'colsample_bytree': 0.6558784889283127, 'learning_rate': 0.17912781377783793}. Best is trial 21 with value: 0.786988936988937.\u001b[0m\n",
      "\u001b[32m[I 2023-05-07 20:03:15,129]\u001b[0m Trial 39 finished with value: 0.7777056277056277 and parameters: {'n_estimators': 450, 'max_depth': 5, 'gamma': 0.7625622441435344, 'subsample': 0.7341431497188499, 'colsample_bytree': 0.6087272286211551, 'learning_rate': 0.1332701142760236}. Best is trial 21 with value: 0.786988936988937.\u001b[0m\n",
      "\u001b[32m[I 2023-05-07 20:03:51,091]\u001b[0m Trial 40 finished with value: 0.7562049062049062 and parameters: {'n_estimators': 600, 'max_depth': 3, 'gamma': 0.8661855036055582, 'subsample': 0.5805897161497532, 'colsample_bytree': 0.6931357532556605, 'learning_rate': 0.057228805879997374}. Best is trial 21 with value: 0.786988936988937.\u001b[0m\n",
      "\u001b[32m[I 2023-05-07 20:04:14,418]\u001b[0m Trial 41 finished with value: 0.7856902356902357 and parameters: {'n_estimators': 300, 'max_depth': 10, 'gamma': 0.4024787107060404, 'subsample': 0.6727595327886274, 'colsample_bytree': 0.6485989417384561, 'learning_rate': 0.2670939419929013}. Best is trial 21 with value: 0.786988936988937.\u001b[0m\n",
      "\u001b[32m[I 2023-05-07 20:04:53,828]\u001b[0m Trial 42 finished with value: 0.786964886964887 and parameters: {'n_estimators': 350, 'max_depth': 9, 'gamma': 0.4492447194946717, 'subsample': 0.6965733133142937, 'colsample_bytree': 0.6566428756122002, 'learning_rate': 0.1591399852507191}. Best is trial 21 with value: 0.786988936988937.\u001b[0m\n",
      "\u001b[32m[I 2023-05-07 20:05:28,991]\u001b[0m Trial 43 finished with value: 0.7867965367965368 and parameters: {'n_estimators': 250, 'max_depth': 9, 'gamma': 0.4879612792314034, 'subsample': 0.7065619304899362, 'colsample_bytree': 0.611539459175569, 'learning_rate': 0.13379040017053917}. Best is trial 21 with value: 0.786988936988937.\u001b[0m\n",
      "\u001b[32m[I 2023-05-07 20:05:57,980]\u001b[0m Trial 44 finished with value: 0.7851851851851852 and parameters: {'n_estimators': 200, 'max_depth': 9, 'gamma': 0.4640260037013549, 'subsample': 0.6911906613757113, 'colsample_bytree': 0.6113411438240399, 'learning_rate': 0.12263213789400948}. Best is trial 21 with value: 0.786988936988937.\u001b[0m\n",
      "\u001b[32m[I 2023-05-07 20:06:14,680]\u001b[0m Trial 45 finished with value: 0.7742664742664743 and parameters: {'n_estimators': 100, 'max_depth': 9, 'gamma': 0.36945470191922436, 'subsample': 0.7132263360424368, 'colsample_bytree': 0.701550651097669, 'learning_rate': 0.06648390959794012}. Best is trial 21 with value: 0.786988936988937.\u001b[0m\n",
      "\u001b[32m[I 2023-05-07 20:06:44,992]\u001b[0m Trial 46 finished with value: 0.783934583934584 and parameters: {'n_estimators': 250, 'max_depth': 8, 'gamma': 0.5000427969326693, 'subsample': 0.7873438174867201, 'colsample_bytree': 0.6559326875694581, 'learning_rate': 0.14397448601551605}. Best is trial 21 with value: 0.786988936988937.\u001b[0m\n",
      "\u001b[32m[I 2023-05-07 20:07:00,154]\u001b[0m Trial 47 finished with value: 0.7695767195767195 and parameters: {'n_estimators': 100, 'max_depth': 9, 'gamma': 0.30170465250895434, 'subsample': 0.656008781176076, 'colsample_bytree': 0.5611550491426626, 'learning_rate': 0.044393796162027516}. Best is trial 21 with value: 0.786988936988937.\u001b[0m\n",
      "\u001b[32m[I 2023-05-07 20:07:32,360]\u001b[0m Trial 48 finished with value: 0.7811688311688312 and parameters: {'n_estimators': 300, 'max_depth': 7, 'gamma': 0.532791227027036, 'subsample': 0.7120344487864675, 'colsample_bytree': 0.6229612822432842, 'learning_rate': 0.10677690154256303}. Best is trial 21 with value: 0.786988936988937.\u001b[0m\n",
      "\u001b[32m[I 2023-05-07 20:07:56,195]\u001b[0m Trial 49 finished with value: 0.7821548821548822 and parameters: {'n_estimators': 350, 'max_depth': 8, 'gamma': 0.4794619949898691, 'subsample': 0.7538722628254649, 'colsample_bytree': 0.7116078411573169, 'learning_rate': 0.3304920994491727}. Best is trial 21 with value: 0.786988936988937.\u001b[0m\n"
     ]
    }
   ],
   "source": [
    " # define the objective function for Optuna to minimize\n",
    "def objective(trial):\n",
    "    # define hyperparameters to tune with Optuna\n",
    "    params = {\n",
    "        'n_estimators': trial.suggest_int('n_estimators', 50, 1000, 50),\n",
    "        'max_depth': trial.suggest_int('max_depth', 3, 10),\n",
    "        'gamma': trial.suggest_float('gamma', 0, 1),\n",
    "        'subsample': trial.suggest_float('subsample', 0.5, 1),\n",
    "        'colsample_bytree': trial.suggest_float('colsample_bytree', 0.5, 1),\n",
    "        'learning_rate': trial.suggest_float('learning_rate', 0.01, 1)\n",
    "    }\n",
    "    \n",
    "    # Define the column transformer\n",
    "    cat_var = [ind for ind, col in enumerate(X_train.columns) if X_train[col].dtypes=='object']\n",
    "    num_var = [ind for ind, col in enumerate(X_train.columns) if X_train[col].dtypes in ['int64', 'float64']]\n",
    "\n",
    "    # Define column transformer for one-hot encoding categorical features\n",
    "    categorical_transformer = Pipeline([\n",
    "        ('onehot', OneHotEncoder(handle_unknown='ignore'))\n",
    "    ])\n",
    "\n",
    "    # Define column transformer for scaling numeric features\n",
    "    numerical_transformer = Pipeline([\n",
    "        ('scaler', StandardScaler())\n",
    "    ])\n",
    "\n",
    "    # Define preprocessing pipeline\n",
    "    preprocessing_pipeline = ColumnTransformer([\n",
    "        ('cat_transformer', categorical_transformer, cat_var),\n",
    "        ('num_transformer', numerical_transformer, num_var)\n",
    "    # replace missing categorical values with mode and one-hot encode\n",
    "    ], remainder='passthrough')\n",
    "\n",
    "\n",
    "    # create an XGBoost classifier\n",
    "    xgb_model = xgb.XGBClassifier(**params, \n",
    "                                objective='multi:softmax', \n",
    "                                eval_metric='mlogloss',\n",
    "                                seed=42)\n",
    "\n",
    "    # Define final pipeline with preprocessing and logistic regression model\n",
    "    pipeline_xgb= Pipeline([('preprocessing', preprocessing_pipeline)])\n",
    "    y_train_df = pd.Series(y_train)\n",
    "    \n",
    "\n",
    "    skf = StratifiedKFold(n_splits=3, random_state=42, shuffle=True)\n",
    "    f2_scores = []\n",
    "\n",
    "    for idx, (train_idx, test_idx) in enumerate(skf.split(X_train, y_train_df)):\n",
    "        X_train_split, X_valid_split = X_train.iloc[train_idx], X_train.iloc[test_idx]\n",
    "        y_train_split, y_valid_split = y_train_df.iloc[train_idx], y_train_df.iloc[test_idx]\n",
    "    \n",
    "        X_train_split = pipeline_xgb.fit_transform(X_train_split)\n",
    "        X_test_split = pipeline_xgb.transform(X_valid_split)\n",
    "\n",
    "        xgb_model.fit(X_train_split, y_train_split,\n",
    "                      eval_set=[(X_valid_split, y_valid_split)],\n",
    "                      early_stopping_rounds=50,\n",
    "                      verbose=False)\n",
    "        \n",
    "        y_pred = xgb_model.predict(X_valid_split)\n",
    "        f2_score_xgb = fbeta_score(y_valid_split, y_pred, beta=2, average='micro')\n",
    "        f2_scores.append(f2_score_xgb)\n",
    "    return np.mean(f2_scores)\n",
    "\n",
    "# create an Optuna study\n",
    "study_xgb = optuna.create_study(direction='maximize')\n",
    "study_xgb.optimize(objective, n_trials=50)"
   ]
  },
  {
   "cell_type": "code",
   "execution_count": 46,
   "id": "9ff59a9c",
   "metadata": {},
   "outputs": [
    {
     "data": {
      "text/html": [
       "<style>#sk-container-id-2 {color: black;background-color: white;}#sk-container-id-2 pre{padding: 0;}#sk-container-id-2 div.sk-toggleable {background-color: white;}#sk-container-id-2 label.sk-toggleable__label {cursor: pointer;display: block;width: 100%;margin-bottom: 0;padding: 0.3em;box-sizing: border-box;text-align: center;}#sk-container-id-2 label.sk-toggleable__label-arrow:before {content: \"▸\";float: left;margin-right: 0.25em;color: #696969;}#sk-container-id-2 label.sk-toggleable__label-arrow:hover:before {color: black;}#sk-container-id-2 div.sk-estimator:hover label.sk-toggleable__label-arrow:before {color: black;}#sk-container-id-2 div.sk-toggleable__content {max-height: 0;max-width: 0;overflow: hidden;text-align: left;background-color: #f0f8ff;}#sk-container-id-2 div.sk-toggleable__content pre {margin: 0.2em;color: black;border-radius: 0.25em;background-color: #f0f8ff;}#sk-container-id-2 input.sk-toggleable__control:checked~div.sk-toggleable__content {max-height: 200px;max-width: 100%;overflow: auto;}#sk-container-id-2 input.sk-toggleable__control:checked~label.sk-toggleable__label-arrow:before {content: \"▾\";}#sk-container-id-2 div.sk-estimator input.sk-toggleable__control:checked~label.sk-toggleable__label {background-color: #d4ebff;}#sk-container-id-2 div.sk-label input.sk-toggleable__control:checked~label.sk-toggleable__label {background-color: #d4ebff;}#sk-container-id-2 input.sk-hidden--visually {border: 0;clip: rect(1px 1px 1px 1px);clip: rect(1px, 1px, 1px, 1px);height: 1px;margin: -1px;overflow: hidden;padding: 0;position: absolute;width: 1px;}#sk-container-id-2 div.sk-estimator {font-family: monospace;background-color: #f0f8ff;border: 1px dotted black;border-radius: 0.25em;box-sizing: border-box;margin-bottom: 0.5em;}#sk-container-id-2 div.sk-estimator:hover {background-color: #d4ebff;}#sk-container-id-2 div.sk-parallel-item::after {content: \"\";width: 100%;border-bottom: 1px solid gray;flex-grow: 1;}#sk-container-id-2 div.sk-label:hover label.sk-toggleable__label {background-color: #d4ebff;}#sk-container-id-2 div.sk-serial::before {content: \"\";position: absolute;border-left: 1px solid gray;box-sizing: border-box;top: 0;bottom: 0;left: 50%;z-index: 0;}#sk-container-id-2 div.sk-serial {display: flex;flex-direction: column;align-items: center;background-color: white;padding-right: 0.2em;padding-left: 0.2em;position: relative;}#sk-container-id-2 div.sk-item {position: relative;z-index: 1;}#sk-container-id-2 div.sk-parallel {display: flex;align-items: stretch;justify-content: center;background-color: white;position: relative;}#sk-container-id-2 div.sk-item::before, #sk-container-id-2 div.sk-parallel-item::before {content: \"\";position: absolute;border-left: 1px solid gray;box-sizing: border-box;top: 0;bottom: 0;left: 50%;z-index: -1;}#sk-container-id-2 div.sk-parallel-item {display: flex;flex-direction: column;z-index: 1;position: relative;background-color: white;}#sk-container-id-2 div.sk-parallel-item:first-child::after {align-self: flex-end;width: 50%;}#sk-container-id-2 div.sk-parallel-item:last-child::after {align-self: flex-start;width: 50%;}#sk-container-id-2 div.sk-parallel-item:only-child::after {width: 0;}#sk-container-id-2 div.sk-dashed-wrapped {border: 1px dashed gray;margin: 0 0.4em 0.5em 0.4em;box-sizing: border-box;padding-bottom: 0.4em;background-color: white;}#sk-container-id-2 div.sk-label label {font-family: monospace;font-weight: bold;display: inline-block;line-height: 1.2em;}#sk-container-id-2 div.sk-label-container {text-align: center;}#sk-container-id-2 div.sk-container {/* jupyter's `normalize.less` sets `[hidden] { display: none; }` but bootstrap.min.css set `[hidden] { display: none !important; }` so we also need the `!important` here to be able to override the default hidden behavior on the sphinx rendered scikit-learn.org. See: https://github.com/scikit-learn/scikit-learn/issues/21755 */display: inline-block !important;position: relative;}#sk-container-id-2 div.sk-text-repr-fallback {display: none;}</style><div id=\"sk-container-id-2\" class=\"sk-top-container\"><div class=\"sk-text-repr-fallback\"><pre>XGBClassifier(base_score=None, booster=None, callbacks=None,\n",
       "              colsample_bylevel=None, colsample_bynode=None,\n",
       "              colsample_bytree=0.670726369939647, early_stopping_rounds=None,\n",
       "              enable_categorical=False, eval_metric=&#x27;mlogloss&#x27;,\n",
       "              feature_types=None, gamma=0.65297307591977, gpu_id=None,\n",
       "              grow_policy=None, importance_type=None,\n",
       "              interaction_constraints=None, learning_rate=0.18903976053222393,\n",
       "              max_bin=None, max_cat_threshold=None, max_cat_to_onehot=None,\n",
       "              max_delta_step=None, max_depth=10, max_leaves=None,\n",
       "              min_child_weight=None, missing=nan, monotone_constraints=None,\n",
       "              n_estimators=250, n_jobs=None, num_parallel_tree=None,\n",
       "              objective=&#x27;multi:softmax&#x27;, predictor=None, ...)</pre><b>In a Jupyter environment, please rerun this cell to show the HTML representation or trust the notebook. <br />On GitHub, the HTML representation is unable to render, please try loading this page with nbviewer.org.</b></div><div class=\"sk-container\" hidden><div class=\"sk-item\"><div class=\"sk-estimator sk-toggleable\"><input class=\"sk-toggleable__control sk-hidden--visually\" id=\"sk-estimator-id-6\" type=\"checkbox\" checked><label for=\"sk-estimator-id-6\" class=\"sk-toggleable__label sk-toggleable__label-arrow\">XGBClassifier</label><div class=\"sk-toggleable__content\"><pre>XGBClassifier(base_score=None, booster=None, callbacks=None,\n",
       "              colsample_bylevel=None, colsample_bynode=None,\n",
       "              colsample_bytree=0.670726369939647, early_stopping_rounds=None,\n",
       "              enable_categorical=False, eval_metric=&#x27;mlogloss&#x27;,\n",
       "              feature_types=None, gamma=0.65297307591977, gpu_id=None,\n",
       "              grow_policy=None, importance_type=None,\n",
       "              interaction_constraints=None, learning_rate=0.18903976053222393,\n",
       "              max_bin=None, max_cat_threshold=None, max_cat_to_onehot=None,\n",
       "              max_delta_step=None, max_depth=10, max_leaves=None,\n",
       "              min_child_weight=None, missing=nan, monotone_constraints=None,\n",
       "              n_estimators=250, n_jobs=None, num_parallel_tree=None,\n",
       "              objective=&#x27;multi:softmax&#x27;, predictor=None, ...)</pre></div></div></div></div></div>"
      ],
      "text/plain": [
       "XGBClassifier(base_score=None, booster=None, callbacks=None,\n",
       "              colsample_bylevel=None, colsample_bynode=None,\n",
       "              colsample_bytree=0.670726369939647, early_stopping_rounds=None,\n",
       "              enable_categorical=False, eval_metric='mlogloss',\n",
       "              feature_types=None, gamma=0.65297307591977, gpu_id=None,\n",
       "              grow_policy=None, importance_type=None,\n",
       "              interaction_constraints=None, learning_rate=0.18903976053222393,\n",
       "              max_bin=None, max_cat_threshold=None, max_cat_to_onehot=None,\n",
       "              max_delta_step=None, max_depth=10, max_leaves=None,\n",
       "              min_child_weight=None, missing=nan, monotone_constraints=None,\n",
       "              n_estimators=250, n_jobs=None, num_parallel_tree=None,\n",
       "              objective='multi:softmax', predictor=None, ...)"
      ]
     },
     "execution_count": 46,
     "metadata": {},
     "output_type": "execute_result"
    }
   ],
   "source": [
    "best_params_xgb = study_xgb.best_params\n",
    "\n",
    "\n",
    "# Define the column transformer\n",
    "cat_var = [ind for ind, col in enumerate(X_train.columns) if X_train[col].dtypes=='object']\n",
    "num_var = [ind for ind, col in enumerate(X_train.columns) if X_train[col].dtypes in ['int64', 'float64']]\n",
    "\n",
    "# Define column transformer for one-hot encoding categorical features\n",
    "categorical_transformer = Pipeline([\n",
    "    ('onehot', OneHotEncoder(handle_unknown='ignore'))\n",
    "])\n",
    "\n",
    "# Define column transformer for scaling numeric features\n",
    "numerical_transformer = Pipeline([\n",
    "    ('scaler', StandardScaler())\n",
    "])\n",
    "\n",
    "# Define preprocessing pipeline\n",
    "preprocessing_pipeline = ColumnTransformer([\n",
    "    ('cat_transformer', categorical_transformer, cat_var),\n",
    "    ('num_transformer', numerical_transformer, num_var)\n",
    "# replace missing categorical values with mode and one-hot encode\n",
    "], remainder='passthrough')\n",
    "\n",
    "\n",
    "# create an XGBoost classifier\n",
    "xgb_model = xgb.XGBClassifier(**best_params_xgb, \n",
    "                            objective='multi:softmax', \n",
    "                            eval_metric='mlogloss',\n",
    "                            seed=42)\n",
    "\n",
    "# Define final pipeline with preprocessing and logistic regression model\n",
    "pipeline_xgb= Pipeline([('preprocessing', preprocessing_pipeline)])\n",
    "y_train_df = pd.Series(y_train)\n",
    "\n",
    "\n",
    "X_train_xgb = pipeline_xgb.fit_transform(X_train)\n",
    "X_test_xgb = pipeline_xgb.transform(X_test)\n",
    "\n",
    "xgb_model.fit(X_train_xgb, y_train)\n",
    "\n"
   ]
  },
  {
   "cell_type": "code",
   "execution_count": 49,
   "id": "2f57485f",
   "metadata": {},
   "outputs": [
    {
     "name": "stdout",
     "output_type": "stream",
     "text": [
      "F2 score of XGBoost Classifier: 0.798989898989899.\n"
     ]
    }
   ],
   "source": [
    "y_pred_xgb = xgb_model.predict(X_test_xgb)\n",
    "f2_score_xgb = fbeta_score(y_test, y_pred_xgb, beta=2, average='micro')\n",
    "print(f'F2 score of XGBoost Classifier: {f2_score_xgb}.')"
   ]
  },
  {
   "attachments": {},
   "cell_type": "markdown",
   "id": "cad49133",
   "metadata": {},
   "source": [
    "### Save the Best Model"
   ]
  },
  {
   "cell_type": "code",
   "execution_count": 117,
   "id": "ae4f8c2f",
   "metadata": {},
   "outputs": [],
   "source": [
    "# save the training and testing data \n",
    "with open('models/X_train.pkl', 'wb') as f:\n",
    "    pickle.dump(X_train, f)\n",
    "with open('models/X_test.pkl', 'wb') as f:\n",
    "    pickle.dump(X_test, f)\n",
    "with open('models/y_train.pkl', 'wb') as f:\n",
    "    pickle.dump(y_train, f)\n",
    "with open('models/y_test.pkl', 'wb') as f:\n",
    "    pickle.dump(y_test, f)"
   ]
  },
  {
   "cell_type": "code",
   "execution_count": 53,
   "id": "4f4d11df",
   "metadata": {},
   "outputs": [],
   "source": [
    "# Save the best preprocessing pipeline \n",
    "with open('models/xgb_preprocessing.pkl', 'wb') as f:\n",
    "    pickle.dump(pipeline_xgb, f)\n",
    "\n",
    "# save the best model\n",
    "with open('models/xgb_model.pkl', 'wb') as f:\n",
    "    pickle.dump(xgb_model, f)\n"
   ]
  },
  {
   "attachments": {},
   "cell_type": "markdown",
   "id": "0cc3458c",
   "metadata": {},
   "source": [
    "1. lack of understanding of variables (hard to address many unique values)\n",
    "2. Lack of information on business constraints (cost of repairing/replacing a water pump)"
   ]
  },
  {
   "attachments": {},
   "cell_type": "markdown",
   "id": "b759a6da",
   "metadata": {},
   "source": []
  },
  {
   "cell_type": "code",
   "execution_count": null,
   "id": "de8df44c",
   "metadata": {},
   "outputs": [],
   "source": []
  }
 ],
 "metadata": {
  "kernelspec": {
   "display_name": "venv",
   "language": "python",
   "name": "python3"
  },
  "language_info": {
   "codemirror_mode": {
    "name": "ipython",
    "version": 3
   },
   "file_extension": ".py",
   "mimetype": "text/x-python",
   "name": "python",
   "nbconvert_exporter": "python",
   "pygments_lexer": "ipython3",
   "version": "3.9.13"
  }
 },
 "nbformat": 4,
 "nbformat_minor": 5
}
